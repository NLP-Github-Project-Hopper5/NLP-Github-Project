{
 "cells": [
  {
   "cell_type": "code",
   "execution_count": 5,
   "id": "c750ae7d",
   "metadata": {},
   "outputs": [],
   "source": [
    "import unicodedata\n",
    "import re\n",
    "import json\n",
    "import nltk\n",
    "import pandas as pd\n",
    "import numpy as np\n",
    "import matplotlib.pyplot as plt\n",
    "import seaborn as sns\n",
    "import acquire_dr\n",
    "import prepare_dr\n",
    "\n",
    "from nltk.tokenize.toktok import ToktokTokenizer\n",
    "from nltk.corpus import stopwords\n",
    "from time import strftime"
   ]
  },
  {
   "cell_type": "code",
   "execution_count": 10,
   "id": "9e091d32",
   "metadata": {},
   "outputs": [
    {
     "name": "stdout",
     "output_type": "stream",
     "text": [
      "<class 'pandas.core.frame.DataFrame'>\n",
      "RangeIndex: 151 entries, 0 to 150\n",
      "Data columns (total 4 columns):\n",
      " #   Column           Non-Null Count  Dtype \n",
      "---  ------           --------------  ----- \n",
      " 0   Unnamed: 0       151 non-null    int64 \n",
      " 1   repo             151 non-null    object\n",
      " 2   language         143 non-null    object\n",
      " 3   readme_contents  147 non-null    object\n",
      "dtypes: int64(1), object(3)\n",
      "memory usage: 4.8+ KB\n"
     ]
    }
   ],
   "source": [
    "df = pd.read_csv('raw_data.csv')\n",
    "df.info()"
   ]
  },
  {
   "cell_type": "code",
   "execution_count": 18,
   "id": "474abd80",
   "metadata": {},
   "outputs": [
    {
     "data": {
      "text/plain": [
       "Swift               65\n",
       "Python              38\n",
       "C++                 15\n",
       "C                   11\n",
       "JavaScript           2\n",
       "Java                 2\n",
       "Jupyter Notebook     2\n",
       "HTML                 2\n",
       "Dockerfile           1\n",
       "Markdown             1\n",
       "Shell                1\n",
       "R                    1\n",
       "Starlark             1\n",
       "LLVM                 1\n",
       "Name: language, dtype: int64"
      ]
     },
     "execution_count": 18,
     "metadata": {},
     "output_type": "execute_result"
    }
   ],
   "source": [
    "df.language.value_counts()"
   ]
  },
  {
   "cell_type": "code",
   "execution_count": 27,
   "id": "9bb490c9",
   "metadata": {
    "scrolled": true
   },
   "outputs": [
    {
     "data": {
      "text/html": [
       "<div>\n",
       "<style scoped>\n",
       "    .dataframe tbody tr th:only-of-type {\n",
       "        vertical-align: middle;\n",
       "    }\n",
       "\n",
       "    .dataframe tbody tr th {\n",
       "        vertical-align: top;\n",
       "    }\n",
       "\n",
       "    .dataframe thead th {\n",
       "        text-align: right;\n",
       "    }\n",
       "</style>\n",
       "<table border=\"1\" class=\"dataframe\">\n",
       "  <thead>\n",
       "    <tr style=\"text-align: right;\">\n",
       "      <th></th>\n",
       "      <th>Unnamed: 0</th>\n",
       "      <th>repo</th>\n",
       "      <th>language</th>\n",
       "      <th>readme_contents</th>\n",
       "    </tr>\n",
       "  </thead>\n",
       "  <tbody>\n",
       "    <tr>\n",
       "      <th>0</th>\n",
       "      <td>0</td>\n",
       "      <td>apple/llvm-project</td>\n",
       "      <td>NaN</td>\n",
       "      <td># Apple's fork of llvm-project\\n\\nThis is Appl...</td>\n",
       "    </tr>\n",
       "    <tr>\n",
       "      <th>13</th>\n",
       "      <td>13</td>\n",
       "      <td>apple/swift-docc-render-artifact</td>\n",
       "      <td>NaN</td>\n",
       "      <td># Swift-DocC-Render-Artifact\\n\\nThis repositor...</td>\n",
       "    </tr>\n",
       "    <tr>\n",
       "      <th>14</th>\n",
       "      <td>14</td>\n",
       "      <td>apple/swift-lmdb</td>\n",
       "      <td>NaN</td>\n",
       "      <td># CLMDB\\n\\nCLMDB is a SwiftPM package wrapper ...</td>\n",
       "    </tr>\n",
       "    <tr>\n",
       "      <th>83</th>\n",
       "      <td>83</td>\n",
       "      <td>apple/swift-community-hosted-continuous-integr...</td>\n",
       "      <td>NaN</td>\n",
       "      <td># Swift Community-Hosted Continuous Integratio...</td>\n",
       "    </tr>\n",
       "    <tr>\n",
       "      <th>123</th>\n",
       "      <td>123</td>\n",
       "      <td>apple/ml-transcript-translation-consistency-ra...</td>\n",
       "      <td>NaN</td>\n",
       "      <td># Human Ratings of Transcription/Translation C...</td>\n",
       "    </tr>\n",
       "    <tr>\n",
       "      <th>139</th>\n",
       "      <td>139</td>\n",
       "      <td>apple/llvm-monorepo-root</td>\n",
       "      <td>NaN</td>\n",
       "      <td># Disclaimer\\n\\nThe [llvm-monorepo-root](https...</td>\n",
       "    </tr>\n",
       "    <tr>\n",
       "      <th>145</th>\n",
       "      <td>145</td>\n",
       "      <td>apple/swift-protobuf-plugin</td>\n",
       "      <td>NaN</td>\n",
       "      <td>&lt;img src=\"https://swift.org/assets/images/swif...</td>\n",
       "    </tr>\n",
       "    <tr>\n",
       "      <th>149</th>\n",
       "      <td>149</td>\n",
       "      <td>apple/swift-protobuf-test-conformance</td>\n",
       "      <td>NaN</td>\n",
       "      <td>&lt;img src=\"https://swift.org/assets/images/swif...</td>\n",
       "    </tr>\n",
       "  </tbody>\n",
       "</table>\n",
       "</div>"
      ],
      "text/plain": [
       "     Unnamed: 0                                               repo language  \\\n",
       "0             0                                 apple/llvm-project      NaN   \n",
       "13           13                   apple/swift-docc-render-artifact      NaN   \n",
       "14           14                                   apple/swift-lmdb      NaN   \n",
       "83           83  apple/swift-community-hosted-continuous-integr...      NaN   \n",
       "123         123  apple/ml-transcript-translation-consistency-ra...      NaN   \n",
       "139         139                           apple/llvm-monorepo-root      NaN   \n",
       "145         145                        apple/swift-protobuf-plugin      NaN   \n",
       "149         149              apple/swift-protobuf-test-conformance      NaN   \n",
       "\n",
       "                                       readme_contents  \n",
       "0    # Apple's fork of llvm-project\\n\\nThis is Appl...  \n",
       "13   # Swift-DocC-Render-Artifact\\n\\nThis repositor...  \n",
       "14   # CLMDB\\n\\nCLMDB is a SwiftPM package wrapper ...  \n",
       "83   # Swift Community-Hosted Continuous Integratio...  \n",
       "123  # Human Ratings of Transcription/Translation C...  \n",
       "139  # Disclaimer\\n\\nThe [llvm-monorepo-root](https...  \n",
       "145  <img src=\"https://swift.org/assets/images/swif...  \n",
       "149  <img src=\"https://swift.org/assets/images/swif...  "
      ]
     },
     "execution_count": 27,
     "metadata": {},
     "output_type": "execute_result"
    }
   ],
   "source": [
    "df[df.language.isnull()]"
   ]
  },
  {
   "cell_type": "markdown",
   "id": "bbe711df",
   "metadata": {},
   "source": [
    "#### Observations:\n",
    "\n",
    "- There are some repositories lacking a specified language, not sure how to proceed there but there's only 8 rows missing languages\n",
    "    - an idea is to infer the language based on the repository title\n",
    "- llvm project does not specify language\n",
    "- swift docc render does not specify language but an idea would be to infer it's a majority swift repo?\n",
    "- swift imdb is C, not sure why the acquire function didn't pick it up\n",
    "- swift community hosted... does not specify language but an idea would be to infer it's a majority swift repo?\n",
    "- ml transcript translation's repo looks like is just csv files\n",
    "- llvm monorepo root is a wip repository for apple's open source Swift project.\n",
    "- swift protobuf plugin was combined under the swift-protobuf repo, which is majority swift programming language\n",
    "- swift protobuf test conformance was combined under the swift-protobuf repo, which is majority swift programming language"
   ]
  },
  {
   "cell_type": "code",
   "execution_count": 31,
   "id": "9f538ff5",
   "metadata": {},
   "outputs": [
    {
     "data": {
      "text/plain": [
       "83    apple/swift-community-hosted-continuous-integr...\n",
       "Name: repo, dtype: object"
      ]
     },
     "execution_count": 31,
     "metadata": {},
     "output_type": "execute_result"
    }
   ],
   "source": [
    "df[df.index == 83].repo"
   ]
  },
  {
   "cell_type": "code",
   "execution_count": 24,
   "id": "65e17646",
   "metadata": {},
   "outputs": [],
   "source": [
    "nan_languages = list(df[df.language.isnull()].index)"
   ]
  },
  {
   "cell_type": "code",
   "execution_count": 26,
   "id": "3365d65c",
   "metadata": {},
   "outputs": [
    {
     "data": {
      "text/html": [
       "<div>\n",
       "<style scoped>\n",
       "    .dataframe tbody tr th:only-of-type {\n",
       "        vertical-align: middle;\n",
       "    }\n",
       "\n",
       "    .dataframe tbody tr th {\n",
       "        vertical-align: top;\n",
       "    }\n",
       "\n",
       "    .dataframe thead th {\n",
       "        text-align: right;\n",
       "    }\n",
       "</style>\n",
       "<table border=\"1\" class=\"dataframe\">\n",
       "  <thead>\n",
       "    <tr style=\"text-align: right;\">\n",
       "      <th></th>\n",
       "      <th>Unnamed: 0</th>\n",
       "      <th>repo</th>\n",
       "      <th>language</th>\n",
       "      <th>readme_contents</th>\n",
       "    </tr>\n",
       "  </thead>\n",
       "  <tbody>\n",
       "    <tr>\n",
       "      <th>0</th>\n",
       "      <td>0</td>\n",
       "      <td>apple/llvm-project</td>\n",
       "      <td>NaN</td>\n",
       "      <td># Apple's fork of llvm-project\\n\\nThis is Appl...</td>\n",
       "    </tr>\n",
       "  </tbody>\n",
       "</table>\n",
       "</div>"
      ],
      "text/plain": [
       "   Unnamed: 0                repo language  \\\n",
       "0           0  apple/llvm-project      NaN   \n",
       "\n",
       "                                     readme_contents  \n",
       "0  # Apple's fork of llvm-project\\n\\nThis is Appl...  "
      ]
     },
     "metadata": {},
     "output_type": "display_data"
    },
    {
     "data": {
      "text/html": [
       "<div>\n",
       "<style scoped>\n",
       "    .dataframe tbody tr th:only-of-type {\n",
       "        vertical-align: middle;\n",
       "    }\n",
       "\n",
       "    .dataframe tbody tr th {\n",
       "        vertical-align: top;\n",
       "    }\n",
       "\n",
       "    .dataframe thead th {\n",
       "        text-align: right;\n",
       "    }\n",
       "</style>\n",
       "<table border=\"1\" class=\"dataframe\">\n",
       "  <thead>\n",
       "    <tr style=\"text-align: right;\">\n",
       "      <th></th>\n",
       "      <th>Unnamed: 0</th>\n",
       "      <th>repo</th>\n",
       "      <th>language</th>\n",
       "      <th>readme_contents</th>\n",
       "    </tr>\n",
       "  </thead>\n",
       "  <tbody>\n",
       "    <tr>\n",
       "      <th>13</th>\n",
       "      <td>13</td>\n",
       "      <td>apple/swift-docc-render-artifact</td>\n",
       "      <td>NaN</td>\n",
       "      <td># Swift-DocC-Render-Artifact\\n\\nThis repositor...</td>\n",
       "    </tr>\n",
       "  </tbody>\n",
       "</table>\n",
       "</div>"
      ],
      "text/plain": [
       "    Unnamed: 0                              repo language  \\\n",
       "13          13  apple/swift-docc-render-artifact      NaN   \n",
       "\n",
       "                                      readme_contents  \n",
       "13  # Swift-DocC-Render-Artifact\\n\\nThis repositor...  "
      ]
     },
     "metadata": {},
     "output_type": "display_data"
    },
    {
     "data": {
      "text/html": [
       "<div>\n",
       "<style scoped>\n",
       "    .dataframe tbody tr th:only-of-type {\n",
       "        vertical-align: middle;\n",
       "    }\n",
       "\n",
       "    .dataframe tbody tr th {\n",
       "        vertical-align: top;\n",
       "    }\n",
       "\n",
       "    .dataframe thead th {\n",
       "        text-align: right;\n",
       "    }\n",
       "</style>\n",
       "<table border=\"1\" class=\"dataframe\">\n",
       "  <thead>\n",
       "    <tr style=\"text-align: right;\">\n",
       "      <th></th>\n",
       "      <th>Unnamed: 0</th>\n",
       "      <th>repo</th>\n",
       "      <th>language</th>\n",
       "      <th>readme_contents</th>\n",
       "    </tr>\n",
       "  </thead>\n",
       "  <tbody>\n",
       "    <tr>\n",
       "      <th>14</th>\n",
       "      <td>14</td>\n",
       "      <td>apple/swift-lmdb</td>\n",
       "      <td>NaN</td>\n",
       "      <td># CLMDB\\n\\nCLMDB is a SwiftPM package wrapper ...</td>\n",
       "    </tr>\n",
       "  </tbody>\n",
       "</table>\n",
       "</div>"
      ],
      "text/plain": [
       "    Unnamed: 0              repo language  \\\n",
       "14          14  apple/swift-lmdb      NaN   \n",
       "\n",
       "                                      readme_contents  \n",
       "14  # CLMDB\\n\\nCLMDB is a SwiftPM package wrapper ...  "
      ]
     },
     "metadata": {},
     "output_type": "display_data"
    },
    {
     "data": {
      "text/html": [
       "<div>\n",
       "<style scoped>\n",
       "    .dataframe tbody tr th:only-of-type {\n",
       "        vertical-align: middle;\n",
       "    }\n",
       "\n",
       "    .dataframe tbody tr th {\n",
       "        vertical-align: top;\n",
       "    }\n",
       "\n",
       "    .dataframe thead th {\n",
       "        text-align: right;\n",
       "    }\n",
       "</style>\n",
       "<table border=\"1\" class=\"dataframe\">\n",
       "  <thead>\n",
       "    <tr style=\"text-align: right;\">\n",
       "      <th></th>\n",
       "      <th>Unnamed: 0</th>\n",
       "      <th>repo</th>\n",
       "      <th>language</th>\n",
       "      <th>readme_contents</th>\n",
       "    </tr>\n",
       "  </thead>\n",
       "  <tbody>\n",
       "    <tr>\n",
       "      <th>83</th>\n",
       "      <td>83</td>\n",
       "      <td>apple/swift-community-hosted-continuous-integr...</td>\n",
       "      <td>NaN</td>\n",
       "      <td># Swift Community-Hosted Continuous Integratio...</td>\n",
       "    </tr>\n",
       "  </tbody>\n",
       "</table>\n",
       "</div>"
      ],
      "text/plain": [
       "    Unnamed: 0                                               repo language  \\\n",
       "83          83  apple/swift-community-hosted-continuous-integr...      NaN   \n",
       "\n",
       "                                      readme_contents  \n",
       "83  # Swift Community-Hosted Continuous Integratio...  "
      ]
     },
     "metadata": {},
     "output_type": "display_data"
    },
    {
     "data": {
      "text/html": [
       "<div>\n",
       "<style scoped>\n",
       "    .dataframe tbody tr th:only-of-type {\n",
       "        vertical-align: middle;\n",
       "    }\n",
       "\n",
       "    .dataframe tbody tr th {\n",
       "        vertical-align: top;\n",
       "    }\n",
       "\n",
       "    .dataframe thead th {\n",
       "        text-align: right;\n",
       "    }\n",
       "</style>\n",
       "<table border=\"1\" class=\"dataframe\">\n",
       "  <thead>\n",
       "    <tr style=\"text-align: right;\">\n",
       "      <th></th>\n",
       "      <th>Unnamed: 0</th>\n",
       "      <th>repo</th>\n",
       "      <th>language</th>\n",
       "      <th>readme_contents</th>\n",
       "    </tr>\n",
       "  </thead>\n",
       "  <tbody>\n",
       "    <tr>\n",
       "      <th>123</th>\n",
       "      <td>123</td>\n",
       "      <td>apple/ml-transcript-translation-consistency-ra...</td>\n",
       "      <td>NaN</td>\n",
       "      <td># Human Ratings of Transcription/Translation C...</td>\n",
       "    </tr>\n",
       "  </tbody>\n",
       "</table>\n",
       "</div>"
      ],
      "text/plain": [
       "     Unnamed: 0                                               repo language  \\\n",
       "123         123  apple/ml-transcript-translation-consistency-ra...      NaN   \n",
       "\n",
       "                                       readme_contents  \n",
       "123  # Human Ratings of Transcription/Translation C...  "
      ]
     },
     "metadata": {},
     "output_type": "display_data"
    },
    {
     "data": {
      "text/html": [
       "<div>\n",
       "<style scoped>\n",
       "    .dataframe tbody tr th:only-of-type {\n",
       "        vertical-align: middle;\n",
       "    }\n",
       "\n",
       "    .dataframe tbody tr th {\n",
       "        vertical-align: top;\n",
       "    }\n",
       "\n",
       "    .dataframe thead th {\n",
       "        text-align: right;\n",
       "    }\n",
       "</style>\n",
       "<table border=\"1\" class=\"dataframe\">\n",
       "  <thead>\n",
       "    <tr style=\"text-align: right;\">\n",
       "      <th></th>\n",
       "      <th>Unnamed: 0</th>\n",
       "      <th>repo</th>\n",
       "      <th>language</th>\n",
       "      <th>readme_contents</th>\n",
       "    </tr>\n",
       "  </thead>\n",
       "  <tbody>\n",
       "    <tr>\n",
       "      <th>139</th>\n",
       "      <td>139</td>\n",
       "      <td>apple/llvm-monorepo-root</td>\n",
       "      <td>NaN</td>\n",
       "      <td># Disclaimer\\n\\nThe [llvm-monorepo-root](https...</td>\n",
       "    </tr>\n",
       "  </tbody>\n",
       "</table>\n",
       "</div>"
      ],
      "text/plain": [
       "     Unnamed: 0                      repo language  \\\n",
       "139         139  apple/llvm-monorepo-root      NaN   \n",
       "\n",
       "                                       readme_contents  \n",
       "139  # Disclaimer\\n\\nThe [llvm-monorepo-root](https...  "
      ]
     },
     "metadata": {},
     "output_type": "display_data"
    },
    {
     "data": {
      "text/html": [
       "<div>\n",
       "<style scoped>\n",
       "    .dataframe tbody tr th:only-of-type {\n",
       "        vertical-align: middle;\n",
       "    }\n",
       "\n",
       "    .dataframe tbody tr th {\n",
       "        vertical-align: top;\n",
       "    }\n",
       "\n",
       "    .dataframe thead th {\n",
       "        text-align: right;\n",
       "    }\n",
       "</style>\n",
       "<table border=\"1\" class=\"dataframe\">\n",
       "  <thead>\n",
       "    <tr style=\"text-align: right;\">\n",
       "      <th></th>\n",
       "      <th>Unnamed: 0</th>\n",
       "      <th>repo</th>\n",
       "      <th>language</th>\n",
       "      <th>readme_contents</th>\n",
       "    </tr>\n",
       "  </thead>\n",
       "  <tbody>\n",
       "    <tr>\n",
       "      <th>145</th>\n",
       "      <td>145</td>\n",
       "      <td>apple/swift-protobuf-plugin</td>\n",
       "      <td>NaN</td>\n",
       "      <td>&lt;img src=\"https://swift.org/assets/images/swif...</td>\n",
       "    </tr>\n",
       "  </tbody>\n",
       "</table>\n",
       "</div>"
      ],
      "text/plain": [
       "     Unnamed: 0                         repo language  \\\n",
       "145         145  apple/swift-protobuf-plugin      NaN   \n",
       "\n",
       "                                       readme_contents  \n",
       "145  <img src=\"https://swift.org/assets/images/swif...  "
      ]
     },
     "metadata": {},
     "output_type": "display_data"
    },
    {
     "data": {
      "text/html": [
       "<div>\n",
       "<style scoped>\n",
       "    .dataframe tbody tr th:only-of-type {\n",
       "        vertical-align: middle;\n",
       "    }\n",
       "\n",
       "    .dataframe tbody tr th {\n",
       "        vertical-align: top;\n",
       "    }\n",
       "\n",
       "    .dataframe thead th {\n",
       "        text-align: right;\n",
       "    }\n",
       "</style>\n",
       "<table border=\"1\" class=\"dataframe\">\n",
       "  <thead>\n",
       "    <tr style=\"text-align: right;\">\n",
       "      <th></th>\n",
       "      <th>Unnamed: 0</th>\n",
       "      <th>repo</th>\n",
       "      <th>language</th>\n",
       "      <th>readme_contents</th>\n",
       "    </tr>\n",
       "  </thead>\n",
       "  <tbody>\n",
       "    <tr>\n",
       "      <th>149</th>\n",
       "      <td>149</td>\n",
       "      <td>apple/swift-protobuf-test-conformance</td>\n",
       "      <td>NaN</td>\n",
       "      <td>&lt;img src=\"https://swift.org/assets/images/swif...</td>\n",
       "    </tr>\n",
       "  </tbody>\n",
       "</table>\n",
       "</div>"
      ],
      "text/plain": [
       "     Unnamed: 0                                   repo language  \\\n",
       "149         149  apple/swift-protobuf-test-conformance      NaN   \n",
       "\n",
       "                                       readme_contents  \n",
       "149  <img src=\"https://swift.org/assets/images/swif...  "
      ]
     },
     "metadata": {},
     "output_type": "display_data"
    }
   ],
   "source": [
    "for i in nan_languages:\n",
    "    display(df[df.index == i])"
   ]
  },
  {
   "cell_type": "code",
   "execution_count": null,
   "id": "a9846d30",
   "metadata": {},
   "outputs": [],
   "source": []
  },
  {
   "cell_type": "code",
   "execution_count": null,
   "id": "a2c47637",
   "metadata": {},
   "outputs": [],
   "source": []
  },
  {
   "cell_type": "code",
   "execution_count": null,
   "id": "12cb6747",
   "metadata": {},
   "outputs": [],
   "source": []
  },
  {
   "cell_type": "code",
   "execution_count": null,
   "id": "41a920d0",
   "metadata": {},
   "outputs": [],
   "source": []
  }
 ],
 "metadata": {
  "kernelspec": {
   "display_name": "Python 3 (ipykernel)",
   "language": "python",
   "name": "python3"
  },
  "language_info": {
   "codemirror_mode": {
    "name": "ipython",
    "version": 3
   },
   "file_extension": ".py",
   "mimetype": "text/x-python",
   "name": "python",
   "nbconvert_exporter": "python",
   "pygments_lexer": "ipython3",
   "version": "3.7.3"
  }
 },
 "nbformat": 4,
 "nbformat_minor": 5
}
