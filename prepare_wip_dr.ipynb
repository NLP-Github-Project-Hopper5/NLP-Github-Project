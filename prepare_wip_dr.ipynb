{
 "cells": [
  {
   "cell_type": "code",
   "execution_count": 55,
   "id": "2a9e26dc",
   "metadata": {},
   "outputs": [],
   "source": [
    "import unicodedata\n",
    "import re\n",
    "import json\n",
    "import nltk\n",
    "import pandas as pd\n",
    "import numpy as np\n",
    "import matplotlib.pyplot as plt\n",
    "import seaborn as sns\n",
    "import acquire_dr\n",
    "import prepare_dr\n",
    "#import prepare_jag\n",
    "\n",
    "from nltk.tokenize.toktok import ToktokTokenizer\n",
    "from nltk.corpus import stopwords\n",
    "from time import strftime\n",
    "from wordcloud import WordCloud\n",
    "from pprint import pprint\n",
    "from sklearn.feature_extraction.text import TfidfVectorizer\n",
    "from sklearn.model_selection import train_test_split\n",
    "from sklearn.linear_model import LogisticRegression\n",
    "from sklearn.tree import DecisionTreeClassifier, plot_tree\n",
    "from sklearn.ensemble import RandomForestClassifier\n",
    "from sklearn.neighbors import KNeighborsClassifier\n",
    "from sklearn.metrics import classification_report, accuracy_score\n",
    "from sklearn.feature_extraction.text import CountVectorizer\n"
   ]
  },
  {
   "cell_type": "code",
   "execution_count": 2,
   "id": "0c6132be",
   "metadata": {},
   "outputs": [
    {
     "name": "stdout",
     "output_type": "stream",
     "text": [
      "<class 'pandas.core.frame.DataFrame'>\n",
      "RangeIndex: 151 entries, 0 to 150\n",
      "Data columns (total 4 columns):\n",
      " #   Column           Non-Null Count  Dtype \n",
      "---  ------           --------------  ----- \n",
      " 0   Unnamed: 0       151 non-null    int64 \n",
      " 1   repo             151 non-null    object\n",
      " 2   language         143 non-null    object\n",
      " 3   readme_contents  147 non-null    object\n",
      "dtypes: int64(1), object(3)\n",
      "memory usage: 4.8+ KB\n"
     ]
    }
   ],
   "source": [
    "df = pd.read_csv('raw_data.csv')\n",
    "df.info()"
   ]
  },
  {
   "cell_type": "code",
   "execution_count": 3,
   "id": "7fa9e5e4",
   "metadata": {},
   "outputs": [
    {
     "data": {
      "text/plain": [
       "Swift               65\n",
       "Python              38\n",
       "C++                 15\n",
       "C                   11\n",
       "JavaScript           2\n",
       "Java                 2\n",
       "Jupyter Notebook     2\n",
       "HTML                 2\n",
       "Dockerfile           1\n",
       "Markdown             1\n",
       "Shell                1\n",
       "R                    1\n",
       "Starlark             1\n",
       "LLVM                 1\n",
       "Name: language, dtype: int64"
      ]
     },
     "execution_count": 3,
     "metadata": {},
     "output_type": "execute_result"
    }
   ],
   "source": [
    "df.language.value_counts()"
   ]
  },
  {
   "cell_type": "code",
   "execution_count": 4,
   "id": "15abe38d",
   "metadata": {
    "scrolled": true
   },
   "outputs": [
    {
     "data": {
      "text/html": [
       "<div>\n",
       "<style scoped>\n",
       "    .dataframe tbody tr th:only-of-type {\n",
       "        vertical-align: middle;\n",
       "    }\n",
       "\n",
       "    .dataframe tbody tr th {\n",
       "        vertical-align: top;\n",
       "    }\n",
       "\n",
       "    .dataframe thead th {\n",
       "        text-align: right;\n",
       "    }\n",
       "</style>\n",
       "<table border=\"1\" class=\"dataframe\">\n",
       "  <thead>\n",
       "    <tr style=\"text-align: right;\">\n",
       "      <th></th>\n",
       "      <th>Unnamed: 0</th>\n",
       "      <th>repo</th>\n",
       "      <th>language</th>\n",
       "      <th>readme_contents</th>\n",
       "    </tr>\n",
       "  </thead>\n",
       "  <tbody>\n",
       "    <tr>\n",
       "      <th>0</th>\n",
       "      <td>0</td>\n",
       "      <td>apple/llvm-project</td>\n",
       "      <td>NaN</td>\n",
       "      <td># Apple's fork of llvm-project\\n\\nThis is Appl...</td>\n",
       "    </tr>\n",
       "    <tr>\n",
       "      <th>13</th>\n",
       "      <td>13</td>\n",
       "      <td>apple/swift-docc-render-artifact</td>\n",
       "      <td>NaN</td>\n",
       "      <td># Swift-DocC-Render-Artifact\\n\\nThis repositor...</td>\n",
       "    </tr>\n",
       "    <tr>\n",
       "      <th>14</th>\n",
       "      <td>14</td>\n",
       "      <td>apple/swift-lmdb</td>\n",
       "      <td>NaN</td>\n",
       "      <td># CLMDB\\n\\nCLMDB is a SwiftPM package wrapper ...</td>\n",
       "    </tr>\n",
       "    <tr>\n",
       "      <th>83</th>\n",
       "      <td>83</td>\n",
       "      <td>apple/swift-community-hosted-continuous-integr...</td>\n",
       "      <td>NaN</td>\n",
       "      <td># Swift Community-Hosted Continuous Integratio...</td>\n",
       "    </tr>\n",
       "    <tr>\n",
       "      <th>123</th>\n",
       "      <td>123</td>\n",
       "      <td>apple/ml-transcript-translation-consistency-ra...</td>\n",
       "      <td>NaN</td>\n",
       "      <td># Human Ratings of Transcription/Translation C...</td>\n",
       "    </tr>\n",
       "    <tr>\n",
       "      <th>139</th>\n",
       "      <td>139</td>\n",
       "      <td>apple/llvm-monorepo-root</td>\n",
       "      <td>NaN</td>\n",
       "      <td># Disclaimer\\n\\nThe [llvm-monorepo-root](https...</td>\n",
       "    </tr>\n",
       "    <tr>\n",
       "      <th>145</th>\n",
       "      <td>145</td>\n",
       "      <td>apple/swift-protobuf-plugin</td>\n",
       "      <td>NaN</td>\n",
       "      <td>&lt;img src=\"https://swift.org/assets/images/swif...</td>\n",
       "    </tr>\n",
       "    <tr>\n",
       "      <th>149</th>\n",
       "      <td>149</td>\n",
       "      <td>apple/swift-protobuf-test-conformance</td>\n",
       "      <td>NaN</td>\n",
       "      <td>&lt;img src=\"https://swift.org/assets/images/swif...</td>\n",
       "    </tr>\n",
       "  </tbody>\n",
       "</table>\n",
       "</div>"
      ],
      "text/plain": [
       "     Unnamed: 0                                               repo language  \\\n",
       "0             0                                 apple/llvm-project      NaN   \n",
       "13           13                   apple/swift-docc-render-artifact      NaN   \n",
       "14           14                                   apple/swift-lmdb      NaN   \n",
       "83           83  apple/swift-community-hosted-continuous-integr...      NaN   \n",
       "123         123  apple/ml-transcript-translation-consistency-ra...      NaN   \n",
       "139         139                           apple/llvm-monorepo-root      NaN   \n",
       "145         145                        apple/swift-protobuf-plugin      NaN   \n",
       "149         149              apple/swift-protobuf-test-conformance      NaN   \n",
       "\n",
       "                                       readme_contents  \n",
       "0    # Apple's fork of llvm-project\\n\\nThis is Appl...  \n",
       "13   # Swift-DocC-Render-Artifact\\n\\nThis repositor...  \n",
       "14   # CLMDB\\n\\nCLMDB is a SwiftPM package wrapper ...  \n",
       "83   # Swift Community-Hosted Continuous Integratio...  \n",
       "123  # Human Ratings of Transcription/Translation C...  \n",
       "139  # Disclaimer\\n\\nThe [llvm-monorepo-root](https...  \n",
       "145  <img src=\"https://swift.org/assets/images/swif...  \n",
       "149  <img src=\"https://swift.org/assets/images/swif...  "
      ]
     },
     "execution_count": 4,
     "metadata": {},
     "output_type": "execute_result"
    }
   ],
   "source": [
    "df[df.language.isnull()]"
   ]
  },
  {
   "cell_type": "markdown",
   "id": "11c0042f",
   "metadata": {},
   "source": [
    "#### Observations:\n",
    "\n",
    "- There are some repositories lacking a specified language, not sure how to proceed there but there's only 8 rows missing languages\n",
    "    - an idea is to infer the language based on the repository title\n",
    "- llvm project does not specify language but readme states the repo contains source code for LLVM, so go with `LLVM`?\n",
    "- swift docc render artifact does not specify language but the readme states that the repository holds a pre-built copy of the swift docc render repo, which is majority `javascript`\n",
    "- swift imdb is `C`, not sure why the acquire function didn't pick it up\n",
    "- swift community hosted continuous integration is an extension of Swift ci which allows community memberts to add platforms.\n",
    "    - Seems like the most recent uploads to the swift ci site are `swift` based files.\n",
    "- ml transcript translation's repo looks like is just csv files\n",
    "- llvm monorepo root is a wip repository for apple's open source `Swift` project.\n",
    "- swift protobuf plugin was combined under the swift-protobuf repo, which is majority `swift` programming language\n",
    "- swift protobuf test conformance was combined under the swift-protobuf repo, which is majority `swift` programming language"
   ]
  },
  {
   "cell_type": "code",
   "execution_count": 5,
   "id": "f4f39782",
   "metadata": {},
   "outputs": [
    {
     "data": {
      "text/plain": [
       "83    apple/swift-community-hosted-continuous-integr...\n",
       "Name: repo, dtype: object"
      ]
     },
     "execution_count": 5,
     "metadata": {},
     "output_type": "execute_result"
    }
   ],
   "source": [
    "df[df.index == 83].repo"
   ]
  },
  {
   "cell_type": "code",
   "execution_count": 6,
   "id": "86e8758f",
   "metadata": {},
   "outputs": [],
   "source": [
    "nan_languages = list(df[df.language.isnull()].index)"
   ]
  },
  {
   "cell_type": "code",
   "execution_count": 7,
   "id": "71d94b20",
   "metadata": {
    "scrolled": true
   },
   "outputs": [
    {
     "data": {
      "text/html": [
       "<div>\n",
       "<style scoped>\n",
       "    .dataframe tbody tr th:only-of-type {\n",
       "        vertical-align: middle;\n",
       "    }\n",
       "\n",
       "    .dataframe tbody tr th {\n",
       "        vertical-align: top;\n",
       "    }\n",
       "\n",
       "    .dataframe thead th {\n",
       "        text-align: right;\n",
       "    }\n",
       "</style>\n",
       "<table border=\"1\" class=\"dataframe\">\n",
       "  <thead>\n",
       "    <tr style=\"text-align: right;\">\n",
       "      <th></th>\n",
       "      <th>Unnamed: 0</th>\n",
       "      <th>repo</th>\n",
       "      <th>language</th>\n",
       "      <th>readme_contents</th>\n",
       "    </tr>\n",
       "  </thead>\n",
       "  <tbody>\n",
       "    <tr>\n",
       "      <th>0</th>\n",
       "      <td>0</td>\n",
       "      <td>apple/llvm-project</td>\n",
       "      <td>NaN</td>\n",
       "      <td># Apple's fork of llvm-project\\n\\nThis is Appl...</td>\n",
       "    </tr>\n",
       "  </tbody>\n",
       "</table>\n",
       "</div>"
      ],
      "text/plain": [
       "   Unnamed: 0                repo language  \\\n",
       "0           0  apple/llvm-project      NaN   \n",
       "\n",
       "                                     readme_contents  \n",
       "0  # Apple's fork of llvm-project\\n\\nThis is Appl...  "
      ]
     },
     "metadata": {},
     "output_type": "display_data"
    },
    {
     "data": {
      "text/html": [
       "<div>\n",
       "<style scoped>\n",
       "    .dataframe tbody tr th:only-of-type {\n",
       "        vertical-align: middle;\n",
       "    }\n",
       "\n",
       "    .dataframe tbody tr th {\n",
       "        vertical-align: top;\n",
       "    }\n",
       "\n",
       "    .dataframe thead th {\n",
       "        text-align: right;\n",
       "    }\n",
       "</style>\n",
       "<table border=\"1\" class=\"dataframe\">\n",
       "  <thead>\n",
       "    <tr style=\"text-align: right;\">\n",
       "      <th></th>\n",
       "      <th>Unnamed: 0</th>\n",
       "      <th>repo</th>\n",
       "      <th>language</th>\n",
       "      <th>readme_contents</th>\n",
       "    </tr>\n",
       "  </thead>\n",
       "  <tbody>\n",
       "    <tr>\n",
       "      <th>13</th>\n",
       "      <td>13</td>\n",
       "      <td>apple/swift-docc-render-artifact</td>\n",
       "      <td>NaN</td>\n",
       "      <td># Swift-DocC-Render-Artifact\\n\\nThis repositor...</td>\n",
       "    </tr>\n",
       "  </tbody>\n",
       "</table>\n",
       "</div>"
      ],
      "text/plain": [
       "    Unnamed: 0                              repo language  \\\n",
       "13          13  apple/swift-docc-render-artifact      NaN   \n",
       "\n",
       "                                      readme_contents  \n",
       "13  # Swift-DocC-Render-Artifact\\n\\nThis repositor...  "
      ]
     },
     "metadata": {},
     "output_type": "display_data"
    },
    {
     "data": {
      "text/html": [
       "<div>\n",
       "<style scoped>\n",
       "    .dataframe tbody tr th:only-of-type {\n",
       "        vertical-align: middle;\n",
       "    }\n",
       "\n",
       "    .dataframe tbody tr th {\n",
       "        vertical-align: top;\n",
       "    }\n",
       "\n",
       "    .dataframe thead th {\n",
       "        text-align: right;\n",
       "    }\n",
       "</style>\n",
       "<table border=\"1\" class=\"dataframe\">\n",
       "  <thead>\n",
       "    <tr style=\"text-align: right;\">\n",
       "      <th></th>\n",
       "      <th>Unnamed: 0</th>\n",
       "      <th>repo</th>\n",
       "      <th>language</th>\n",
       "      <th>readme_contents</th>\n",
       "    </tr>\n",
       "  </thead>\n",
       "  <tbody>\n",
       "    <tr>\n",
       "      <th>14</th>\n",
       "      <td>14</td>\n",
       "      <td>apple/swift-lmdb</td>\n",
       "      <td>NaN</td>\n",
       "      <td># CLMDB\\n\\nCLMDB is a SwiftPM package wrapper ...</td>\n",
       "    </tr>\n",
       "  </tbody>\n",
       "</table>\n",
       "</div>"
      ],
      "text/plain": [
       "    Unnamed: 0              repo language  \\\n",
       "14          14  apple/swift-lmdb      NaN   \n",
       "\n",
       "                                      readme_contents  \n",
       "14  # CLMDB\\n\\nCLMDB is a SwiftPM package wrapper ...  "
      ]
     },
     "metadata": {},
     "output_type": "display_data"
    },
    {
     "data": {
      "text/html": [
       "<div>\n",
       "<style scoped>\n",
       "    .dataframe tbody tr th:only-of-type {\n",
       "        vertical-align: middle;\n",
       "    }\n",
       "\n",
       "    .dataframe tbody tr th {\n",
       "        vertical-align: top;\n",
       "    }\n",
       "\n",
       "    .dataframe thead th {\n",
       "        text-align: right;\n",
       "    }\n",
       "</style>\n",
       "<table border=\"1\" class=\"dataframe\">\n",
       "  <thead>\n",
       "    <tr style=\"text-align: right;\">\n",
       "      <th></th>\n",
       "      <th>Unnamed: 0</th>\n",
       "      <th>repo</th>\n",
       "      <th>language</th>\n",
       "      <th>readme_contents</th>\n",
       "    </tr>\n",
       "  </thead>\n",
       "  <tbody>\n",
       "    <tr>\n",
       "      <th>83</th>\n",
       "      <td>83</td>\n",
       "      <td>apple/swift-community-hosted-continuous-integr...</td>\n",
       "      <td>NaN</td>\n",
       "      <td># Swift Community-Hosted Continuous Integratio...</td>\n",
       "    </tr>\n",
       "  </tbody>\n",
       "</table>\n",
       "</div>"
      ],
      "text/plain": [
       "    Unnamed: 0                                               repo language  \\\n",
       "83          83  apple/swift-community-hosted-continuous-integr...      NaN   \n",
       "\n",
       "                                      readme_contents  \n",
       "83  # Swift Community-Hosted Continuous Integratio...  "
      ]
     },
     "metadata": {},
     "output_type": "display_data"
    },
    {
     "data": {
      "text/html": [
       "<div>\n",
       "<style scoped>\n",
       "    .dataframe tbody tr th:only-of-type {\n",
       "        vertical-align: middle;\n",
       "    }\n",
       "\n",
       "    .dataframe tbody tr th {\n",
       "        vertical-align: top;\n",
       "    }\n",
       "\n",
       "    .dataframe thead th {\n",
       "        text-align: right;\n",
       "    }\n",
       "</style>\n",
       "<table border=\"1\" class=\"dataframe\">\n",
       "  <thead>\n",
       "    <tr style=\"text-align: right;\">\n",
       "      <th></th>\n",
       "      <th>Unnamed: 0</th>\n",
       "      <th>repo</th>\n",
       "      <th>language</th>\n",
       "      <th>readme_contents</th>\n",
       "    </tr>\n",
       "  </thead>\n",
       "  <tbody>\n",
       "    <tr>\n",
       "      <th>123</th>\n",
       "      <td>123</td>\n",
       "      <td>apple/ml-transcript-translation-consistency-ra...</td>\n",
       "      <td>NaN</td>\n",
       "      <td># Human Ratings of Transcription/Translation C...</td>\n",
       "    </tr>\n",
       "  </tbody>\n",
       "</table>\n",
       "</div>"
      ],
      "text/plain": [
       "     Unnamed: 0                                               repo language  \\\n",
       "123         123  apple/ml-transcript-translation-consistency-ra...      NaN   \n",
       "\n",
       "                                       readme_contents  \n",
       "123  # Human Ratings of Transcription/Translation C...  "
      ]
     },
     "metadata": {},
     "output_type": "display_data"
    },
    {
     "data": {
      "text/html": [
       "<div>\n",
       "<style scoped>\n",
       "    .dataframe tbody tr th:only-of-type {\n",
       "        vertical-align: middle;\n",
       "    }\n",
       "\n",
       "    .dataframe tbody tr th {\n",
       "        vertical-align: top;\n",
       "    }\n",
       "\n",
       "    .dataframe thead th {\n",
       "        text-align: right;\n",
       "    }\n",
       "</style>\n",
       "<table border=\"1\" class=\"dataframe\">\n",
       "  <thead>\n",
       "    <tr style=\"text-align: right;\">\n",
       "      <th></th>\n",
       "      <th>Unnamed: 0</th>\n",
       "      <th>repo</th>\n",
       "      <th>language</th>\n",
       "      <th>readme_contents</th>\n",
       "    </tr>\n",
       "  </thead>\n",
       "  <tbody>\n",
       "    <tr>\n",
       "      <th>139</th>\n",
       "      <td>139</td>\n",
       "      <td>apple/llvm-monorepo-root</td>\n",
       "      <td>NaN</td>\n",
       "      <td># Disclaimer\\n\\nThe [llvm-monorepo-root](https...</td>\n",
       "    </tr>\n",
       "  </tbody>\n",
       "</table>\n",
       "</div>"
      ],
      "text/plain": [
       "     Unnamed: 0                      repo language  \\\n",
       "139         139  apple/llvm-monorepo-root      NaN   \n",
       "\n",
       "                                       readme_contents  \n",
       "139  # Disclaimer\\n\\nThe [llvm-monorepo-root](https...  "
      ]
     },
     "metadata": {},
     "output_type": "display_data"
    },
    {
     "data": {
      "text/html": [
       "<div>\n",
       "<style scoped>\n",
       "    .dataframe tbody tr th:only-of-type {\n",
       "        vertical-align: middle;\n",
       "    }\n",
       "\n",
       "    .dataframe tbody tr th {\n",
       "        vertical-align: top;\n",
       "    }\n",
       "\n",
       "    .dataframe thead th {\n",
       "        text-align: right;\n",
       "    }\n",
       "</style>\n",
       "<table border=\"1\" class=\"dataframe\">\n",
       "  <thead>\n",
       "    <tr style=\"text-align: right;\">\n",
       "      <th></th>\n",
       "      <th>Unnamed: 0</th>\n",
       "      <th>repo</th>\n",
       "      <th>language</th>\n",
       "      <th>readme_contents</th>\n",
       "    </tr>\n",
       "  </thead>\n",
       "  <tbody>\n",
       "    <tr>\n",
       "      <th>145</th>\n",
       "      <td>145</td>\n",
       "      <td>apple/swift-protobuf-plugin</td>\n",
       "      <td>NaN</td>\n",
       "      <td>&lt;img src=\"https://swift.org/assets/images/swif...</td>\n",
       "    </tr>\n",
       "  </tbody>\n",
       "</table>\n",
       "</div>"
      ],
      "text/plain": [
       "     Unnamed: 0                         repo language  \\\n",
       "145         145  apple/swift-protobuf-plugin      NaN   \n",
       "\n",
       "                                       readme_contents  \n",
       "145  <img src=\"https://swift.org/assets/images/swif...  "
      ]
     },
     "metadata": {},
     "output_type": "display_data"
    },
    {
     "data": {
      "text/html": [
       "<div>\n",
       "<style scoped>\n",
       "    .dataframe tbody tr th:only-of-type {\n",
       "        vertical-align: middle;\n",
       "    }\n",
       "\n",
       "    .dataframe tbody tr th {\n",
       "        vertical-align: top;\n",
       "    }\n",
       "\n",
       "    .dataframe thead th {\n",
       "        text-align: right;\n",
       "    }\n",
       "</style>\n",
       "<table border=\"1\" class=\"dataframe\">\n",
       "  <thead>\n",
       "    <tr style=\"text-align: right;\">\n",
       "      <th></th>\n",
       "      <th>Unnamed: 0</th>\n",
       "      <th>repo</th>\n",
       "      <th>language</th>\n",
       "      <th>readme_contents</th>\n",
       "    </tr>\n",
       "  </thead>\n",
       "  <tbody>\n",
       "    <tr>\n",
       "      <th>149</th>\n",
       "      <td>149</td>\n",
       "      <td>apple/swift-protobuf-test-conformance</td>\n",
       "      <td>NaN</td>\n",
       "      <td>&lt;img src=\"https://swift.org/assets/images/swif...</td>\n",
       "    </tr>\n",
       "  </tbody>\n",
       "</table>\n",
       "</div>"
      ],
      "text/plain": [
       "     Unnamed: 0                                   repo language  \\\n",
       "149         149  apple/swift-protobuf-test-conformance      NaN   \n",
       "\n",
       "                                       readme_contents  \n",
       "149  <img src=\"https://swift.org/assets/images/swif...  "
      ]
     },
     "metadata": {},
     "output_type": "display_data"
    }
   ],
   "source": [
    "for i in nan_languages:\n",
    "    display(df[df.index == i])"
   ]
  },
  {
   "cell_type": "code",
   "execution_count": 8,
   "id": "93fc4422",
   "metadata": {
    "scrolled": true
   },
   "outputs": [
    {
     "name": "stderr",
     "output_type": "stream",
     "text": [
      "/Users/davidrodriguez/anaconda3/lib/python3.7/site-packages/pandas/core/indexing.py:1732: SettingWithCopyWarning: \n",
      "A value is trying to be set on a copy of a slice from a DataFrame\n",
      "\n",
      "See the caveats in the documentation: https://pandas.pydata.org/pandas-docs/stable/user_guide/indexing.html#returning-a-view-versus-a-copy\n",
      "  self._setitem_single_block(indexer, value, name)\n"
     ]
    }
   ],
   "source": [
    "# let's override the languages with the observations noted\n",
    "df.language.loc[0] = 'LLVM'\n",
    "df.language.loc[13] = 'JavaScript'\n",
    "df.language.loc[14] = 'C'\n",
    "df.language.loc[83] = 'Swift'\n",
    "df.language.loc[139] = 'Swift'\n",
    "df.language.loc[145] = 'Swift'\n",
    "df.language.loc[149] = 'Swift'"
   ]
  },
  {
   "cell_type": "code",
   "execution_count": 9,
   "id": "d5e61ebf",
   "metadata": {},
   "outputs": [
    {
     "data": {
      "text/plain": [
       "'LLVM'"
      ]
     },
     "execution_count": 9,
     "metadata": {},
     "output_type": "execute_result"
    }
   ],
   "source": [
    "df.language.loc[0]"
   ]
  },
  {
   "cell_type": "code",
   "execution_count": 10,
   "id": "2802a029",
   "metadata": {},
   "outputs": [
    {
     "data": {
      "text/html": [
       "<div>\n",
       "<style scoped>\n",
       "    .dataframe tbody tr th:only-of-type {\n",
       "        vertical-align: middle;\n",
       "    }\n",
       "\n",
       "    .dataframe tbody tr th {\n",
       "        vertical-align: top;\n",
       "    }\n",
       "\n",
       "    .dataframe thead th {\n",
       "        text-align: right;\n",
       "    }\n",
       "</style>\n",
       "<table border=\"1\" class=\"dataframe\">\n",
       "  <thead>\n",
       "    <tr style=\"text-align: right;\">\n",
       "      <th></th>\n",
       "      <th>Unnamed: 0</th>\n",
       "      <th>repo</th>\n",
       "      <th>language</th>\n",
       "      <th>readme_contents</th>\n",
       "    </tr>\n",
       "  </thead>\n",
       "  <tbody>\n",
       "    <tr>\n",
       "      <th>123</th>\n",
       "      <td>123</td>\n",
       "      <td>apple/ml-transcript-translation-consistency-ra...</td>\n",
       "      <td>NaN</td>\n",
       "      <td># Human Ratings of Transcription/Translation C...</td>\n",
       "    </tr>\n",
       "  </tbody>\n",
       "</table>\n",
       "</div>"
      ],
      "text/plain": [
       "     Unnamed: 0                                               repo language  \\\n",
       "123         123  apple/ml-transcript-translation-consistency-ra...      NaN   \n",
       "\n",
       "                                       readme_contents  \n",
       "123  # Human Ratings of Transcription/Translation C...  "
      ]
     },
     "execution_count": 10,
     "metadata": {},
     "output_type": "execute_result"
    }
   ],
   "source": [
    "df[df.language.isnull()]"
   ]
  },
  {
   "cell_type": "code",
   "execution_count": 11,
   "id": "56a5532a",
   "metadata": {},
   "outputs": [
    {
     "data": {
      "text/html": [
       "<div>\n",
       "<style scoped>\n",
       "    .dataframe tbody tr th:only-of-type {\n",
       "        vertical-align: middle;\n",
       "    }\n",
       "\n",
       "    .dataframe tbody tr th {\n",
       "        vertical-align: top;\n",
       "    }\n",
       "\n",
       "    .dataframe thead th {\n",
       "        text-align: right;\n",
       "    }\n",
       "</style>\n",
       "<table border=\"1\" class=\"dataframe\">\n",
       "  <thead>\n",
       "    <tr style=\"text-align: right;\">\n",
       "      <th></th>\n",
       "      <th>Unnamed: 0</th>\n",
       "      <th>repo</th>\n",
       "      <th>language</th>\n",
       "      <th>readme_contents</th>\n",
       "    </tr>\n",
       "  </thead>\n",
       "  <tbody>\n",
       "    <tr>\n",
       "      <th>114</th>\n",
       "      <td>114</td>\n",
       "      <td>apple/darwin-libplatform</td>\n",
       "      <td>C</td>\n",
       "      <td>NaN</td>\n",
       "    </tr>\n",
       "    <tr>\n",
       "      <th>135</th>\n",
       "      <td>135</td>\n",
       "      <td>apple/swift-libcxx</td>\n",
       "      <td>C++</td>\n",
       "      <td>NaN</td>\n",
       "    </tr>\n",
       "    <tr>\n",
       "      <th>144</th>\n",
       "      <td>144</td>\n",
       "      <td>apple/ccs-pyopendirectory</td>\n",
       "      <td>C++</td>\n",
       "      <td>NaN</td>\n",
       "    </tr>\n",
       "    <tr>\n",
       "      <th>150</th>\n",
       "      <td>150</td>\n",
       "      <td>apple/darwin-libpthread</td>\n",
       "      <td>C</td>\n",
       "      <td>NaN</td>\n",
       "    </tr>\n",
       "  </tbody>\n",
       "</table>\n",
       "</div>"
      ],
      "text/plain": [
       "     Unnamed: 0                       repo language readme_contents\n",
       "114         114   apple/darwin-libplatform        C             NaN\n",
       "135         135         apple/swift-libcxx      C++             NaN\n",
       "144         144  apple/ccs-pyopendirectory      C++             NaN\n",
       "150         150    apple/darwin-libpthread        C             NaN"
      ]
     },
     "execution_count": 11,
     "metadata": {},
     "output_type": "execute_result"
    }
   ],
   "source": [
    "df[df.readme_contents.isnull()]"
   ]
  },
  {
   "cell_type": "code",
   "execution_count": 12,
   "id": "82e5dad1",
   "metadata": {},
   "outputs": [
    {
     "data": {
      "text/plain": [
       "(146, 4)"
      ]
     },
     "execution_count": 12,
     "metadata": {},
     "output_type": "execute_result"
    }
   ],
   "source": [
    "df.dropna(inplace = True)\n",
    "df.shape"
   ]
  },
  {
   "cell_type": "code",
   "execution_count": 13,
   "id": "0d7c42a8",
   "metadata": {
    "scrolled": true
   },
   "outputs": [
    {
     "data": {
      "text/plain": [
       "Swift               69\n",
       "Python              38\n",
       "C++                 13\n",
       "C                   10\n",
       "JavaScript           3\n",
       "LLVM                 2\n",
       "Java                 2\n",
       "Jupyter Notebook     2\n",
       "HTML                 2\n",
       "Dockerfile           1\n",
       "Markdown             1\n",
       "Shell                1\n",
       "R                    1\n",
       "Starlark             1\n",
       "Name: language, dtype: int64"
      ]
     },
     "execution_count": 13,
     "metadata": {},
     "output_type": "execute_result"
    }
   ],
   "source": [
    "# let's map the less common languages to 'other' and consolidate the different c's into one\n",
    "# language\n",
    "df.language.value_counts()"
   ]
  },
  {
   "cell_type": "code",
   "execution_count": 14,
   "id": "c34d8bfa",
   "metadata": {
    "scrolled": true
   },
   "outputs": [],
   "source": [
    "df['language']= df.language.map({'Swift': 'Swift', 'Python': 'Python', 'C++':'C', 'C': 'C',\n",
    "                                 'JavaScript':'Other', 'LLVM':'Other', 'Java':'Other', \n",
    "                                 'Jupyter Notebook':'Other', 'HTML':'Other', 'Dockerfile':'Other', \n",
    "                                 'Markdown':'Other', 'Shell':'Other', 'R':'Other', 'Starlark':'Other'})"
   ]
  },
  {
   "cell_type": "code",
   "execution_count": 15,
   "id": "55c1b9ba",
   "metadata": {},
   "outputs": [
    {
     "data": {
      "text/plain": [
       "Swift     69\n",
       "Python    38\n",
       "C         23\n",
       "Other     16\n",
       "Name: language, dtype: int64"
      ]
     },
     "execution_count": 15,
     "metadata": {},
     "output_type": "execute_result"
    }
   ],
   "source": [
    "df.language.value_counts()"
   ]
  },
  {
   "cell_type": "code",
   "execution_count": 16,
   "id": "a906a75b",
   "metadata": {},
   "outputs": [
    {
     "name": "stderr",
     "output_type": "stream",
     "text": [
      "/Users/davidrodriguez/anaconda3/lib/python3.7/site-packages/pandas/core/indexing.py:1732: SettingWithCopyWarning: \n",
      "A value is trying to be set on a copy of a slice from a DataFrame\n",
      "\n",
      "See the caveats in the documentation: https://pandas.pydata.org/pandas-docs/stable/user_guide/indexing.html#returning-a-view-versus-a-copy\n",
      "  self._setitem_single_block(indexer, value, name)\n"
     ]
    }
   ],
   "source": [
    "i = 0\n",
    "for readme in df.readme_contents:\n",
    "    df.readme_contents.loc[i] = prepare_dr.basic_clean(readme)\n",
    "    i = i + 1\n",
    "    \n",
    "for readme in df.readme_contents:\n",
    "    df.readme_contents.loc[i] = prepare_dr.tokenize(readme)\n",
    "    i = i + 1\n",
    "\n",
    "for readme in df.readme_contents:\n",
    "    df.readme_contents.loc[i] = prepare_dr.stem(readme)\n",
    "    i = i + 1\n",
    "    \n",
    "for readme in df.readme_contents:\n",
    "    df.readme_contents.loc[i] = prepare_dr.lemmatize(readme)\n",
    "    i = i + 1\n",
    "    \n",
    "for readme in df.readme_contents:\n",
    "    df.readme_contents.loc[i] = prepare_dr.remove_stopwords(readme)\n",
    "    i = i + 1"
   ]
  },
  {
   "cell_type": "code",
   "execution_count": 17,
   "id": "6e14e4bd",
   "metadata": {},
   "outputs": [
    {
     "data": {
      "text/plain": [
       "'  apple s fork of llvm project  this is apple s fork of llvm project   for more information on apple s branching scheme  please see  apple docs applebranchingscheme md  https   github com apple llvm project tree apple main apple docs applebranchingscheme md    the llvm project s main readme follows     the llvm compiler infrastructure  this directory and its sub directories contain source code for llvm  a toolkit for the construction of highly optimized compilers  optimizers  and run time environments   the readme briefly describes how to get started with building llvm  for more information on how to contribute to the llvm project  please take a look at the  contributing to llvm  https   llvm org docs contributing html  guide      getting started with the llvm system  taken from https   llvm org docs gettingstarted html       overview  welcome to the llvm project   the llvm project has multiple components  the core of the project is itself called  llvm   this contains all of the tools  libraries  and header files needed to process intermediate representations and convert them into object files   tools include an assembler  disassembler  bitcode analyzer  and bitcode optimizer   it also contains basic regression tests   c like languages use the  clang  http   clang llvm org   front end   this component compiles c  c    objective c  and objective c   code into llvm bitcode    and from there into object files  using llvm   other components include  the  libc   c   standard library  https   libcxx llvm org   the  lld linker  https   lld llvm org   and more       getting the source code and building llvm  the llvm getting started documentation may be out of date   the  clang getting started  http   clang llvm org get_started html  page might have more accurate information   this is an example work flow and configuration to get and build the llvm source   1  checkout llvm  including related sub projects like clang             git clone https   github com llvm llvm project git           or  on windows    git clone   config core autocrlf false     https   github com llvm llvm project git    2  configure and build llvm and clang            cd llvm project             cmake  s llvm  b build  g  generator   options             some common build system generators are               ninja       for generating  ninja  https   ninja build org            build files  most llvm developers use ninja              unix makefiles       for generating make compatible parallel makefiles              visual studio       for generating visual studio projects and           solutions              xcode       for generating xcode projects           some common options                dllvm_enable_projects             semicolon separated list of the llvm           sub projects you d like to additionally build  can include any of  clang            clang tools extra  compiler rt cross project tests  flang  libc  libclc            libcxx  libcxxabi  libunwind  lld  lldb  mlir  openmp  polly  or pstl             for example  to build llvm  clang  libcxx  and libcxxabi  use              dllvm_enable_projects  clang libcxx libcxxabi                   dcmake_install_prefix directory       specify for  directory  the full           path name of where you want the llvm tools and libraries to be installed            default    usr local                   dcmake_build_type type       valid options for  type  are debug            release  relwithdebinfo  and minsizerel  default is debug                dllvm_enable_assertions on       compile with assertion checks enabled            default is yes for debug builds  no for all other build types              cmake   build build      options   target     or your build system specified above         directly             the default target  i e    ninja   or   make    will build all of llvm             the   check all   target  i e    ninja check all    will run the           regression tests to ensure everything is in working order             cmake will generate targets for each tool and library  and most           llvm sub projects generate their own   check  project    target             running a serial build will be   slow     to improve speed  try running a           parallel build   that s done by default in ninja  for   make    use the option              j nnn    where   nnn   is the number of parallel jobs  e g  the number of           cpus you have           for more information see  cmake  https   llvm org docs cmake html   consult the  getting started with llvm  https   llvm org docs gettingstarted html getting started with llvm  page for detailed information on configuring and compiling llvm  you can visit  directory layout  https   llvm org docs gettingstarted html directory layout  to learn about the layout of the source code tree  '"
      ]
     },
     "execution_count": 17,
     "metadata": {},
     "output_type": "execute_result"
    }
   ],
   "source": [
    "df.readme_contents.loc[0]"
   ]
  },
  {
   "cell_type": "code",
   "execution_count": 18,
   "id": "ab6c3930",
   "metadata": {},
   "outputs": [],
   "source": [
    "df.drop(columns = 'Unnamed: 0', inplace = True)"
   ]
  },
  {
   "cell_type": "code",
   "execution_count": 19,
   "id": "cd95d920",
   "metadata": {},
   "outputs": [
    {
     "name": "stdout",
     "output_type": "stream",
     "text": [
      "<class 'pandas.core.frame.DataFrame'>\n",
      "Int64Index: 146 entries, 0 to 149\n",
      "Data columns (total 3 columns):\n",
      " #   Column           Non-Null Count  Dtype \n",
      "---  ------           --------------  ----- \n",
      " 0   repo             146 non-null    object\n",
      " 1   language         146 non-null    object\n",
      " 2   readme_contents  146 non-null    object\n",
      "dtypes: object(3)\n",
      "memory usage: 8.6+ KB\n"
     ]
    }
   ],
   "source": [
    "df.info()"
   ]
  },
  {
   "cell_type": "code",
   "execution_count": 20,
   "id": "7f5fd22c",
   "metadata": {},
   "outputs": [
    {
     "data": {
      "text/html": [
       "<div>\n",
       "<style scoped>\n",
       "    .dataframe tbody tr th:only-of-type {\n",
       "        vertical-align: middle;\n",
       "    }\n",
       "\n",
       "    .dataframe tbody tr th {\n",
       "        vertical-align: top;\n",
       "    }\n",
       "\n",
       "    .dataframe thead th {\n",
       "        text-align: right;\n",
       "    }\n",
       "</style>\n",
       "<table border=\"1\" class=\"dataframe\">\n",
       "  <thead>\n",
       "    <tr style=\"text-align: right;\">\n",
       "      <th></th>\n",
       "      <th>repo</th>\n",
       "      <th>language</th>\n",
       "      <th>readme_contents</th>\n",
       "    </tr>\n",
       "  </thead>\n",
       "  <tbody>\n",
       "    <tr>\n",
       "      <th>0</th>\n",
       "      <td>apple/llvm-project</td>\n",
       "      <td>Other</td>\n",
       "      <td>apple s fork of llvm project  this is apple ...</td>\n",
       "    </tr>\n",
       "    <tr>\n",
       "      <th>1</th>\n",
       "      <td>apple/swift-argument-parser</td>\n",
       "      <td>Swift</td>\n",
       "      <td>swift argument parser     usage  begin by de...</td>\n",
       "    </tr>\n",
       "    <tr>\n",
       "      <th>2</th>\n",
       "      <td>apple/swift-docc</td>\n",
       "      <td>Swift</td>\n",
       "      <td>swift docc  swift docc is a documentation co...</td>\n",
       "    </tr>\n",
       "    <tr>\n",
       "      <th>3</th>\n",
       "      <td>apple/swift</td>\n",
       "      <td>C</td>\n",
       "      <td>img src  https   swift org assets images swif...</td>\n",
       "    </tr>\n",
       "    <tr>\n",
       "      <th>4</th>\n",
       "      <td>apple/sourcekit-lsp</td>\n",
       "      <td>Swift</td>\n",
       "      <td>sourcekit lsp  sourcekit lsp is an implement...</td>\n",
       "    </tr>\n",
       "  </tbody>\n",
       "</table>\n",
       "</div>"
      ],
      "text/plain": [
       "                          repo language  \\\n",
       "0           apple/llvm-project    Other   \n",
       "1  apple/swift-argument-parser    Swift   \n",
       "2             apple/swift-docc    Swift   \n",
       "3                  apple/swift        C   \n",
       "4          apple/sourcekit-lsp    Swift   \n",
       "\n",
       "                                     readme_contents  \n",
       "0    apple s fork of llvm project  this is apple ...  \n",
       "1    swift argument parser     usage  begin by de...  \n",
       "2    swift docc  swift docc is a documentation co...  \n",
       "3   img src  https   swift org assets images swif...  \n",
       "4    sourcekit lsp  sourcekit lsp is an implement...  "
      ]
     },
     "execution_count": 20,
     "metadata": {},
     "output_type": "execute_result"
    }
   ],
   "source": [
    "df.head()"
   ]
  },
  {
   "cell_type": "code",
   "execution_count": null,
   "id": "c9dfbbb8",
   "metadata": {},
   "outputs": [],
   "source": []
  }
 ],
 "metadata": {
  "kernelspec": {
   "display_name": "Python 3 (ipykernel)",
   "language": "python",
   "name": "python3"
  },
  "language_info": {
   "codemirror_mode": {
    "name": "ipython",
    "version": 3
   },
   "file_extension": ".py",
   "mimetype": "text/x-python",
   "name": "python",
   "nbconvert_exporter": "python",
   "pygments_lexer": "ipython3",
   "version": "3.7.3"
  }
 },
 "nbformat": 4,
 "nbformat_minor": 5
}
