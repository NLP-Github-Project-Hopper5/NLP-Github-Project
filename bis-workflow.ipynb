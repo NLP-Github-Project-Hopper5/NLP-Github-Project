{
 "cells": [
  {
   "cell_type": "code",
   "execution_count": 52,
   "id": "9ee6a4f6",
   "metadata": {},
   "outputs": [],
   "source": [
    "import unicodedata\n",
    "import re\n",
    "import json\n",
    "import os\n",
    "from requests import get\n",
    "from typing import Dict, List, Optional, Union, cast\n",
    "from bs4 import BeautifulSoup\n",
    "import pandas as pd\n",
    "import requests\n",
    "import nltk\n",
    "from nltk.corpus import stopwords\n",
    "from time import strftime\n",
    "from env import github_token, github_username\n",
    "import acquire"
   ]
  },
  {
   "cell_type": "code",
   "execution_count": 60,
   "id": "a3d2d26d",
   "metadata": {},
   "outputs": [],
   "source": [
    "def get_all_repository_urls(url): # repository url\n",
    "    # Get max page.\n",
    "    response = get(url)\n",
    "    soup = BeautifulSoup(response.text)\n",
    "    print('Finding max page for repositories...')\n",
    "    max_page = int(soup.find('div', role='navigation').text[-6])\n",
    "    print(f'Max page found: {max_page}')\n",
    "    page = 1\n",
    "    repository_links = []\n",
    "    print('Starting loop...')\n",
    "    for n in range(max_page):\n",
    "        print(n+1, 'iteration')\n",
    "        print(f'Pulling data from {url}')\n",
    "        # Reset soup.\n",
    "        response = get(url)\n",
    "        soup = BeautifulSoup(response.text)\n",
    "        # Get all the repositories from the page.\n",
    "        repositories = soup.find_all('a', itemprop='name codeRepository') \n",
    "        print('Fetching links for repositories...')\n",
    "        git = 'https://github.com/'\n",
    "        for repo in repositories:\n",
    "            repository_links.append(repo.get('href')[1:])\n",
    "        next_page = soup.find('a', class_='next_page').get('href')[:-1]\n",
    "        ## Use this line of code to get the url for the next page.\n",
    "        if page <= 4:\n",
    "            url = git + next_page + str(page + 1)\n",
    "            page += 1\n",
    "        else:\n",
    "            return repository_links\n"
   ]
  },
  {
   "cell_type": "code",
   "execution_count": 61,
   "id": "b850357d",
   "metadata": {},
   "outputs": [
    {
     "name": "stdout",
     "output_type": "stream",
     "text": [
      "Finding max page for repositories...\n",
      "Max page found: 6\n",
      "Starting loop...\n",
      "1 iteration\n",
      "Pulling data from https://github.com/orgs/apple/repositories\n",
      "Fetching links for repositories...\n",
      "2 iteration\n",
      "Pulling data from https://github.com//orgs/apple/repositories?page=2\n",
      "Fetching links for repositories...\n",
      "3 iteration\n",
      "Pulling data from https://github.com//orgs/apple/repositories?page=3\n",
      "Fetching links for repositories...\n",
      "4 iteration\n",
      "Pulling data from https://github.com//orgs/apple/repositories?page=4\n",
      "Fetching links for repositories...\n",
      "5 iteration\n",
      "Pulling data from https://github.com//orgs/apple/repositories?page=5\n",
      "Fetching links for repositories...\n"
     ]
    }
   ],
   "source": [
    "repository_links = get_all_repository_urls('https://github.com/orgs/apple/repositories')"
   ]
  },
  {
   "cell_type": "code",
   "execution_count": 62,
   "id": "60120611",
   "metadata": {},
   "outputs": [
    {
     "data": {
      "text/plain": [
       "['apple/swift',\n",
       " 'apple/llvm-project',\n",
       " 'apple/foundationdb',\n",
       " 'apple/swift-docc',\n",
       " 'apple/swift-argument-parser',\n",
       " 'apple/sourcekit-lsp',\n",
       " 'apple/swift-protobuf',\n",
       " 'apple/swift-llbuild',\n",
       " 'apple/swift-syntax',\n",
       " 'apple/swift-package-manager',\n",
       " 'apple/swift-source-compat-suite',\n",
       " 'apple/swift-markdown',\n",
       " 'apple/swift-docc-symbolkit',\n",
       " 'apple/swift-docc-render-artifact',\n",
       " 'apple/swift-lmdb',\n",
       " 'apple/swift-tools-support-core',\n",
       " 'apple/swift-driver',\n",
       " 'apple/indexstore-db',\n",
       " 'apple/swift-stress-tester',\n",
       " 'apple/swift-xcode-playground-support',\n",
       " 'apple/swift-integration-tests',\n",
       " 'apple/swift-cmark',\n",
       " 'apple/swift-corelibs-libdispatch',\n",
       " 'apple/swift-corelibs-foundation',\n",
       " 'apple/swift-corelibs-xctest',\n",
       " 'apple/swift-experimental-string-processing',\n",
       " 'apple/swift-docker',\n",
       " 'apple/swift-installer-scripts',\n",
       " 'apple/swift-llbuild2',\n",
       " 'apple/swift-docc-render',\n",
       " 'apple/swift-evolution',\n",
       " 'apple/servicetalk',\n",
       " 'apple/swift-nio-ssh',\n",
       " 'apple/password-manager-resources',\n",
       " 'apple/swift-nio',\n",
       " 'apple/ml-hypersim',\n",
       " 'apple/swift-collections',\n",
       " 'apple/coremltools',\n",
       " 'apple/swift-atomics',\n",
       " 'apple/swift-log',\n",
       " 'apple/swift-distributed-actors',\n",
       " 'apple/swift-algorithms',\n",
       " 'apple/apple-llvm-infrastructure-tools',\n",
       " 'apple/swift-collections-benchmark',\n",
       " 'apple/cloudkit-sample-sharing',\n",
       " 'apple/cloudkit-sample-queries',\n",
       " 'apple/cloudkit-sample-privatedb-sync',\n",
       " 'apple/cloudkit-sample-privatedb',\n",
       " 'apple/cloudkit-sample-encryption',\n",
       " 'apple/cloudkit-sample-coredatasync',\n",
       " 'apple/example-package-playingcard',\n",
       " 'apple/swift-distributed-tracing',\n",
       " 'apple/swift-distributed-tracing-baggage',\n",
       " 'apple/swift-nio-ssl',\n",
       " 'apple/swift-tools-support-async',\n",
       " 'apple/swift-package-collection-generator',\n",
       " 'apple/swift-crypto',\n",
       " 'apple/swift-docc-plugin',\n",
       " 'apple/ARKitScenes',\n",
       " 'apple/swift-metrics',\n",
       " 'apple/swift-metrics-extras',\n",
       " 'apple/swift-nio-http2',\n",
       " 'apple/swift-http-structured-headers',\n",
       " 'apple/swift-nio-extras',\n",
       " 'apple/swift-nio-transport-services',\n",
       " 'apple/darwin-xnu',\n",
       " 'apple/swift-system',\n",
       " 'apple/swift-format',\n",
       " 'apple/ml-cvnets',\n",
       " 'apple/ml-knowledge-conflicts',\n",
       " 'apple/swift-sample-distributed-actors-transport',\n",
       " 'apple/swift-numerics',\n",
       " 'apple/cups',\n",
       " 'apple/swift-package-registry-compatibility-test-suite',\n",
       " 'apple/swift-se0288-is-power',\n",
       " 'apple/swift-standard-library-preview',\n",
       " 'apple/swift-se0270-range-set',\n",
       " 'apple/ml-core',\n",
       " 'apple/FHIRModels',\n",
       " 'apple/turicreate',\n",
       " 'apple/swift-service-discovery',\n",
       " 'apple/HomeKitADK',\n",
       " 'apple/GCGC',\n",
       " 'apple/swift-community-hosted-continuous-integration',\n",
       " 'apple/tensorflow_macos',\n",
       " 'apple/swift-nio-examples',\n",
       " 'apple/learning-compressible-subspaces',\n",
       " 'apple/ccs-pykerberos',\n",
       " 'apple/swift-internals',\n",
       " 'apple/example-package-fisheryates',\n",
       " 'apple/ml-shuffling-amplification',\n",
       " 'apple/ml-gsn',\n",
       " 'apple/ccs-caldavtester',\n",
       " 'apple/swift-evolution-staging',\n",
       " 'apple/example-package-dealer',\n",
       " 'apple/ml-cvpr2019-swd',\n",
       " 'apple/example-package-deckofplayingcards',\n",
       " 'apple/ml-covid-mobility',\n",
       " 'apple/swift-statsd-client',\n",
       " 'apple/AudioUnitSDK',\n",
       " 'apple/swift-nio-zlib-support',\n",
       " 'apple/openjdk',\n",
       " 'apple/ml-uwac',\n",
       " 'apple/darwin-libpthread',\n",
       " 'apple/ml-probabilistic-attention',\n",
       " 'apple/ml-envmapnet',\n",
       " 'apple/ml-cread',\n",
       " 'apple/swift-distributed-tracing-baggage-core',\n",
       " 'apple/ml-stuttering-events-dataset',\n",
       " 'apple/ml-multiple-futures-prediction',\n",
       " 'apple/ml-qrecc',\n",
       " 'apple/apple_rules_lint',\n",
       " 'apple/vqg-multimodal-assistant',\n",
       " 'apple/ccs-pycalendar',\n",
       " 'apple/learning-subspaces',\n",
       " 'apple/darwin-libplatform',\n",
       " 'apple/ml-quant',\n",
       " 'apple/ml-equivariant-neural-rendering',\n",
       " 'apple/swift-nio-nghttp2-support',\n",
       " 'apple/swift-nio-ssl-support',\n",
       " 'apple/swift-cluster-membership',\n",
       " 'apple/ml-tree-dst',\n",
       " 'apple/ml-collegial-ensembles',\n",
       " 'apple/swiftpm-on-llbuild2',\n",
       " 'apple/ml-transcript-translation-consistency-ratings',\n",
       " 'apple/ml-mkqa',\n",
       " 'apple/ml-dab',\n",
       " 'apple/ml-capsules-inverted-attention-routing',\n",
       " 'apple/ccs-calendarserver',\n",
       " 'apple/swift-lldb',\n",
       " 'apple/ml-cifar-10-faster',\n",
       " 'apple/ml-data-parameters',\n",
       " 'apple/ml-afv',\n",
       " 'apple/swift-llvm',\n",
       " 'apple/swift-clang',\n",
       " 'apple/swift-clang-tools-extra',\n",
       " 'apple/swift-libcxx',\n",
       " 'apple/swift-compiler-rt',\n",
       " 'apple/llvm-project-v5-split',\n",
       " 'apple/llvm-project-v5',\n",
       " 'apple/llvm-monorepo-root',\n",
       " 'apple/ml-ncg',\n",
       " 'apple/ccs-twistedextensions',\n",
       " 'apple/ml-all-pairs',\n",
       " 'apple/swift-3-api-guidelines-review',\n",
       " 'apple/ccs-pyopendirectory',\n",
       " 'apple/swift-protobuf-plugin',\n",
       " 'apple/ccs-caldavclientlibrary',\n",
       " 'apple/ccs-pyosxframeworks',\n",
       " 'apple/ccs-pysecuretransport']"
      ]
     },
     "execution_count": 62,
     "metadata": {},
     "output_type": "execute_result"
    }
   ],
   "source": [
    "repository_links"
   ]
  },
  {
   "cell_type": "code",
   "execution_count": 58,
   "id": "ef63166e",
   "metadata": {},
   "outputs": [],
   "source": [
    "git = 'https://github.com/'\n",
    "newlist = []\n",
    "for repo in repository_links:\n",
    "    newlist.append(repo[1:])"
   ]
  },
  {
   "cell_type": "code",
   "execution_count": 59,
   "id": "f7f4d61f",
   "metadata": {},
   "outputs": [
    {
     "data": {
      "text/plain": [
       "['apple/llvm-project',\n",
       " 'apple/swift-argument-parser',\n",
       " 'apple/swift-docc',\n",
       " 'apple/swift',\n",
       " 'apple/sourcekit-lsp',\n",
       " 'apple/foundationdb',\n",
       " 'apple/swift-protobuf',\n",
       " 'apple/swift-llbuild',\n",
       " 'apple/swift-syntax',\n",
       " 'apple/swift-package-manager',\n",
       " 'apple/swift-source-compat-suite',\n",
       " 'apple/swift-markdown',\n",
       " 'apple/swift-docc-symbolkit',\n",
       " 'apple/swift-docc-render-artifact',\n",
       " 'apple/swift-lmdb',\n",
       " 'apple/swift-tools-support-core',\n",
       " 'apple/swift-driver',\n",
       " 'apple/indexstore-db',\n",
       " 'apple/swift-stress-tester',\n",
       " 'apple/swift-xcode-playground-support',\n",
       " 'apple/swift-integration-tests',\n",
       " 'apple/swift-cmark',\n",
       " 'apple/swift-corelibs-libdispatch',\n",
       " 'apple/swift-corelibs-foundation',\n",
       " 'apple/swift-corelibs-xctest',\n",
       " 'apple/swift-experimental-string-processing',\n",
       " 'apple/swift-docker',\n",
       " 'apple/swift-installer-scripts',\n",
       " 'apple/swift-llbuild2',\n",
       " 'apple/swift-docc-render',\n",
       " 'apple/swift-evolution',\n",
       " 'apple/servicetalk',\n",
       " 'apple/swift-nio-ssh',\n",
       " 'apple/password-manager-resources',\n",
       " 'apple/swift-nio',\n",
       " 'apple/ml-hypersim',\n",
       " 'apple/swift-collections',\n",
       " 'apple/coremltools',\n",
       " 'apple/swift-atomics',\n",
       " 'apple/swift-log',\n",
       " 'apple/swift-distributed-actors',\n",
       " 'apple/swift-algorithms',\n",
       " 'apple/apple-llvm-infrastructure-tools',\n",
       " 'apple/swift-collections-benchmark',\n",
       " 'apple/cloudkit-sample-sharing',\n",
       " 'apple/cloudkit-sample-queries',\n",
       " 'apple/cloudkit-sample-privatedb-sync',\n",
       " 'apple/cloudkit-sample-privatedb',\n",
       " 'apple/cloudkit-sample-encryption',\n",
       " 'apple/cloudkit-sample-coredatasync',\n",
       " 'apple/example-package-playingcard',\n",
       " 'apple/swift-distributed-tracing',\n",
       " 'apple/swift-distributed-tracing-baggage',\n",
       " 'apple/swift-nio-ssl',\n",
       " 'apple/swift-tools-support-async',\n",
       " 'apple/swift-package-collection-generator',\n",
       " 'apple/swift-crypto',\n",
       " 'apple/swift-docc-plugin',\n",
       " 'apple/ARKitScenes',\n",
       " 'apple/swift-metrics',\n",
       " 'apple/swift-metrics-extras',\n",
       " 'apple/swift-nio-http2',\n",
       " 'apple/swift-http-structured-headers',\n",
       " 'apple/swift-nio-extras',\n",
       " 'apple/swift-nio-transport-services',\n",
       " 'apple/darwin-xnu',\n",
       " 'apple/swift-system',\n",
       " 'apple/swift-format',\n",
       " 'apple/ml-cvnets',\n",
       " 'apple/ml-knowledge-conflicts',\n",
       " 'apple/swift-sample-distributed-actors-transport',\n",
       " 'apple/swift-numerics',\n",
       " 'apple/cups',\n",
       " 'apple/swift-package-registry-compatibility-test-suite',\n",
       " 'apple/swift-se0288-is-power',\n",
       " 'apple/swift-standard-library-preview',\n",
       " 'apple/swift-se0270-range-set',\n",
       " 'apple/ml-core',\n",
       " 'apple/FHIRModels',\n",
       " 'apple/turicreate',\n",
       " 'apple/swift-service-discovery',\n",
       " 'apple/HomeKitADK',\n",
       " 'apple/GCGC',\n",
       " 'apple/swift-community-hosted-continuous-integration',\n",
       " 'apple/tensorflow_macos',\n",
       " 'apple/swift-nio-examples',\n",
       " 'apple/learning-compressible-subspaces',\n",
       " 'apple/ccs-pykerberos',\n",
       " 'apple/swift-internals',\n",
       " 'apple/example-package-fisheryates',\n",
       " 'apple/ml-shuffling-amplification',\n",
       " 'apple/ml-gsn',\n",
       " 'apple/ccs-caldavtester',\n",
       " 'apple/swift-evolution-staging',\n",
       " 'apple/example-package-dealer',\n",
       " 'apple/ml-cvpr2019-swd',\n",
       " 'apple/example-package-deckofplayingcards',\n",
       " 'apple/ml-covid-mobility',\n",
       " 'apple/swift-statsd-client',\n",
       " 'apple/AudioUnitSDK',\n",
       " 'apple/swift-nio-zlib-support',\n",
       " 'apple/openjdk',\n",
       " 'apple/ml-uwac',\n",
       " 'apple/darwin-libpthread',\n",
       " 'apple/ml-probabilistic-attention',\n",
       " 'apple/ml-envmapnet',\n",
       " 'apple/ml-cread',\n",
       " 'apple/swift-distributed-tracing-baggage-core',\n",
       " 'apple/ml-stuttering-events-dataset',\n",
       " 'apple/ml-multiple-futures-prediction',\n",
       " 'apple/ml-qrecc',\n",
       " 'apple/apple_rules_lint',\n",
       " 'apple/vqg-multimodal-assistant',\n",
       " 'apple/ccs-pycalendar',\n",
       " 'apple/learning-subspaces',\n",
       " 'apple/darwin-libplatform',\n",
       " 'apple/ml-quant',\n",
       " 'apple/ml-equivariant-neural-rendering',\n",
       " 'apple/swift-nio-nghttp2-support',\n",
       " 'apple/swift-nio-ssl-support',\n",
       " 'apple/swift-cluster-membership',\n",
       " 'apple/ml-tree-dst',\n",
       " 'apple/ml-collegial-ensembles',\n",
       " 'apple/swiftpm-on-llbuild2',\n",
       " 'apple/ml-transcript-translation-consistency-ratings',\n",
       " 'apple/ml-mkqa',\n",
       " 'apple/ml-dab',\n",
       " 'apple/ml-capsules-inverted-attention-routing',\n",
       " 'apple/ccs-calendarserver',\n",
       " 'apple/swift-lldb',\n",
       " 'apple/ml-cifar-10-faster',\n",
       " 'apple/ml-data-parameters',\n",
       " 'apple/ml-afv',\n",
       " 'apple/swift-llvm',\n",
       " 'apple/swift-clang',\n",
       " 'apple/swift-clang-tools-extra',\n",
       " 'apple/swift-libcxx',\n",
       " 'apple/swift-compiler-rt',\n",
       " 'apple/llvm-project-v5-split',\n",
       " 'apple/llvm-project-v5',\n",
       " 'apple/llvm-monorepo-root',\n",
       " 'apple/ml-ncg',\n",
       " 'apple/ccs-twistedextensions',\n",
       " 'apple/ml-all-pairs',\n",
       " 'apple/swift-3-api-guidelines-review',\n",
       " 'apple/ccs-pyopendirectory',\n",
       " 'apple/swift-protobuf-plugin',\n",
       " 'apple/ccs-caldavclientlibrary',\n",
       " 'apple/ccs-pyosxframeworks',\n",
       " 'apple/ccs-pysecuretransport']"
      ]
     },
     "execution_count": 59,
     "metadata": {},
     "output_type": "execute_result"
    }
   ],
   "source": [
    "newlist"
   ]
  },
  {
   "cell_type": "code",
   "execution_count": null,
   "id": "ef26fabc",
   "metadata": {},
   "outputs": [],
   "source": []
  },
  {
   "cell_type": "code",
   "execution_count": 46,
   "id": "0211c9fb",
   "metadata": {},
   "outputs": [],
   "source": [
    "headers = {\"Authorization\": f\"token {github_token}\", \"User-Agent\": github_username}"
   ]
  },
  {
   "cell_type": "code",
   "execution_count": 53,
   "id": "b583f89d",
   "metadata": {},
   "outputs": [],
   "source": [
    "def github_api_request(url: str) -> Union[List, Dict]:\n",
    "    response = requests.get(url, headers=headers)\n",
    "    response_data = response.json()\n",
    "    if response.status_code != 200:\n",
    "        raise Exception(\n",
    "            f\"Error response from github api! status code: {response.status_code}, \"\n",
    "            f\"response: {json.dumps(response_data)}\"\n",
    "        )\n",
    "    return response_data"
   ]
  },
  {
   "cell_type": "code",
   "execution_count": 47,
   "id": "e115f62b",
   "metadata": {},
   "outputs": [],
   "source": [
    "response = requests.get('https://github.com/apple/llvm-monorepo-root', headers=headers)"
   ]
  },
  {
   "cell_type": "code",
   "execution_count": 49,
   "id": "1866bc9d",
   "metadata": {},
   "outputs": [
    {
     "data": {
      "text/plain": [
       "<Response [200]>"
      ]
     },
     "execution_count": 49,
     "metadata": {},
     "output_type": "execute_result"
    }
   ],
   "source": [
    "response"
   ]
  },
  {
   "cell_type": "code",
   "execution_count": 56,
   "id": "08ee5637",
   "metadata": {},
   "outputs": [
    {
     "ename": "SyntaxError",
     "evalue": "invalid syntax (1800319426.py, line 1)",
     "output_type": "error",
     "traceback": [
      "\u001b[0;36m  File \u001b[0;32m\"/var/folders/jl/s3ptdwdx55v01d2g2wrs7vdc0000gn/T/ipykernel_11255/1800319426.py\"\u001b[0;36m, line \u001b[0;32m1\u001b[0m\n\u001b[0;31m    ('https://github.com/apple/llvm-monorepo-root') -> Union[List, Dict]\u001b[0m\n\u001b[0m                                                    ^\u001b[0m\n\u001b[0;31mSyntaxError\u001b[0m\u001b[0;31m:\u001b[0m invalid syntax\n"
     ]
    }
   ],
   "source": [
    "('https://github.com/apple/llvm-monorepo-root') -> Union[List, Dict]"
   ]
  },
  {
   "cell_type": "code",
   "execution_count": null,
   "id": "66856d4b",
   "metadata": {},
   "outputs": [],
   "source": []
  },
  {
   "cell_type": "code",
   "execution_count": null,
   "id": "84c7aff3",
   "metadata": {},
   "outputs": [],
   "source": []
  },
  {
   "cell_type": "code",
   "execution_count": null,
   "id": "beee98ac",
   "metadata": {},
   "outputs": [],
   "source": []
  },
  {
   "cell_type": "code",
   "execution_count": null,
   "id": "6aef461d",
   "metadata": {},
   "outputs": [],
   "source": []
  },
  {
   "cell_type": "code",
   "execution_count": null,
   "id": "04805549",
   "metadata": {},
   "outputs": [],
   "source": []
  },
  {
   "cell_type": "code",
   "execution_count": null,
   "id": "4bcfd8da",
   "metadata": {},
   "outputs": [],
   "source": []
  },
  {
   "cell_type": "code",
   "execution_count": null,
   "id": "df4ed74b",
   "metadata": {},
   "outputs": [],
   "source": [
    "def get_all_repository_readme(url): # repository url\n",
    "    response = get(url)\n",
    "    soup = BeautifulSoup(response.text)\n",
    "    repositories = soup.find_all('div', class_='org-repos')[0]\n",
    "    repository_title = repositories.find_all('a', itemprop ='name codeRepository')\n",
    "    title_list = [title.text.strip() for title in repository_title]\n",
    "    # Get url for each repository.\n",
    "    repository_links = []\n",
    "    for titles in repository_title:\n",
    "        repository_links.append(titles.get('href'))\n",
    "    readme_list = []\n",
    "    git = 'https://github.com/'\n",
    "    for link in repository_links:\n",
    "        repo_response = get(git + link)\n",
    "        repo_soup = BeautifulSoup(repo_response.text)\n",
    "        readme = repo_soup.find_all('article', itemprop='text')[0].text\n",
    "        readme = readme.replace('\\n',' ').replace('  ', ' ').replace('\\'', '')\n",
    "        readme_list.append(readme)\n",
    "    dictionary = dict(zip(title_list, readme_list))\n",
    "    df = pd.DataFrame(list(dictionary.items()), columns=['repo_title','readme'])\n",
    "    return df"
   ]
  },
  {
   "cell_type": "code",
   "execution_count": null,
   "id": "89218a28",
   "metadata": {},
   "outputs": [],
   "source": [
    "url = 'https://github.com/orgs/apple/repositories'\n",
    "response = get(url)"
   ]
  },
  {
   "cell_type": "code",
   "execution_count": null,
   "id": "dc322749",
   "metadata": {},
   "outputs": [],
   "source": [
    "soup = BeautifulSoup(response.text)"
   ]
  },
  {
   "cell_type": "code",
   "execution_count": null,
   "id": "1b4c7367",
   "metadata": {},
   "outputs": [],
   "source": [
    "repositories = soup.find_all('div', class_='org-repos')[0]"
   ]
  },
  {
   "cell_type": "code",
   "execution_count": null,
   "id": "c332af98",
   "metadata": {},
   "outputs": [],
   "source": [
    "repositories"
   ]
  },
  {
   "cell_type": "code",
   "execution_count": null,
   "id": "4c326905",
   "metadata": {},
   "outputs": [],
   "source": [
    "repositories.find_all('a', itemprop ='name codeRepository')"
   ]
  },
  {
   "cell_type": "code",
   "execution_count": null,
   "id": "1c60cccf",
   "metadata": {},
   "outputs": [],
   "source": [
    "# List of repository titles. Will use to iterate through.\n",
    "repository_title = repositories.find_all('a', itemprop='name codeRepository')"
   ]
  },
  {
   "cell_type": "code",
   "execution_count": null,
   "id": "90eb5b41",
   "metadata": {},
   "outputs": [],
   "source": [
    "repository_title"
   ]
  },
  {
   "cell_type": "code",
   "execution_count": null,
   "id": "3a67eb10",
   "metadata": {},
   "outputs": [],
   "source": [
    "title_list = [title.text.strip() for title in repository_title]"
   ]
  },
  {
   "cell_type": "code",
   "execution_count": null,
   "id": "8c765b7c",
   "metadata": {},
   "outputs": [],
   "source": [
    "title_list"
   ]
  },
  {
   "cell_type": "code",
   "execution_count": null,
   "id": "f7d79e35",
   "metadata": {},
   "outputs": [],
   "source": [
    "repository_title[2].text.strip()"
   ]
  },
  {
   "cell_type": "code",
   "execution_count": null,
   "id": "68184d2f",
   "metadata": {},
   "outputs": [],
   "source": [
    "for titles in repository_title:\n",
    "    repository_links.append(titles.get('href'))"
   ]
  },
  {
   "cell_type": "code",
   "execution_count": null,
   "id": "6229874e",
   "metadata": {},
   "outputs": [],
   "source": [
    "# Get url for each repository.\n",
    "links = repositories.find_all('a', itemprop = 'name codeRepository')"
   ]
  },
  {
   "cell_type": "code",
   "execution_count": null,
   "id": "b8054537",
   "metadata": {},
   "outputs": [],
   "source": [
    "repository_links = []"
   ]
  },
  {
   "cell_type": "code",
   "execution_count": null,
   "id": "f94d4cbc",
   "metadata": {},
   "outputs": [],
   "source": [
    "for link in links:\n",
    "    repository_links.append(link.get('href'))"
   ]
  },
  {
   "cell_type": "code",
   "execution_count": null,
   "id": "e977084a",
   "metadata": {},
   "outputs": [],
   "source": [
    "repository_links"
   ]
  },
  {
   "cell_type": "code",
   "execution_count": null,
   "id": "0e3ee9c2",
   "metadata": {},
   "outputs": [],
   "source": [
    "repository_links[0]"
   ]
  },
  {
   "cell_type": "code",
   "execution_count": null,
   "id": "a1db1acc",
   "metadata": {},
   "outputs": [],
   "source": [
    "git = 'https://github.com/'"
   ]
  },
  {
   "cell_type": "code",
   "execution_count": null,
   "id": "7c133d43",
   "metadata": {},
   "outputs": [],
   "source": [
    "repo_response = get(git + repository_links[0])"
   ]
  },
  {
   "cell_type": "code",
   "execution_count": null,
   "id": "21a3e7bd",
   "metadata": {},
   "outputs": [],
   "source": [
    "repo_response"
   ]
  },
  {
   "cell_type": "code",
   "execution_count": null,
   "id": "3714bc6a",
   "metadata": {},
   "outputs": [],
   "source": [
    "repo_soup = BeautifulSoup(repo_response.text)"
   ]
  },
  {
   "cell_type": "code",
   "execution_count": null,
   "id": "a404e55c",
   "metadata": {},
   "outputs": [],
   "source": [
    "repo_soup.find_all('article', itemprop='text')[0].text"
   ]
  },
  {
   "cell_type": "code",
   "execution_count": null,
   "id": "5d3ec78d",
   "metadata": {},
   "outputs": [],
   "source": [
    "readme = repo_soup.find_all('article', itemprop='text')[0].text"
   ]
  },
  {
   "cell_type": "code",
   "execution_count": null,
   "id": "fcdf389d",
   "metadata": {},
   "outputs": [],
   "source": [
    "readme = readme.replace('\\n',' ').replace('  ', ' ').replace('\\'', '')"
   ]
  },
  {
   "cell_type": "code",
   "execution_count": null,
   "id": "17c4eb00",
   "metadata": {},
   "outputs": [],
   "source": [
    "readme"
   ]
  },
  {
   "cell_type": "code",
   "execution_count": null,
   "id": "33e075af",
   "metadata": {},
   "outputs": [],
   "source": [
    "next_page = soup.find('a', class_='next_page').get('href')[:-1]"
   ]
  },
  {
   "cell_type": "code",
   "execution_count": null,
   "id": "6a25278b",
   "metadata": {},
   "outputs": [],
   "source": [
    "page = 1"
   ]
  },
  {
   "cell_type": "code",
   "execution_count": null,
   "id": "a8f2f9ac",
   "metadata": {},
   "outputs": [],
   "source": [
    "# Use this line of code to set the next url.\n",
    "next_page + str(page + 1)"
   ]
  },
  {
   "cell_type": "code",
   "execution_count": null,
   "id": "ba5697bc",
   "metadata": {},
   "outputs": [],
   "source": [
    "next_page"
   ]
  },
  {
   "cell_type": "code",
   "execution_count": null,
   "id": "25a4a387",
   "metadata": {},
   "outputs": [],
   "source": [
    "git + next_page + max_page"
   ]
  },
  {
   "cell_type": "code",
   "execution_count": null,
   "id": "23fae078",
   "metadata": {},
   "outputs": [],
   "source": [
    "max_page = soup.find('div', role='navigation').text[-6]"
   ]
  },
  {
   "cell_type": "code",
   "execution_count": null,
   "id": "f74b8e70",
   "metadata": {},
   "outputs": [],
   "source": [
    "type(max_page)"
   ]
  },
  {
   "cell_type": "code",
   "execution_count": null,
   "id": "37bca298",
   "metadata": {},
   "outputs": [],
   "source": [
    "readme_list = []\n",
    "git = 'https://github.com/'\n",
    "for link in repository_links:\n",
    "    repo_response = get(git + link)\n",
    "    repo_soup = BeautifulSoup(repo_response.text)\n",
    "    readme = repo_soup.find_all('article', itemprop='text')[0].text\n",
    "    readme = readme.replace('\\n',' ').replace('  ', ' ').replace('\\'', '')\n",
    "    readme_list.append(readme)"
   ]
  },
  {
   "cell_type": "code",
   "execution_count": null,
   "id": "7ecea115",
   "metadata": {},
   "outputs": [],
   "source": [
    "len(readme_list)"
   ]
  },
  {
   "cell_type": "code",
   "execution_count": null,
   "id": "5f64e6bd",
   "metadata": {},
   "outputs": [],
   "source": [
    "dictionary = dict(zip(title_list, readme_list))"
   ]
  },
  {
   "cell_type": "code",
   "execution_count": null,
   "id": "7c34f44e",
   "metadata": {},
   "outputs": [],
   "source": [
    "pd.DataFrame(list(dictionary.items()), columns=['repo_title','readme'])"
   ]
  },
  {
   "cell_type": "code",
   "execution_count": null,
   "id": "dd0bf4f8",
   "metadata": {},
   "outputs": [],
   "source": [
    "b = get_all_repository_readme('https://github.com/orgs/apple/repositories')"
   ]
  },
  {
   "cell_type": "code",
   "execution_count": null,
   "id": "a5224fd4",
   "metadata": {},
   "outputs": [],
   "source": [
    "b"
   ]
  },
  {
   "cell_type": "code",
   "execution_count": null,
   "id": "f5165a60",
   "metadata": {},
   "outputs": [],
   "source": [
    "def get_all_repository_urls(url): # repository url\n",
    "    # Get max page.\n",
    "    response = get(url)\n",
    "    soup = BeautifulSoup(response.text)\n",
    "    print('Finding max page for repositories...')\n",
    "    max_page = int(soup.find('div', role='navigation').text[-6])\n",
    "    print(f'Max page found: {max_page}')\n",
    "    page = 1\n",
    "    title_list = []\n",
    "    readme_list = []\n",
    "    repository_links = []\n",
    "    print('Starting loop...')\n",
    "    for n in range(max_page):\n",
    "        print(n+1, 'iteration')\n",
    "        print(f'Pulling data from {url}')\n",
    "        # Reset soup.\n",
    "        response = get(url)\n",
    "        soup = BeautifulSoup(response.text)\n",
    "        # Get all the repositories from the page.\n",
    "        repositories = soup.find_all('a', itemprop='name codeRepository')\n",
    "        # Create a list of the repository titles.\n",
    "        repository_titles = [repo.text.strip() for repo in repositories]\n",
    "        repository_titles = [e for e in repository_titles if e not in ('darwin-libpthread')]\n",
    "        print(\"Appending titles to 'title_list'...\")\n",
    "        for title in repository_titles:\n",
    "            title_list.append(title)\n",
    "        print('Repository titles appended.')     \n",
    "        print('Fetching links for repositories...')\n",
    "        for repo in repositories:\n",
    "            repository_links.append(repo.get('href'))\n",
    "        ## Create a list of the readme files to add to a dataframe\n",
    "        git = 'https://github.com/'\n",
    "        #print('Fetching README files from each repository...')\n",
    "        #for link in repository_links:\n",
    "        #    print(f'Fetching from {link}...')\n",
    "        #    # Append github to beginning of repository url\n",
    "        #    repo_response = get(git + link)\n",
    "        #    repo_soup = BeautifulSoup(repo_response.text)\n",
    "        #    # Get the readme from the page.\n",
    "        #    readme = repo_soup.find('div', id='readme').text.strip().replace('\\n', ' ')\n",
    "        #    readme_list.append(readme)\n",
    "        #print('README files obtained.')\n",
    "        next_page = soup.find('a', class_='next_page').get('href')[:-1]\n",
    "        ## Use this line of code to get the url for the next page.\n",
    "        if page <= 5:\n",
    "            url = git + next_page + str(page + 1)\n",
    "            page += 1\n",
    "        else:\n",
    "            return repository_links\n",
    "        "
   ]
  },
  {
   "cell_type": "code",
   "execution_count": null,
   "id": "26203c99",
   "metadata": {},
   "outputs": [],
   "source": [
    "list_of_repositories = get_all_repository_urls('https://github.com/orgs/apple/repositories')"
   ]
  },
  {
   "cell_type": "code",
   "execution_count": null,
   "id": "22e35e80",
   "metadata": {},
   "outputs": [],
   "source": [
    "list_of_repositories"
   ]
  },
  {
   "cell_type": "code",
   "execution_count": null,
   "id": "4b329392",
   "metadata": {},
   "outputs": [],
   "source": [
    "response = get('https://github.com/orgs/apple/repositories')\n",
    "soup = BeautifulSoup(response.text)"
   ]
  },
  {
   "cell_type": "code",
   "execution_count": null,
   "id": "bc4546ae",
   "metadata": {},
   "outputs": [],
   "source": [
    "repositories = soup.find_all('a', itemprop='name codeRepository')"
   ]
  },
  {
   "cell_type": "code",
   "execution_count": null,
   "id": "32f24f51",
   "metadata": {},
   "outputs": [],
   "source": [
    "list_o_repo = []\n",
    "for repo in repositories:\n",
    "    list_o_repo.append(repo.get('href'))"
   ]
  },
  {
   "cell_type": "code",
   "execution_count": null,
   "id": "af9e0c17",
   "metadata": {},
   "outputs": [],
   "source": [
    "list_o_repo"
   ]
  },
  {
   "cell_type": "code",
   "execution_count": null,
   "id": "641e6a36",
   "metadata": {},
   "outputs": [],
   "source": []
  },
  {
   "cell_type": "code",
   "execution_count": null,
   "id": "514ce65a",
   "metadata": {},
   "outputs": [],
   "source": [
    "def get_all_repository_urls(url): # repository url\n",
    "    # Get max page.\n",
    "    response = get(url)\n",
    "    soup = BeautifulSoup(response.text)\n",
    "    print('Finding max page for repositories...')\n",
    "    max_page = int(soup.find('div', role='navigation').text[-6])\n",
    "    print(f'Max page found: {max_page}')\n",
    "    page = 1\n",
    "    title_list = []\n",
    "    readme_list = []\n",
    "    repository_links = []\n",
    "    print('Starting loop...')\n",
    "    for n in range(max_page):\n",
    "        print(n+1, 'iteration')\n",
    "        print(f'Pulling data from {url}')\n",
    "        # Reset soup.\n",
    "        response = get(url)\n",
    "        soup = BeautifulSoup(response.text)\n",
    "        # Get all the repositories from the page.\n",
    "        repositories = soup.find_all('a', itemprop='name codeRepository')\n",
    "        # Create a list of the repository titles.\n",
    "        repository_titles = [repo.text.strip() for repo in repositories]\n",
    "        repository_titles = [e for e in repository_titles if e not in ('darwin-libpthread')]\n",
    "        print(\"Appending titles to 'title_list'...\")\n",
    "        for title in repository_titles:\n",
    "            title_list.append(title.text.strip())\n",
    "        print('Repository titles appended.')\n",
    "        # Get url for each repository.\n",
    "        repository_links = []\n",
    "        print('Fetching links for repositories...')\n",
    "        for titles in repository_titles:\n",
    "            repository_links.append(titles.get('href'))\n",
    "        # Create a list of the readme files to add to a dataframe\n",
    "        git = 'https://github.com/'\n",
    "        #print('Fetching README files from each repository...')\n",
    "        #for link in repository_links:\n",
    "        #    print(f'Fetching from {link}...')\n",
    "        #    # Append github to beginning of repository url\n",
    "        #    repo_response = get(git + link)\n",
    "        #    repo_soup = BeautifulSoup(repo_response.text)\n",
    "        #    # Get the readme from the page.\n",
    "        #    readme = repo_soup.find('div', id='readme').text.strip().replace('\\n', ' ')\n",
    "        #    readme_list.append(readme)\n",
    "        #print('README files obtained.')\n",
    "        next_page = soup.find('a', class_='next_page').get('href')[:-1]\n"
   ]
  },
  {
   "cell_type": "code",
   "execution_count": null,
   "id": "a62309c1",
   "metadata": {},
   "outputs": [],
   "source": [
    "repository_links = get_all_repository_urls('https://github.com/orgs/apple/repositories')"
   ]
  },
  {
   "cell_type": "code",
   "execution_count": null,
   "id": "0bcae5a5",
   "metadata": {},
   "outputs": [],
   "source": []
  },
  {
   "cell_type": "code",
   "execution_count": null,
   "id": "48934e94",
   "metadata": {},
   "outputs": [],
   "source": []
  },
  {
   "cell_type": "code",
   "execution_count": null,
   "id": "73792cc1",
   "metadata": {},
   "outputs": [],
   "source": []
  },
  {
   "cell_type": "code",
   "execution_count": null,
   "id": "16e233db",
   "metadata": {},
   "outputs": [],
   "source": []
  },
  {
   "cell_type": "code",
   "execution_count": null,
   "id": "ac428a89",
   "metadata": {},
   "outputs": [],
   "source": [
    "repository_link = get_all_repository_urls('https://github.com/orgs/apple/repositories')"
   ]
  },
  {
   "cell_type": "code",
   "execution_count": null,
   "id": "35d06277",
   "metadata": {},
   "outputs": [],
   "source": [
    "title_list"
   ]
  },
  {
   "cell_type": "code",
   "execution_count": null,
   "id": "ebbbb00a",
   "metadata": {},
   "outputs": [],
   "source": [
    "# ccs-pyopendirectory, darwin-libplatform"
   ]
  },
  {
   "cell_type": "code",
   "execution_count": null,
   "id": "5f115826",
   "metadata": {},
   "outputs": [],
   "source": [
    "len(readme_list)"
   ]
  },
  {
   "cell_type": "code",
   "execution_count": null,
   "id": "207ab5ce",
   "metadata": {},
   "outputs": [],
   "source": []
  }
 ],
 "metadata": {
  "kernelspec": {
   "display_name": "Python 3 (ipykernel)",
   "language": "python",
   "name": "python3"
  },
  "language_info": {
   "codemirror_mode": {
    "name": "ipython",
    "version": 3
   },
   "file_extension": ".py",
   "mimetype": "text/x-python",
   "name": "python",
   "nbconvert_exporter": "python",
   "pygments_lexer": "ipython3",
   "version": "3.8.8"
  }
 },
 "nbformat": 4,
 "nbformat_minor": 5
}
