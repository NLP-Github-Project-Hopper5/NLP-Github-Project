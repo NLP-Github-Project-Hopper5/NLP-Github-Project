{
 "cells": [
  {
   "cell_type": "code",
   "execution_count": 1,
   "metadata": {},
   "outputs": [],
   "source": [
    "import re, os\n",
    "import unicodedata\n",
    "import json\n",
    "\n",
    "import pandas as pd\n",
    "import numpy as np\n",
    "import seaborn as sns\n",
    "import seaborn as sns\n",
    "import matplotlib.pyplot as plt\n",
    "\n",
    "import nltk\n",
    "import nltk.sentiment\n",
    "from nltk.tokenize.toktok import ToktokTokenizer\n",
    "from nltk.corpus import stopwords\n",
    "from time import strftime\n",
    "\n",
    "from wordcloud import WordCloud\n",
    "\n",
    "from pprint import pprint\n",
    "\n",
    "from sklearn.feature_extraction.text import TfidfVectorizer\n",
    "from sklearn.model_selection import train_test_split\n",
    "from sklearn.linear_model import LogisticRegression\n",
    "from sklearn.tree import DecisionTreeClassifier, plot_tree\n",
    "from sklearn.ensemble import RandomForestClassifier\n",
    "from sklearn.neighbors import KNeighborsClassifier\n",
    "from sklearn.metrics import classification_report, accuracy_score\n",
    "from sklearn.feature_extraction.text import CountVectorizer\n",
    "\n",
    "\n",
    "from requests import get\n",
    "from bs4 import BeautifulSoup\n",
    "\n",
    "from wordcloud import WordCloud\n",
    "\n",
    "import acquire\n",
    "import acquire_jg\n",
    "import prepare_jag\n",
    "\n",
    "\n",
    "plt.rc('figure', figsize=(13, 7))\n",
    "plt.style.use('seaborn-darkgrid')"
   ]
  },
  {
   "cell_type": "markdown",
   "metadata": {},
   "source": [
    "---"
   ]
  },
  {
   "cell_type": "markdown",
   "metadata": {},
   "source": [
    "## Acquire data"
   ]
  },
  {
   "cell_type": "code",
   "execution_count": null,
   "metadata": {},
   "outputs": [],
   "source": [
    "\"\"\" def get_all_repository_urls(url): # repository url\n",
    "    # Get max page.\n",
    "    response = get(url)\n",
    "    soup = BeautifulSoup(response.text)\n",
    "    print('Finding max page for repositories...')\n",
    "    max_page = int(soup.find('div', role='navigation').text[-6])\n",
    "    print(f'Max page found: {max_page}')\n",
    "    page = 1\n",
    "    repository_links = []\n",
    "    print('Starting loop...')\n",
    "    for n in range(max_page):\n",
    "        print(n+1, 'iteration')\n",
    "        print(f'Pulling data from {url}')\n",
    "        # Reset soup.\n",
    "        response = get(url)\n",
    "        soup = BeautifulSoup(response.text)\n",
    "        # Get all the repositories from the page.\n",
    "        repositories = soup.find_all('a', itemprop='name codeRepository') \n",
    "        print('Fetching links for repositories...')\n",
    "        for repo in repositories:\n",
    "            repository_links.append(repo.get('href'))\n",
    "        git = 'https://github.com/'\n",
    "        next_page = soup.find('a', class_='next_page').get('href')[:-1]\n",
    "        ## Use this line of code to get the url for the next page.\n",
    "        if page <= 4:\n",
    "            url = git + next_page + str(page + 1)\n",
    "            page += 1\n",
    "        else:\n",
    "            return repository_links\n",
    " \"\"\""
   ]
  },
  {
   "cell_type": "code",
   "execution_count": null,
   "metadata": {},
   "outputs": [],
   "source": [
    "#repository_links = get_all_repository_urls('https://github.com/orgs/apple/repositories')"
   ]
  },
  {
   "cell_type": "code",
   "execution_count": 2,
   "metadata": {},
   "outputs": [],
   "source": [
    "df = pd.read_json('data.json')"
   ]
  },
  {
   "cell_type": "code",
   "execution_count": 3,
   "metadata": {},
   "outputs": [
    {
     "data": {
      "text/plain": [
       "Swift               65\n",
       "Python              38\n",
       "C++                 15\n",
       "C                   11\n",
       "JavaScript           2\n",
       "Java                 2\n",
       "Jupyter Notebook     2\n",
       "HTML                 2\n",
       "Dockerfile           1\n",
       "Markdown             1\n",
       "Shell                1\n",
       "R                    1\n",
       "Starlark             1\n",
       "LLVM                 1\n",
       "Name: language, dtype: int64"
      ]
     },
     "execution_count": 3,
     "metadata": {},
     "output_type": "execute_result"
    }
   ],
   "source": [
    "df.language.value_counts()"
   ]
  },
  {
   "cell_type": "markdown",
   "metadata": {},
   "source": [
    "Looks like our categories for classification will be Swift, Python, C (combined C & C++), and other. Can make a new column mapping that target."
   ]
  },
  {
   "cell_type": "markdown",
   "metadata": {},
   "source": [
    "---"
   ]
  },
  {
   "cell_type": "markdown",
   "metadata": {},
   "source": [
    "## Prepare Data\n",
    "\n",
    "- Add column for target language class\n",
    "- Add column for clean, lemmatized, etc.\n",
    "- Split word list by language"
   ]
  },
  {
   "cell_type": "code",
   "execution_count": 4,
   "metadata": {},
   "outputs": [],
   "source": [
    "df = prepare_jag.prep_article_data(df, 'original')"
   ]
  },
  {
   "cell_type": "code",
   "execution_count": null,
   "metadata": {},
   "outputs": [],
   "source": [
    "df.shape"
   ]
  },
  {
   "cell_type": "code",
   "execution_count": 7,
   "metadata": {},
   "outputs": [
    {
     "data": {
      "text/html": [
       "<div>\n",
       "<style scoped>\n",
       "    .dataframe tbody tr th:only-of-type {\n",
       "        vertical-align: middle;\n",
       "    }\n",
       "\n",
       "    .dataframe tbody tr th {\n",
       "        vertical-align: top;\n",
       "    }\n",
       "\n",
       "    .dataframe thead th {\n",
       "        text-align: right;\n",
       "    }\n",
       "</style>\n",
       "<table border=\"1\" class=\"dataframe\">\n",
       "  <thead>\n",
       "    <tr style=\"text-align: right;\">\n",
       "      <th></th>\n",
       "      <th>repo</th>\n",
       "      <th>language</th>\n",
       "      <th>target</th>\n",
       "      <th>original</th>\n",
       "      <th>clean</th>\n",
       "      <th>stemmed</th>\n",
       "      <th>lemmatized</th>\n",
       "    </tr>\n",
       "  </thead>\n",
       "  <tbody>\n",
       "    <tr>\n",
       "      <th>0</th>\n",
       "      <td>apple/llvm-project</td>\n",
       "      <td>LLVM</td>\n",
       "      <td>other</td>\n",
       "      <td># Apple's fork of llvm-project\\n\\nThis is Appl...</td>\n",
       "      <td>apple ' fork llvmproject apple ' fork llvmproj...</td>\n",
       "      <td>appl ' fork llvmproject thi appl ' fork llvmpr...</td>\n",
       "      <td>apple ' fork llvmproject apple ' fork llvmproj...</td>\n",
       "    </tr>\n",
       "    <tr>\n",
       "      <th>1</th>\n",
       "      <td>apple/swift-argument-parser</td>\n",
       "      <td>Swift</td>\n",
       "      <td>swift</td>\n",
       "      <td># Swift Argument Parser\\n\\n## Usage\\n\\nBegin b...</td>\n",
       "      <td>swift argument parser usage begin declaring ty...</td>\n",
       "      <td>swift argument parser usag begin declar type d...</td>\n",
       "      <td>swift argument parser usage begin declaring ty...</td>\n",
       "    </tr>\n",
       "    <tr>\n",
       "      <th>2</th>\n",
       "      <td>apple/swift-docc</td>\n",
       "      <td>Swift</td>\n",
       "      <td>swift</td>\n",
       "      <td># Swift-DocC\\n\\nSwift-DocC is a documentation ...</td>\n",
       "      <td>swiftdocc swiftdocc documentation compiler swi...</td>\n",
       "      <td>swiftdocc swiftdocc document compil swift fram...</td>\n",
       "      <td>swiftdocc swiftdocc documentation compiler swi...</td>\n",
       "    </tr>\n",
       "    <tr>\n",
       "      <th>3</th>\n",
       "      <td>apple/swift</td>\n",
       "      <td>C++</td>\n",
       "      <td>c</td>\n",
       "      <td>&lt;img src=\"https://swift.org/assets/images/swif...</td>\n",
       "      <td>img srchttpsswiftorgassetsimagesswiftsvg altsw...</td>\n",
       "      <td>img srchttpsswiftorgassetsimagesswiftsvg altsw...</td>\n",
       "      <td>img srchttpsswiftorgassetsimagesswiftsvg altsw...</td>\n",
       "    </tr>\n",
       "    <tr>\n",
       "      <th>4</th>\n",
       "      <td>apple/sourcekit-lsp</td>\n",
       "      <td>Swift</td>\n",
       "      <td>swift</td>\n",
       "      <td># SourceKit-LSP\\n\\nSourceKit-LSP is an impleme...</td>\n",
       "      <td>sourcekitlsp sourcekitlsp implementation langu...</td>\n",
       "      <td>sourcekitlsp sourcekitlsp implement languag se...</td>\n",
       "      <td>sourcekitlsp sourcekitlsp implementation langu...</td>\n",
       "    </tr>\n",
       "    <tr>\n",
       "      <th>...</th>\n",
       "      <td>...</td>\n",
       "      <td>...</td>\n",
       "      <td>...</td>\n",
       "      <td>...</td>\n",
       "      <td>...</td>\n",
       "      <td>...</td>\n",
       "      <td>...</td>\n",
       "    </tr>\n",
       "    <tr>\n",
       "      <th>146</th>\n",
       "      <td>apple/ccs-caldavclientlibrary</td>\n",
       "      <td>HTML</td>\n",
       "      <td>other</td>\n",
       "      <td>README for CalDAVClientLibrary\\n\\nINTRODUCTION...</td>\n",
       "      <td>readme caldavclientlibrary introduction caldav...</td>\n",
       "      <td>readm caldavclientlibrari introduct caldavclie...</td>\n",
       "      <td>readme caldavclientlibrary introduction caldav...</td>\n",
       "    </tr>\n",
       "    <tr>\n",
       "      <th>147</th>\n",
       "      <td>apple/ccs-pyosxframeworks</td>\n",
       "      <td>Python</td>\n",
       "      <td>python</td>\n",
       "      <td>Getting Started\\n===============\\n\\nThis is a ...</td>\n",
       "      <td>getting started python library wraps number us...</td>\n",
       "      <td>get start thi python librari wrap number use o...</td>\n",
       "      <td>getting started python library wrap number use...</td>\n",
       "    </tr>\n",
       "    <tr>\n",
       "      <th>148</th>\n",
       "      <td>apple/ccs-pysecuretransport</td>\n",
       "      <td>Python</td>\n",
       "      <td>python</td>\n",
       "      <td>Getting Started\\n===============\\n\\nOS X Secur...</td>\n",
       "      <td>getting started os x securetransport cffi base...</td>\n",
       "      <td>get start os x securetransport cffi base api l...</td>\n",
       "      <td>getting started x securetransport cffi based a...</td>\n",
       "    </tr>\n",
       "    <tr>\n",
       "      <th>149</th>\n",
       "      <td>apple/swift-protobuf-test-conformance</td>\n",
       "      <td>Swift</td>\n",
       "      <td>swift</td>\n",
       "      <td>&lt;img src=\"https://swift.org/assets/images/swif...</td>\n",
       "      <td>img srchttpsswiftorgassetsimagesswiftsvg altsw...</td>\n",
       "      <td>img srchttpsswiftorgassetsimagesswiftsvg altsw...</td>\n",
       "      <td>img srchttpsswiftorgassetsimagesswiftsvg altsw...</td>\n",
       "    </tr>\n",
       "    <tr>\n",
       "      <th>150</th>\n",
       "      <td>apple/darwin-libpthread</td>\n",
       "      <td>C</td>\n",
       "      <td>other</td>\n",
       "      <td></td>\n",
       "      <td></td>\n",
       "      <td></td>\n",
       "      <td></td>\n",
       "    </tr>\n",
       "  </tbody>\n",
       "</table>\n",
       "<p>151 rows × 7 columns</p>\n",
       "</div>"
      ],
      "text/plain": [
       "                                      repo language  target  \\\n",
       "0                       apple/llvm-project     LLVM   other   \n",
       "1              apple/swift-argument-parser    Swift   swift   \n",
       "2                         apple/swift-docc    Swift   swift   \n",
       "3                              apple/swift      C++       c   \n",
       "4                      apple/sourcekit-lsp    Swift   swift   \n",
       "..                                     ...      ...     ...   \n",
       "146          apple/ccs-caldavclientlibrary     HTML   other   \n",
       "147              apple/ccs-pyosxframeworks   Python  python   \n",
       "148            apple/ccs-pysecuretransport   Python  python   \n",
       "149  apple/swift-protobuf-test-conformance    Swift   swift   \n",
       "150                apple/darwin-libpthread        C   other   \n",
       "\n",
       "                                              original  \\\n",
       "0    # Apple's fork of llvm-project\\n\\nThis is Appl...   \n",
       "1    # Swift Argument Parser\\n\\n## Usage\\n\\nBegin b...   \n",
       "2    # Swift-DocC\\n\\nSwift-DocC is a documentation ...   \n",
       "3    <img src=\"https://swift.org/assets/images/swif...   \n",
       "4    # SourceKit-LSP\\n\\nSourceKit-LSP is an impleme...   \n",
       "..                                                 ...   \n",
       "146  README for CalDAVClientLibrary\\n\\nINTRODUCTION...   \n",
       "147  Getting Started\\n===============\\n\\nThis is a ...   \n",
       "148  Getting Started\\n===============\\n\\nOS X Secur...   \n",
       "149  <img src=\"https://swift.org/assets/images/swif...   \n",
       "150                                                      \n",
       "\n",
       "                                                 clean  \\\n",
       "0    apple ' fork llvmproject apple ' fork llvmproj...   \n",
       "1    swift argument parser usage begin declaring ty...   \n",
       "2    swiftdocc swiftdocc documentation compiler swi...   \n",
       "3    img srchttpsswiftorgassetsimagesswiftsvg altsw...   \n",
       "4    sourcekitlsp sourcekitlsp implementation langu...   \n",
       "..                                                 ...   \n",
       "146  readme caldavclientlibrary introduction caldav...   \n",
       "147  getting started python library wraps number us...   \n",
       "148  getting started os x securetransport cffi base...   \n",
       "149  img srchttpsswiftorgassetsimagesswiftsvg altsw...   \n",
       "150                                                      \n",
       "\n",
       "                                               stemmed  \\\n",
       "0    appl ' fork llvmproject thi appl ' fork llvmpr...   \n",
       "1    swift argument parser usag begin declar type d...   \n",
       "2    swiftdocc swiftdocc document compil swift fram...   \n",
       "3    img srchttpsswiftorgassetsimagesswiftsvg altsw...   \n",
       "4    sourcekitlsp sourcekitlsp implement languag se...   \n",
       "..                                                 ...   \n",
       "146  readm caldavclientlibrari introduct caldavclie...   \n",
       "147  get start thi python librari wrap number use o...   \n",
       "148  get start os x securetransport cffi base api l...   \n",
       "149  img srchttpsswiftorgassetsimagesswiftsvg altsw...   \n",
       "150                                                      \n",
       "\n",
       "                                            lemmatized  \n",
       "0    apple ' fork llvmproject apple ' fork llvmproj...  \n",
       "1    swift argument parser usage begin declaring ty...  \n",
       "2    swiftdocc swiftdocc documentation compiler swi...  \n",
       "3    img srchttpsswiftorgassetsimagesswiftsvg altsw...  \n",
       "4    sourcekitlsp sourcekitlsp implementation langu...  \n",
       "..                                                 ...  \n",
       "146  readme caldavclientlibrary introduction caldav...  \n",
       "147  getting started python library wrap number use...  \n",
       "148  getting started x securetransport cffi based a...  \n",
       "149  img srchttpsswiftorgassetsimagesswiftsvg altsw...  \n",
       "150                                                     \n",
       "\n",
       "[151 rows x 7 columns]"
      ]
     },
     "execution_count": 7,
     "metadata": {},
     "output_type": "execute_result"
    }
   ],
   "source": [
    "df"
   ]
  },
  {
   "cell_type": "code",
   "execution_count": null,
   "metadata": {},
   "outputs": [],
   "source": [
    "def categorise(row):  \n",
    "    if row['language'] == 'Swift':\n",
    "        return 'swift'\n",
    "    elif row['language'] == 'Python':\n",
    "        return 'python'\n",
    "    elif row['language'] == ('C++' or 'C'):\n",
    "        return 'c'\n",
    "    return 'other'"
   ]
  },
  {
   "cell_type": "markdown",
   "metadata": {},
   "source": [
    "Make a new column with language families for target (this was added to the prepare file, so no need to run again)"
   ]
  },
  {
   "cell_type": "code",
   "execution_count": null,
   "metadata": {},
   "outputs": [],
   "source": [
    "#df['target']= df.apply(lambda row: categorise(row), axis=1)"
   ]
  },
  {
   "cell_type": "code",
   "execution_count": null,
   "metadata": {},
   "outputs": [],
   "source": [
    "df.head(20)"
   ]
  },
  {
   "cell_type": "code",
   "execution_count": null,
   "metadata": {},
   "outputs": [],
   "source": []
  },
  {
   "cell_type": "markdown",
   "metadata": {},
   "source": [
    "---"
   ]
  },
  {
   "cell_type": "markdown",
   "metadata": {},
   "source": [
    "## Explore"
   ]
  },
  {
   "cell_type": "markdown",
   "metadata": {},
   "source": [
    "- Make word lists per language family (swift, python, c, other)\n",
    "- Look at word frequency by langage family\n",
    "- Check out bigrams and trigrams\n",
    "- Wordclouds and other visuals"
   ]
  },
  {
   "cell_type": "code",
   "execution_count": null,
   "metadata": {},
   "outputs": [],
   "source": [
    "df[df.language.isnull()]"
   ]
  },
  {
   "cell_type": "markdown",
   "metadata": {},
   "source": [
    "- Look at these 8 repos and see if there is a language that can be manually added\n",
    "- Otherwise, just classigy them as other"
   ]
  },
  {
   "cell_type": "code",
   "execution_count": null,
   "metadata": {},
   "outputs": [],
   "source": [
    "nan_languages = list(df[df.language.isnull()].index)"
   ]
  },
  {
   "cell_type": "code",
   "execution_count": null,
   "metadata": {},
   "outputs": [],
   "source": [
    "for i in nan_languages:\n",
    "    display(df[df.index == i])"
   ]
  },
  {
   "cell_type": "markdown",
   "metadata": {},
   "source": [
    "Manually correct some missing values... Added to prepare.py, so commenting out"
   ]
  },
  {
   "cell_type": "code",
   "execution_count": null,
   "metadata": {},
   "outputs": [],
   "source": [
    "# # let's override the languages with the observations noted\n",
    "# df.language.loc[0] = 'LLVM'\n",
    "# df.language.loc[13] = 'JavaScript'\n",
    "# df.language.loc[14] = 'C'\n",
    "# df.language.loc[83] = 'Swift'\n",
    "# df.language.loc[139] = 'Swift'\n",
    "# df.language.loc[145] = 'Swift'\n",
    "# df.language.loc[149] = 'Swift'"
   ]
  },
  {
   "cell_type": "code",
   "execution_count": null,
   "metadata": {},
   "outputs": [],
   "source": [
    "df[df.language.isnull()]"
   ]
  },
  {
   "cell_type": "code",
   "execution_count": null,
   "metadata": {},
   "outputs": [],
   "source": [
    "df.head(20)"
   ]
  },
  {
   "cell_type": "code",
   "execution_count": null,
   "metadata": {},
   "outputs": [],
   "source": [
    "df[df.target.isnull()]"
   ]
  },
  {
   "cell_type": "markdown",
   "metadata": {},
   "source": [
    "Reapply the target column"
   ]
  },
  {
   "cell_type": "code",
   "execution_count": null,
   "metadata": {},
   "outputs": [],
   "source": []
  }
 ],
 "metadata": {
  "interpreter": {
   "hash": "38cca0c38332a56087b24af0bc80247f4fced29cb4f7f437d91dc159adec9c4e"
  },
  "kernelspec": {
   "display_name": "Python 3.8.12 ('base')",
   "language": "python",
   "name": "python3"
  },
  "language_info": {
   "codemirror_mode": {
    "name": "ipython",
    "version": 3
   },
   "file_extension": ".py",
   "mimetype": "text/x-python",
   "name": "python",
   "nbconvert_exporter": "python",
   "pygments_lexer": "ipython3",
   "version": "3.8.12"
  },
  "orig_nbformat": 4
 },
 "nbformat": 4,
 "nbformat_minor": 2
}
