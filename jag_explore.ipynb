{
 "cells": [
  {
   "cell_type": "code",
   "execution_count": 4,
   "metadata": {},
   "outputs": [],
   "source": [
    "import re, os\n",
    "import unicodedata\n",
    "import pandas as pd\n",
    "import seaborn as sns\n",
    "import matplotlib.pyplot as plt\n",
    "import nltk\n",
    "import nltk.sentiment\n",
    "\n",
    "from requests import get\n",
    "from bs4 import BeautifulSoup\n",
    "\n",
    "from wordcloud import WordCloud\n",
    "\n",
    "\n",
    "plt.rc('figure', figsize=(13, 7))\n",
    "plt.style.use('seaborn-darkgrid')"
   ]
  },
  {
   "cell_type": "code",
   "execution_count": 5,
   "metadata": {},
   "outputs": [],
   "source": [
    "import acquire"
   ]
  },
  {
   "cell_type": "markdown",
   "metadata": {},
   "source": [
    "---"
   ]
  },
  {
   "cell_type": "markdown",
   "metadata": {},
   "source": [
    "## Acquire data"
   ]
  },
  {
   "cell_type": "code",
   "execution_count": 6,
   "metadata": {},
   "outputs": [],
   "source": [
    "def get_all_repository_urls(url): # repository url\n",
    "    # Get max page.\n",
    "    response = get(url)\n",
    "    soup = BeautifulSoup(response.text)\n",
    "    print('Finding max page for repositories...')\n",
    "    max_page = int(soup.find('div', role='navigation').text[-6])\n",
    "    print(f'Max page found: {max_page}')\n",
    "    page = 1\n",
    "    repository_links = []\n",
    "    print('Starting loop...')\n",
    "    for n in range(max_page):\n",
    "        print(n+1, 'iteration')\n",
    "        print(f'Pulling data from {url}')\n",
    "        # Reset soup.\n",
    "        response = get(url)\n",
    "        soup = BeautifulSoup(response.text)\n",
    "        # Get all the repositories from the page.\n",
    "        repositories = soup.find_all('a', itemprop='name codeRepository') \n",
    "        print('Fetching links for repositories...')\n",
    "        for repo in repositories:\n",
    "            repository_links.append(repo.get('href'))\n",
    "        git = 'https://github.com/'\n",
    "        next_page = soup.find('a', class_='next_page').get('href')[:-1]\n",
    "        ## Use this line of code to get the url for the next page.\n",
    "        if page <= 4:\n",
    "            url = git + next_page + str(page + 1)\n",
    "            page += 1\n",
    "        else:\n",
    "            return repository_links\n"
   ]
  },
  {
   "cell_type": "code",
   "execution_count": 7,
   "metadata": {},
   "outputs": [
    {
     "name": "stdout",
     "output_type": "stream",
     "text": [
      "Finding max page for repositories...\n",
      "Max page found: 6\n",
      "Starting loop...\n",
      "1 iteration\n",
      "Pulling data from https://github.com/orgs/apple/repositories\n",
      "Fetching links for repositories...\n",
      "2 iteration\n",
      "Pulling data from https://github.com//orgs/apple/repositories?page=2\n",
      "Fetching links for repositories...\n",
      "3 iteration\n",
      "Pulling data from https://github.com//orgs/apple/repositories?page=3\n",
      "Fetching links for repositories...\n",
      "4 iteration\n",
      "Pulling data from https://github.com//orgs/apple/repositories?page=4\n",
      "Fetching links for repositories...\n",
      "5 iteration\n",
      "Pulling data from https://github.com//orgs/apple/repositories?page=5\n",
      "Fetching links for repositories...\n"
     ]
    }
   ],
   "source": [
    "repository_links = get_all_repository_urls('https://github.com/orgs/apple/repositories')"
   ]
  },
  {
   "cell_type": "code",
   "execution_count": 8,
   "metadata": {},
   "outputs": [
    {
     "data": {
      "text/plain": [
       "['/apple/llvm-project',\n",
       " '/apple/swift',\n",
       " '/apple/sourcekit-lsp',\n",
       " '/apple/foundationdb',\n",
       " '/apple/swift-docc',\n",
       " '/apple/swift-protobuf',\n",
       " '/apple/swift-llbuild',\n",
       " '/apple/swift-syntax',\n",
       " '/apple/swift-package-manager',\n",
       " '/apple/swift-source-compat-suite',\n",
       " '/apple/swift-markdown',\n",
       " '/apple/swift-docc-symbolkit',\n",
       " '/apple/swift-docc-render-artifact',\n",
       " '/apple/swift-lmdb',\n",
       " '/apple/swift-tools-support-core',\n",
       " '/apple/swift-driver',\n",
       " '/apple/indexstore-db',\n",
       " '/apple/swift-stress-tester',\n",
       " '/apple/swift-xcode-playground-support',\n",
       " '/apple/swift-integration-tests',\n",
       " '/apple/swift-cmark',\n",
       " '/apple/swift-corelibs-libdispatch',\n",
       " '/apple/swift-corelibs-foundation',\n",
       " '/apple/swift-corelibs-xctest',\n",
       " '/apple/swift-experimental-string-processing',\n",
       " '/apple/swift-docker',\n",
       " '/apple/swift-installer-scripts',\n",
       " '/apple/swift-llbuild2',\n",
       " '/apple/swift-docc-render',\n",
       " '/apple/swift-evolution',\n",
       " '/apple/servicetalk',\n",
       " '/apple/swift-nio-ssh',\n",
       " '/apple/password-manager-resources',\n",
       " '/apple/swift-nio',\n",
       " '/apple/ml-hypersim',\n",
       " '/apple/swift-collections',\n",
       " '/apple/coremltools',\n",
       " '/apple/swift-atomics',\n",
       " '/apple/swift-log',\n",
       " '/apple/swift-distributed-actors',\n",
       " '/apple/swift-algorithms',\n",
       " '/apple/swift-argument-parser',\n",
       " '/apple/apple-llvm-infrastructure-tools',\n",
       " '/apple/swift-collections-benchmark',\n",
       " '/apple/cloudkit-sample-sharing',\n",
       " '/apple/cloudkit-sample-queries',\n",
       " '/apple/cloudkit-sample-privatedb-sync',\n",
       " '/apple/cloudkit-sample-privatedb',\n",
       " '/apple/cloudkit-sample-encryption',\n",
       " '/apple/cloudkit-sample-coredatasync',\n",
       " '/apple/example-package-playingcard',\n",
       " '/apple/swift-distributed-tracing',\n",
       " '/apple/swift-distributed-tracing-baggage',\n",
       " '/apple/swift-nio-ssl',\n",
       " '/apple/swift-tools-support-async',\n",
       " '/apple/swift-package-collection-generator',\n",
       " '/apple/swift-crypto',\n",
       " '/apple/swift-docc-plugin',\n",
       " '/apple/ARKitScenes',\n",
       " '/apple/swift-metrics',\n",
       " '/apple/swift-metrics-extras',\n",
       " '/apple/swift-nio-http2',\n",
       " '/apple/swift-http-structured-headers',\n",
       " '/apple/swift-nio-extras',\n",
       " '/apple/swift-nio-transport-services',\n",
       " '/apple/darwin-xnu',\n",
       " '/apple/swift-system',\n",
       " '/apple/swift-format',\n",
       " '/apple/ml-cvnets',\n",
       " '/apple/ml-knowledge-conflicts',\n",
       " '/apple/swift-sample-distributed-actors-transport',\n",
       " '/apple/swift-numerics',\n",
       " '/apple/cups',\n",
       " '/apple/swift-package-registry-compatibility-test-suite',\n",
       " '/apple/swift-se0288-is-power',\n",
       " '/apple/swift-standard-library-preview',\n",
       " '/apple/swift-se0270-range-set',\n",
       " '/apple/ml-core',\n",
       " '/apple/FHIRModels',\n",
       " '/apple/turicreate',\n",
       " '/apple/swift-service-discovery',\n",
       " '/apple/HomeKitADK',\n",
       " '/apple/GCGC',\n",
       " '/apple/swift-community-hosted-continuous-integration',\n",
       " '/apple/tensorflow_macos',\n",
       " '/apple/swift-nio-examples',\n",
       " '/apple/learning-compressible-subspaces',\n",
       " '/apple/ccs-pykerberos',\n",
       " '/apple/swift-internals',\n",
       " '/apple/example-package-fisheryates',\n",
       " '/apple/ml-shuffling-amplification',\n",
       " '/apple/ml-gsn',\n",
       " '/apple/ccs-caldavtester',\n",
       " '/apple/swift-evolution-staging',\n",
       " '/apple/example-package-dealer',\n",
       " '/apple/ml-cvpr2019-swd',\n",
       " '/apple/example-package-deckofplayingcards',\n",
       " '/apple/ml-covid-mobility',\n",
       " '/apple/swift-statsd-client',\n",
       " '/apple/AudioUnitSDK',\n",
       " '/apple/swift-nio-zlib-support',\n",
       " '/apple/openjdk',\n",
       " '/apple/ml-uwac',\n",
       " '/apple/darwin-libpthread',\n",
       " '/apple/ml-probabilistic-attention',\n",
       " '/apple/ml-envmapnet',\n",
       " '/apple/ml-cread',\n",
       " '/apple/swift-distributed-tracing-baggage-core',\n",
       " '/apple/ml-stuttering-events-dataset',\n",
       " '/apple/ml-multiple-futures-prediction',\n",
       " '/apple/ml-qrecc',\n",
       " '/apple/apple_rules_lint',\n",
       " '/apple/vqg-multimodal-assistant',\n",
       " '/apple/ccs-pycalendar',\n",
       " '/apple/learning-subspaces',\n",
       " '/apple/darwin-libplatform',\n",
       " '/apple/ml-quant',\n",
       " '/apple/ml-equivariant-neural-rendering',\n",
       " '/apple/swift-nio-nghttp2-support',\n",
       " '/apple/swift-nio-ssl-support',\n",
       " '/apple/swift-cluster-membership',\n",
       " '/apple/ml-tree-dst',\n",
       " '/apple/ml-collegial-ensembles',\n",
       " '/apple/swiftpm-on-llbuild2',\n",
       " '/apple/ml-transcript-translation-consistency-ratings',\n",
       " '/apple/ml-mkqa',\n",
       " '/apple/ml-dab',\n",
       " '/apple/ml-capsules-inverted-attention-routing',\n",
       " '/apple/ccs-calendarserver',\n",
       " '/apple/swift-lldb',\n",
       " '/apple/ml-cifar-10-faster',\n",
       " '/apple/ml-data-parameters',\n",
       " '/apple/ml-afv',\n",
       " '/apple/swift-llvm',\n",
       " '/apple/swift-clang',\n",
       " '/apple/swift-clang-tools-extra',\n",
       " '/apple/swift-libcxx',\n",
       " '/apple/swift-compiler-rt',\n",
       " '/apple/llvm-project-v5-split',\n",
       " '/apple/llvm-project-v5',\n",
       " '/apple/llvm-monorepo-root',\n",
       " '/apple/ml-ncg',\n",
       " '/apple/ccs-twistedextensions',\n",
       " '/apple/ml-all-pairs',\n",
       " '/apple/swift-3-api-guidelines-review',\n",
       " '/apple/ccs-pyopendirectory',\n",
       " '/apple/swift-protobuf-plugin',\n",
       " '/apple/ccs-caldavclientlibrary',\n",
       " '/apple/ccs-pyosxframeworks',\n",
       " '/apple/ccs-pysecuretransport']"
      ]
     },
     "execution_count": 8,
     "metadata": {},
     "output_type": "execute_result"
    }
   ],
   "source": [
    "repository_links"
   ]
  },
  {
   "cell_type": "code",
   "execution_count": 9,
   "metadata": {},
   "outputs": [],
   "source": [
    "import acquire_jg"
   ]
  },
  {
   "cell_type": "code",
   "execution_count": 14,
   "metadata": {},
   "outputs": [],
   "source": [
    "df = pd.read_json('data.json')"
   ]
  },
  {
   "cell_type": "code",
   "execution_count": 15,
   "metadata": {},
   "outputs": [
    {
     "data": {
      "text/html": [
       "<div>\n",
       "<style scoped>\n",
       "    .dataframe tbody tr th:only-of-type {\n",
       "        vertical-align: middle;\n",
       "    }\n",
       "\n",
       "    .dataframe tbody tr th {\n",
       "        vertical-align: top;\n",
       "    }\n",
       "\n",
       "    .dataframe thead th {\n",
       "        text-align: right;\n",
       "    }\n",
       "</style>\n",
       "<table border=\"1\" class=\"dataframe\">\n",
       "  <thead>\n",
       "    <tr style=\"text-align: right;\">\n",
       "      <th></th>\n",
       "      <th>repo</th>\n",
       "      <th>language</th>\n",
       "      <th>readme_contents</th>\n",
       "    </tr>\n",
       "  </thead>\n",
       "  <tbody>\n",
       "    <tr>\n",
       "      <th>0</th>\n",
       "      <td>apple/llvm-project</td>\n",
       "      <td>None</td>\n",
       "      <td># Apple's fork of llvm-project\\n\\nThis is Appl...</td>\n",
       "    </tr>\n",
       "    <tr>\n",
       "      <th>1</th>\n",
       "      <td>apple/swift-argument-parser</td>\n",
       "      <td>Swift</td>\n",
       "      <td># Swift Argument Parser\\n\\n## Usage\\n\\nBegin b...</td>\n",
       "    </tr>\n",
       "    <tr>\n",
       "      <th>2</th>\n",
       "      <td>apple/swift-docc</td>\n",
       "      <td>Swift</td>\n",
       "      <td># Swift-DocC\\n\\nSwift-DocC is a documentation ...</td>\n",
       "    </tr>\n",
       "    <tr>\n",
       "      <th>3</th>\n",
       "      <td>apple/swift</td>\n",
       "      <td>C++</td>\n",
       "      <td>&lt;img src=\"https://swift.org/assets/images/swif...</td>\n",
       "    </tr>\n",
       "    <tr>\n",
       "      <th>4</th>\n",
       "      <td>apple/sourcekit-lsp</td>\n",
       "      <td>Swift</td>\n",
       "      <td># SourceKit-LSP\\n\\nSourceKit-LSP is an impleme...</td>\n",
       "    </tr>\n",
       "    <tr>\n",
       "      <th>...</th>\n",
       "      <td>...</td>\n",
       "      <td>...</td>\n",
       "      <td>...</td>\n",
       "    </tr>\n",
       "    <tr>\n",
       "      <th>146</th>\n",
       "      <td>apple/ccs-caldavclientlibrary</td>\n",
       "      <td>HTML</td>\n",
       "      <td>README for CalDAVClientLibrary\\n\\nINTRODUCTION...</td>\n",
       "    </tr>\n",
       "    <tr>\n",
       "      <th>147</th>\n",
       "      <td>apple/ccs-pyosxframeworks</td>\n",
       "      <td>Python</td>\n",
       "      <td>Getting Started\\n===============\\n\\nThis is a ...</td>\n",
       "    </tr>\n",
       "    <tr>\n",
       "      <th>148</th>\n",
       "      <td>apple/ccs-pysecuretransport</td>\n",
       "      <td>Python</td>\n",
       "      <td>Getting Started\\n===============\\n\\nOS X Secur...</td>\n",
       "    </tr>\n",
       "    <tr>\n",
       "      <th>149</th>\n",
       "      <td>apple/swift-protobuf-test-conformance</td>\n",
       "      <td>None</td>\n",
       "      <td>&lt;img src=\"https://swift.org/assets/images/swif...</td>\n",
       "    </tr>\n",
       "    <tr>\n",
       "      <th>150</th>\n",
       "      <td>apple/darwin-libpthread</td>\n",
       "      <td>C</td>\n",
       "      <td></td>\n",
       "    </tr>\n",
       "  </tbody>\n",
       "</table>\n",
       "<p>151 rows × 3 columns</p>\n",
       "</div>"
      ],
      "text/plain": [
       "                                      repo language  \\\n",
       "0                       apple/llvm-project     None   \n",
       "1              apple/swift-argument-parser    Swift   \n",
       "2                         apple/swift-docc    Swift   \n",
       "3                              apple/swift      C++   \n",
       "4                      apple/sourcekit-lsp    Swift   \n",
       "..                                     ...      ...   \n",
       "146          apple/ccs-caldavclientlibrary     HTML   \n",
       "147              apple/ccs-pyosxframeworks   Python   \n",
       "148            apple/ccs-pysecuretransport   Python   \n",
       "149  apple/swift-protobuf-test-conformance     None   \n",
       "150                apple/darwin-libpthread        C   \n",
       "\n",
       "                                       readme_contents  \n",
       "0    # Apple's fork of llvm-project\\n\\nThis is Appl...  \n",
       "1    # Swift Argument Parser\\n\\n## Usage\\n\\nBegin b...  \n",
       "2    # Swift-DocC\\n\\nSwift-DocC is a documentation ...  \n",
       "3    <img src=\"https://swift.org/assets/images/swif...  \n",
       "4    # SourceKit-LSP\\n\\nSourceKit-LSP is an impleme...  \n",
       "..                                                 ...  \n",
       "146  README for CalDAVClientLibrary\\n\\nINTRODUCTION...  \n",
       "147  Getting Started\\n===============\\n\\nThis is a ...  \n",
       "148  Getting Started\\n===============\\n\\nOS X Secur...  \n",
       "149  <img src=\"https://swift.org/assets/images/swif...  \n",
       "150                                                     \n",
       "\n",
       "[151 rows x 3 columns]"
      ]
     },
     "execution_count": 15,
     "metadata": {},
     "output_type": "execute_result"
    }
   ],
   "source": [
    "df"
   ]
  },
  {
   "cell_type": "code",
   "execution_count": 16,
   "metadata": {},
   "outputs": [
    {
     "data": {
      "text/plain": [
       "Swift               65\n",
       "Python              38\n",
       "C++                 15\n",
       "C                   11\n",
       "JavaScript           2\n",
       "Java                 2\n",
       "Jupyter Notebook     2\n",
       "HTML                 2\n",
       "Dockerfile           1\n",
       "Markdown             1\n",
       "Shell                1\n",
       "R                    1\n",
       "Starlark             1\n",
       "LLVM                 1\n",
       "Name: language, dtype: int64"
      ]
     },
     "execution_count": 16,
     "metadata": {},
     "output_type": "execute_result"
    }
   ],
   "source": [
    "df.language.value_counts()"
   ]
  },
  {
   "cell_type": "markdown",
   "metadata": {},
   "source": [
    "Looks like our categories for classification will be Swift, Python, C (combined C & C++), and other. Can make a new column mapping that target."
   ]
  },
  {
   "cell_type": "markdown",
   "metadata": {},
   "source": [
    "---"
   ]
  },
  {
   "cell_type": "markdown",
   "metadata": {},
   "source": [
    "## Prepare Data\n",
    "\n",
    "- Add column for target language class\n",
    "- Add column for clean, lemmatized, etc.\n",
    "- Split word list by language"
   ]
  },
  {
   "cell_type": "code",
   "execution_count": null,
   "metadata": {},
   "outputs": [],
   "source": []
  },
  {
   "cell_type": "markdown",
   "metadata": {},
   "source": [
    "---"
   ]
  },
  {
   "cell_type": "markdown",
   "metadata": {},
   "source": [
    "## Explore"
   ]
  },
  {
   "cell_type": "markdown",
   "metadata": {},
   "source": []
  }
 ],
 "metadata": {
  "interpreter": {
   "hash": "38cca0c38332a56087b24af0bc80247f4fced29cb4f7f437d91dc159adec9c4e"
  },
  "kernelspec": {
   "display_name": "Python 3.8.12 ('base')",
   "language": "python",
   "name": "python3"
  },
  "language_info": {
   "codemirror_mode": {
    "name": "ipython",
    "version": 3
   },
   "file_extension": ".py",
   "mimetype": "text/x-python",
   "name": "python",
   "nbconvert_exporter": "python",
   "pygments_lexer": "ipython3",
   "version": "3.8.12"
  },
  "orig_nbformat": 4
 },
 "nbformat": 4,
 "nbformat_minor": 2
}
