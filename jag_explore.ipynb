{
 "cells": [
  {
   "cell_type": "code",
   "execution_count": 24,
   "metadata": {},
   "outputs": [],
   "source": [
    "import re, os\n",
    "import unicodedata\n",
    "import json\n",
    "\n",
    "import pandas as pd\n",
    "import numpy as np\n",
    "import seaborn as sns\n",
    "import seaborn as sns\n",
    "import matplotlib.pyplot as plt\n",
    "\n",
    "import nltk\n",
    "import nltk.sentiment\n",
    "from nltk.tokenize.toktok import ToktokTokenizer\n",
    "from nltk.corpus import stopwords\n",
    "from time import strftime\n",
    "\n",
    "from wordcloud import WordCloud\n",
    "\n",
    "from pprint import pprint\n",
    "\n",
    "from sklearn.feature_extraction.text import TfidfVectorizer\n",
    "from sklearn.model_selection import train_test_split\n",
    "from sklearn.linear_model import LogisticRegression\n",
    "from sklearn.tree import DecisionTreeClassifier, plot_tree\n",
    "from sklearn.ensemble import RandomForestClassifier\n",
    "from sklearn.neighbors import KNeighborsClassifier\n",
    "from sklearn.metrics import classification_report, accuracy_score\n",
    "from sklearn.feature_extraction.text import CountVectorizer\n",
    "\n",
    "\n",
    "from requests import get\n",
    "from bs4 import BeautifulSoup\n",
    "\n",
    "from wordcloud import WordCloud\n",
    "\n",
    "import acquire\n",
    "import acquire_jg\n",
    "import prepare_jag\n",
    "\n",
    "\n",
    "plt.rc('figure', figsize=(13, 7))\n",
    "plt.style.use('seaborn-darkgrid')\n",
    "\n",
    "pd.set_option('display.max_rows', 200)\n"
   ]
  },
  {
   "cell_type": "markdown",
   "metadata": {},
   "source": [
    "---"
   ]
  },
  {
   "cell_type": "markdown",
   "metadata": {},
   "source": [
    "## Acquire data"
   ]
  },
  {
   "cell_type": "code",
   "execution_count": 25,
   "metadata": {},
   "outputs": [
    {
     "data": {
      "text/plain": [
       "\" def get_all_repository_urls(url): # repository url\\n    # Get max page.\\n    response = get(url)\\n    soup = BeautifulSoup(response.text)\\n    print('Finding max page for repositories...')\\n    max_page = int(soup.find('div', role='navigation').text[-6])\\n    print(f'Max page found: {max_page}')\\n    page = 1\\n    repository_links = []\\n    print('Starting loop...')\\n    for n in range(max_page):\\n        print(n+1, 'iteration')\\n        print(f'Pulling data from {url}')\\n        # Reset soup.\\n        response = get(url)\\n        soup = BeautifulSoup(response.text)\\n        # Get all the repositories from the page.\\n        repositories = soup.find_all('a', itemprop='name codeRepository') \\n        print('Fetching links for repositories...')\\n        for repo in repositories:\\n            repository_links.append(repo.get('href'))\\n        git = 'https://github.com/'\\n        next_page = soup.find('a', class_='next_page').get('href')[:-1]\\n        ## Use this line of code to get the url for the next page.\\n        if page <= 4:\\n            url = git + next_page + str(page + 1)\\n            page += 1\\n        else:\\n            return repository_links\\n \""
      ]
     },
     "execution_count": 25,
     "metadata": {},
     "output_type": "execute_result"
    }
   ],
   "source": [
    "\"\"\" def get_all_repository_urls(url): # repository url\n",
    "    # Get max page.\n",
    "    response = get(url)\n",
    "    soup = BeautifulSoup(response.text)\n",
    "    print('Finding max page for repositories...')\n",
    "    max_page = int(soup.find('div', role='navigation').text[-6])\n",
    "    print(f'Max page found: {max_page}')\n",
    "    page = 1\n",
    "    repository_links = []\n",
    "    print('Starting loop...')\n",
    "    for n in range(max_page):\n",
    "        print(n+1, 'iteration')\n",
    "        print(f'Pulling data from {url}')\n",
    "        # Reset soup.\n",
    "        response = get(url)\n",
    "        soup = BeautifulSoup(response.text)\n",
    "        # Get all the repositories from the page.\n",
    "        repositories = soup.find_all('a', itemprop='name codeRepository') \n",
    "        print('Fetching links for repositories...')\n",
    "        for repo in repositories:\n",
    "            repository_links.append(repo.get('href'))\n",
    "        git = 'https://github.com/'\n",
    "        next_page = soup.find('a', class_='next_page').get('href')[:-1]\n",
    "        ## Use this line of code to get the url for the next page.\n",
    "        if page <= 4:\n",
    "            url = git + next_page + str(page + 1)\n",
    "            page += 1\n",
    "        else:\n",
    "            return repository_links\n",
    " \"\"\""
   ]
  },
  {
   "cell_type": "code",
   "execution_count": 26,
   "metadata": {},
   "outputs": [],
   "source": [
    "#repository_links = get_all_repository_urls('https://github.com/orgs/apple/repositories')"
   ]
  },
  {
   "cell_type": "code",
   "execution_count": 27,
   "metadata": {},
   "outputs": [],
   "source": [
    "df = pd.read_json('data.json')"
   ]
  },
  {
   "cell_type": "code",
   "execution_count": 28,
   "metadata": {},
   "outputs": [
    {
     "data": {
      "text/plain": [
       "Swift               65\n",
       "Python              38\n",
       "C++                 15\n",
       "C                   11\n",
       "JavaScript           2\n",
       "Java                 2\n",
       "Jupyter Notebook     2\n",
       "HTML                 2\n",
       "Dockerfile           1\n",
       "Markdown             1\n",
       "Shell                1\n",
       "R                    1\n",
       "Starlark             1\n",
       "LLVM                 1\n",
       "Name: language, dtype: int64"
      ]
     },
     "execution_count": 28,
     "metadata": {},
     "output_type": "execute_result"
    }
   ],
   "source": [
    "df.language.value_counts()"
   ]
  },
  {
   "cell_type": "markdown",
   "metadata": {},
   "source": [
    "Looks like our categories for classification will be Swift, Python, C (combined C & C++), and other. Can make a new column mapping that target."
   ]
  },
  {
   "cell_type": "markdown",
   "metadata": {},
   "source": [
    "---"
   ]
  },
  {
   "cell_type": "markdown",
   "metadata": {},
   "source": [
    "## Prepare Data\n",
    "\n",
    "- Look for / handle null values\n",
    "- Add column for target language class\n",
    "- Add column for clean, lemmatized, etc.\n",
    "- Split word list by language"
   ]
  },
  {
   "cell_type": "code",
   "execution_count": 31,
   "metadata": {},
   "outputs": [
    {
     "data": {
      "text/html": [
       "<div>\n",
       "<style scoped>\n",
       "    .dataframe tbody tr th:only-of-type {\n",
       "        vertical-align: middle;\n",
       "    }\n",
       "\n",
       "    .dataframe tbody tr th {\n",
       "        vertical-align: top;\n",
       "    }\n",
       "\n",
       "    .dataframe thead th {\n",
       "        text-align: right;\n",
       "    }\n",
       "</style>\n",
       "<table border=\"1\" class=\"dataframe\">\n",
       "  <thead>\n",
       "    <tr style=\"text-align: right;\">\n",
       "      <th></th>\n",
       "      <th>repo</th>\n",
       "      <th>language</th>\n",
       "      <th>readme_contents</th>\n",
       "    </tr>\n",
       "  </thead>\n",
       "  <tbody>\n",
       "    <tr>\n",
       "      <th>0</th>\n",
       "      <td>apple/llvm-project</td>\n",
       "      <td>None</td>\n",
       "      <td># Apple's fork of llvm-project\\n\\nThis is Appl...</td>\n",
       "    </tr>\n",
       "    <tr>\n",
       "      <th>1</th>\n",
       "      <td>apple/swift-argument-parser</td>\n",
       "      <td>Swift</td>\n",
       "      <td># Swift Argument Parser\\n\\n## Usage\\n\\nBegin b...</td>\n",
       "    </tr>\n",
       "    <tr>\n",
       "      <th>2</th>\n",
       "      <td>apple/swift-docc</td>\n",
       "      <td>Swift</td>\n",
       "      <td># Swift-DocC\\n\\nSwift-DocC is a documentation ...</td>\n",
       "    </tr>\n",
       "    <tr>\n",
       "      <th>3</th>\n",
       "      <td>apple/swift</td>\n",
       "      <td>C++</td>\n",
       "      <td>&lt;img src=\"https://swift.org/assets/images/swif...</td>\n",
       "    </tr>\n",
       "    <tr>\n",
       "      <th>4</th>\n",
       "      <td>apple/sourcekit-lsp</td>\n",
       "      <td>Swift</td>\n",
       "      <td># SourceKit-LSP\\n\\nSourceKit-LSP is an impleme...</td>\n",
       "    </tr>\n",
       "  </tbody>\n",
       "</table>\n",
       "</div>"
      ],
      "text/plain": [
       "                          repo language  \\\n",
       "0           apple/llvm-project     None   \n",
       "1  apple/swift-argument-parser    Swift   \n",
       "2             apple/swift-docc    Swift   \n",
       "3                  apple/swift      C++   \n",
       "4          apple/sourcekit-lsp    Swift   \n",
       "\n",
       "                                     readme_contents  \n",
       "0  # Apple's fork of llvm-project\\n\\nThis is Appl...  \n",
       "1  # Swift Argument Parser\\n\\n## Usage\\n\\nBegin b...  \n",
       "2  # Swift-DocC\\n\\nSwift-DocC is a documentation ...  \n",
       "3  <img src=\"https://swift.org/assets/images/swif...  \n",
       "4  # SourceKit-LSP\\n\\nSourceKit-LSP is an impleme...  "
      ]
     },
     "execution_count": 31,
     "metadata": {},
     "output_type": "execute_result"
    }
   ],
   "source": [
    "df.head()"
   ]
  },
  {
   "cell_type": "code",
   "execution_count": 33,
   "metadata": {},
   "outputs": [
    {
     "data": {
      "text/plain": [
       "repo               0\n",
       "language           8\n",
       "readme_contents    0\n",
       "dtype: int64"
      ]
     },
     "execution_count": 33,
     "metadata": {},
     "output_type": "execute_result"
    }
   ],
   "source": [
    "df.isna().sum()"
   ]
  },
  {
   "cell_type": "markdown",
   "metadata": {},
   "source": [
    "- [ ] For some reason, my `.isna()` count is missing 4 rows withoout readmes\n",
    "  - 114\n",
    "  - 135\n",
    "  - 144\n",
    "  - 150\n",
    "- Figure out why and drop these"
   ]
  },
  {
   "cell_type": "code",
   "execution_count": 34,
   "metadata": {},
   "outputs": [],
   "source": [
    "df = prepare_jag.prep_article_data(df, 'original')"
   ]
  },
  {
   "cell_type": "code",
   "execution_count": 35,
   "metadata": {},
   "outputs": [
    {
     "data": {
      "text/plain": [
       "(151, 7)"
      ]
     },
     "execution_count": 35,
     "metadata": {},
     "output_type": "execute_result"
    }
   ],
   "source": [
    "df.shape"
   ]
  },
  {
   "cell_type": "code",
   "execution_count": 36,
   "metadata": {},
   "outputs": [
    {
     "data": {
      "text/html": [
       "<div>\n",
       "<style scoped>\n",
       "    .dataframe tbody tr th:only-of-type {\n",
       "        vertical-align: middle;\n",
       "    }\n",
       "\n",
       "    .dataframe tbody tr th {\n",
       "        vertical-align: top;\n",
       "    }\n",
       "\n",
       "    .dataframe thead th {\n",
       "        text-align: right;\n",
       "    }\n",
       "</style>\n",
       "<table border=\"1\" class=\"dataframe\">\n",
       "  <thead>\n",
       "    <tr style=\"text-align: right;\">\n",
       "      <th></th>\n",
       "      <th>repo</th>\n",
       "      <th>language</th>\n",
       "      <th>target</th>\n",
       "      <th>original</th>\n",
       "      <th>clean</th>\n",
       "      <th>stemmed</th>\n",
       "      <th>lemmatized</th>\n",
       "    </tr>\n",
       "  </thead>\n",
       "  <tbody>\n",
       "    <tr>\n",
       "      <th>0</th>\n",
       "      <td>apple/llvm-project</td>\n",
       "      <td>LLVM</td>\n",
       "      <td>other</td>\n",
       "      <td># Apple's fork of llvm-project\\n\\nThis is Appl...</td>\n",
       "      <td>apple ' fork llvmproject apple ' fork llvmproj...</td>\n",
       "      <td>appl ' fork llvmproject thi appl ' fork llvmpr...</td>\n",
       "      <td>apple ' fork llvmproject apple ' fork llvmproj...</td>\n",
       "    </tr>\n",
       "    <tr>\n",
       "      <th>1</th>\n",
       "      <td>apple/swift-argument-parser</td>\n",
       "      <td>Swift</td>\n",
       "      <td>swift</td>\n",
       "      <td># Swift Argument Parser\\n\\n## Usage\\n\\nBegin b...</td>\n",
       "      <td>swift argument parser usage begin declaring ty...</td>\n",
       "      <td>swift argument parser usag begin declar type d...</td>\n",
       "      <td>swift argument parser usage begin declaring ty...</td>\n",
       "    </tr>\n",
       "    <tr>\n",
       "      <th>2</th>\n",
       "      <td>apple/swift-docc</td>\n",
       "      <td>Swift</td>\n",
       "      <td>swift</td>\n",
       "      <td># Swift-DocC\\n\\nSwift-DocC is a documentation ...</td>\n",
       "      <td>swiftdocc swiftdocc documentation compiler swi...</td>\n",
       "      <td>swiftdocc swiftdocc document compil swift fram...</td>\n",
       "      <td>swiftdocc swiftdocc documentation compiler swi...</td>\n",
       "    </tr>\n",
       "    <tr>\n",
       "      <th>3</th>\n",
       "      <td>apple/swift</td>\n",
       "      <td>C++</td>\n",
       "      <td>c</td>\n",
       "      <td>&lt;img src=\"https://swift.org/assets/images/swif...</td>\n",
       "      <td>img srchttpsswiftorgassetsimagesswiftsvg altsw...</td>\n",
       "      <td>img srchttpsswiftorgassetsimagesswiftsvg altsw...</td>\n",
       "      <td>img srchttpsswiftorgassetsimagesswiftsvg altsw...</td>\n",
       "    </tr>\n",
       "    <tr>\n",
       "      <th>4</th>\n",
       "      <td>apple/sourcekit-lsp</td>\n",
       "      <td>Swift</td>\n",
       "      <td>swift</td>\n",
       "      <td># SourceKit-LSP\\n\\nSourceKit-LSP is an impleme...</td>\n",
       "      <td>sourcekitlsp sourcekitlsp implementation langu...</td>\n",
       "      <td>sourcekitlsp sourcekitlsp implement languag se...</td>\n",
       "      <td>sourcekitlsp sourcekitlsp implementation langu...</td>\n",
       "    </tr>\n",
       "    <tr>\n",
       "      <th>5</th>\n",
       "      <td>apple/foundationdb</td>\n",
       "      <td>C++</td>\n",
       "      <td>c</td>\n",
       "      <td>&lt;img alt=\"FoundationDB logo\" src=\"documentatio...</td>\n",
       "      <td>img altfoundationdb logo srcdocumentationfdblo...</td>\n",
       "      <td>img altfoundationdb logo srcdocumentationfdblo...</td>\n",
       "      <td>img altfoundationdb logo srcdocumentationfdblo...</td>\n",
       "    </tr>\n",
       "    <tr>\n",
       "      <th>6</th>\n",
       "      <td>apple/swift-protobuf</td>\n",
       "      <td>Swift</td>\n",
       "      <td>swift</td>\n",
       "      <td>&lt;img src=\"https://swift.org/assets/images/swif...</td>\n",
       "      <td>img srchttpsswiftorgassetsimagesswiftsvg altsw...</td>\n",
       "      <td>img srchttpsswiftorgassetsimagesswiftsvg altsw...</td>\n",
       "      <td>img srchttpsswiftorgassetsimagesswiftsvg altsw...</td>\n",
       "    </tr>\n",
       "    <tr>\n",
       "      <th>7</th>\n",
       "      <td>apple/swift-llbuild</td>\n",
       "      <td>C++</td>\n",
       "      <td>c</td>\n",
       "      <td>llbuild\\n=======\\n\\n*A low-level build system....</td>\n",
       "      <td>llbuild lowlevel build system llbuild set libr...</td>\n",
       "      <td>llbuild lowlevel build system llbuild set libr...</td>\n",
       "      <td>llbuild lowlevel build system llbuild set libr...</td>\n",
       "    </tr>\n",
       "    <tr>\n",
       "      <th>8</th>\n",
       "      <td>apple/swift-syntax</td>\n",
       "      <td>Swift</td>\n",
       "      <td>swift</td>\n",
       "      <td># SwiftSyntax\\n\\nSwiftSyntax is a set of Swift...</td>\n",
       "      <td>swiftsyntax swiftsyntax set swift bindings lib...</td>\n",
       "      <td>swiftsyntax swiftsyntax set swift bind libsynt...</td>\n",
       "      <td>swiftsyntax swiftsyntax set swift binding libs...</td>\n",
       "    </tr>\n",
       "    <tr>\n",
       "      <th>9</th>\n",
       "      <td>apple/swift-package-manager</td>\n",
       "      <td>Swift</td>\n",
       "      <td>swift</td>\n",
       "      <td># Swift Package Manager Project\\n\\nThe Swift P...</td>\n",
       "      <td>swift package manager project swift package ma...</td>\n",
       "      <td>swift packag manag project swift packag manag ...</td>\n",
       "      <td>swift package manager project swift package ma...</td>\n",
       "    </tr>\n",
       "    <tr>\n",
       "      <th>10</th>\n",
       "      <td>apple/swift-source-compat-suite</td>\n",
       "      <td>Python</td>\n",
       "      <td>python</td>\n",
       "      <td># Swift Source Compatibility Suite\\n\\nSource c...</td>\n",
       "      <td>swift source compatibility suite source compat...</td>\n",
       "      <td>swift sourc compat suit sourc compat strong go...</td>\n",
       "      <td>swift source compatibility suite source compat...</td>\n",
       "    </tr>\n",
       "    <tr>\n",
       "      <th>11</th>\n",
       "      <td>apple/swift-markdown</td>\n",
       "      <td>Swift</td>\n",
       "      <td>swift</td>\n",
       "      <td># Swift Markdown\\n\\nSwift `Markdown` is a Swif...</td>\n",
       "      <td>swift markdown swift markdown swift package pa...</td>\n",
       "      <td>swift markdown swift markdown swift packag par...</td>\n",
       "      <td>swift markdown swift markdown swift package pa...</td>\n",
       "    </tr>\n",
       "    <tr>\n",
       "      <th>12</th>\n",
       "      <td>apple/swift-docc-symbolkit</td>\n",
       "      <td>Swift</td>\n",
       "      <td>swift</td>\n",
       "      <td># SymbolKit \\n\\nThe specification and referenc...</td>\n",
       "      <td>symbolkit specification reference model symbol...</td>\n",
       "      <td>symbolkit specif refer model symbol graph file...</td>\n",
       "      <td>symbolkit specification reference model symbol...</td>\n",
       "    </tr>\n",
       "    <tr>\n",
       "      <th>13</th>\n",
       "      <td>apple/swift-docc-render-artifact</td>\n",
       "      <td>JavaScript</td>\n",
       "      <td>other</td>\n",
       "      <td># Swift-DocC-Render-Artifact\\n\\nThis repositor...</td>\n",
       "      <td>swiftdoccrenderartifact repository holds prebu...</td>\n",
       "      <td>swiftdoccrenderartifact thi repositori hold pr...</td>\n",
       "      <td>swiftdoccrenderartifact repository hold prebui...</td>\n",
       "    </tr>\n",
       "    <tr>\n",
       "      <th>14</th>\n",
       "      <td>apple/swift-lmdb</td>\n",
       "      <td>C</td>\n",
       "      <td>c</td>\n",
       "      <td># CLMDB\\n\\nCLMDB is a SwiftPM package wrapper ...</td>\n",
       "      <td>clmdb clmdb swiftpm package wrapper lmdbhttpww...</td>\n",
       "      <td>clmdb clmdb swiftpm packag wrapper lmdbhttpwww...</td>\n",
       "      <td>clmdb clmdb swiftpm package wrapper lmdbhttpww...</td>\n",
       "    </tr>\n",
       "    <tr>\n",
       "      <th>15</th>\n",
       "      <td>apple/swift-tools-support-core</td>\n",
       "      <td>Swift</td>\n",
       "      <td>swift</td>\n",
       "      <td>swift-tools-support-core\\n====================...</td>\n",
       "      <td>swifttoolssupportcore contains common infrastr...</td>\n",
       "      <td>swifttoolssupportcor contain common infrastruc...</td>\n",
       "      <td>swifttoolssupportcore contains common infrastr...</td>\n",
       "    </tr>\n",
       "    <tr>\n",
       "      <th>16</th>\n",
       "      <td>apple/swift-driver</td>\n",
       "      <td>Swift</td>\n",
       "      <td>swift</td>\n",
       "      <td># Swift Compiler Driver\\n\\nSwift's compiler dr...</td>\n",
       "      <td>swift compiler driver swift ' compiler driver ...</td>\n",
       "      <td>swift compil driver swift ' compil driver prog...</td>\n",
       "      <td>swift compiler driver swift ' compiler driver ...</td>\n",
       "    </tr>\n",
       "    <tr>\n",
       "      <th>17</th>\n",
       "      <td>apple/indexstore-db</td>\n",
       "      <td>C++</td>\n",
       "      <td>c</td>\n",
       "      <td># IndexStoreDB\\n\\nIndexStoreDB is a source cod...</td>\n",
       "      <td>indexstoredb indexstoredb source code indexing...</td>\n",
       "      <td>indexstoredb indexstoredb sourc code index lib...</td>\n",
       "      <td>indexstoredb indexstoredb source code indexing...</td>\n",
       "    </tr>\n",
       "    <tr>\n",
       "      <th>18</th>\n",
       "      <td>apple/swift-stress-tester</td>\n",
       "      <td>Swift</td>\n",
       "      <td>swift</td>\n",
       "      <td>&lt;img src=\"https://swift.org/assets/images/swif...</td>\n",
       "      <td>img srchttpsswiftorgassetsimagesswiftsvg altsw...</td>\n",
       "      <td>img srchttpsswiftorgassetsimagesswiftsvg altsw...</td>\n",
       "      <td>img srchttpsswiftorgassetsimagesswiftsvg altsw...</td>\n",
       "    </tr>\n",
       "    <tr>\n",
       "      <th>19</th>\n",
       "      <td>apple/swift-xcode-playground-support</td>\n",
       "      <td>Swift</td>\n",
       "      <td>swift</td>\n",
       "      <td>\\n# Swift Xcode Playground Support\\n\\n**Welcom...</td>\n",
       "      <td>swift xcode playground support welcome swift x...</td>\n",
       "      <td>swift xcode playground support welcom swift xc...</td>\n",
       "      <td>swift xcode playground support welcome swift x...</td>\n",
       "    </tr>\n",
       "  </tbody>\n",
       "</table>\n",
       "</div>"
      ],
      "text/plain": [
       "                                    repo    language  target  \\\n",
       "0                     apple/llvm-project        LLVM   other   \n",
       "1            apple/swift-argument-parser       Swift   swift   \n",
       "2                       apple/swift-docc       Swift   swift   \n",
       "3                            apple/swift         C++       c   \n",
       "4                    apple/sourcekit-lsp       Swift   swift   \n",
       "5                     apple/foundationdb         C++       c   \n",
       "6                   apple/swift-protobuf       Swift   swift   \n",
       "7                    apple/swift-llbuild         C++       c   \n",
       "8                     apple/swift-syntax       Swift   swift   \n",
       "9            apple/swift-package-manager       Swift   swift   \n",
       "10       apple/swift-source-compat-suite      Python  python   \n",
       "11                  apple/swift-markdown       Swift   swift   \n",
       "12            apple/swift-docc-symbolkit       Swift   swift   \n",
       "13      apple/swift-docc-render-artifact  JavaScript   other   \n",
       "14                      apple/swift-lmdb           C       c   \n",
       "15        apple/swift-tools-support-core       Swift   swift   \n",
       "16                    apple/swift-driver       Swift   swift   \n",
       "17                   apple/indexstore-db         C++       c   \n",
       "18             apple/swift-stress-tester       Swift   swift   \n",
       "19  apple/swift-xcode-playground-support       Swift   swift   \n",
       "\n",
       "                                             original  \\\n",
       "0   # Apple's fork of llvm-project\\n\\nThis is Appl...   \n",
       "1   # Swift Argument Parser\\n\\n## Usage\\n\\nBegin b...   \n",
       "2   # Swift-DocC\\n\\nSwift-DocC is a documentation ...   \n",
       "3   <img src=\"https://swift.org/assets/images/swif...   \n",
       "4   # SourceKit-LSP\\n\\nSourceKit-LSP is an impleme...   \n",
       "5   <img alt=\"FoundationDB logo\" src=\"documentatio...   \n",
       "6   <img src=\"https://swift.org/assets/images/swif...   \n",
       "7   llbuild\\n=======\\n\\n*A low-level build system....   \n",
       "8   # SwiftSyntax\\n\\nSwiftSyntax is a set of Swift...   \n",
       "9   # Swift Package Manager Project\\n\\nThe Swift P...   \n",
       "10  # Swift Source Compatibility Suite\\n\\nSource c...   \n",
       "11  # Swift Markdown\\n\\nSwift `Markdown` is a Swif...   \n",
       "12  # SymbolKit \\n\\nThe specification and referenc...   \n",
       "13  # Swift-DocC-Render-Artifact\\n\\nThis repositor...   \n",
       "14  # CLMDB\\n\\nCLMDB is a SwiftPM package wrapper ...   \n",
       "15  swift-tools-support-core\\n====================...   \n",
       "16  # Swift Compiler Driver\\n\\nSwift's compiler dr...   \n",
       "17  # IndexStoreDB\\n\\nIndexStoreDB is a source cod...   \n",
       "18  <img src=\"https://swift.org/assets/images/swif...   \n",
       "19  \\n# Swift Xcode Playground Support\\n\\n**Welcom...   \n",
       "\n",
       "                                                clean  \\\n",
       "0   apple ' fork llvmproject apple ' fork llvmproj...   \n",
       "1   swift argument parser usage begin declaring ty...   \n",
       "2   swiftdocc swiftdocc documentation compiler swi...   \n",
       "3   img srchttpsswiftorgassetsimagesswiftsvg altsw...   \n",
       "4   sourcekitlsp sourcekitlsp implementation langu...   \n",
       "5   img altfoundationdb logo srcdocumentationfdblo...   \n",
       "6   img srchttpsswiftorgassetsimagesswiftsvg altsw...   \n",
       "7   llbuild lowlevel build system llbuild set libr...   \n",
       "8   swiftsyntax swiftsyntax set swift bindings lib...   \n",
       "9   swift package manager project swift package ma...   \n",
       "10  swift source compatibility suite source compat...   \n",
       "11  swift markdown swift markdown swift package pa...   \n",
       "12  symbolkit specification reference model symbol...   \n",
       "13  swiftdoccrenderartifact repository holds prebu...   \n",
       "14  clmdb clmdb swiftpm package wrapper lmdbhttpww...   \n",
       "15  swifttoolssupportcore contains common infrastr...   \n",
       "16  swift compiler driver swift ' compiler driver ...   \n",
       "17  indexstoredb indexstoredb source code indexing...   \n",
       "18  img srchttpsswiftorgassetsimagesswiftsvg altsw...   \n",
       "19  swift xcode playground support welcome swift x...   \n",
       "\n",
       "                                              stemmed  \\\n",
       "0   appl ' fork llvmproject thi appl ' fork llvmpr...   \n",
       "1   swift argument parser usag begin declar type d...   \n",
       "2   swiftdocc swiftdocc document compil swift fram...   \n",
       "3   img srchttpsswiftorgassetsimagesswiftsvg altsw...   \n",
       "4   sourcekitlsp sourcekitlsp implement languag se...   \n",
       "5   img altfoundationdb logo srcdocumentationfdblo...   \n",
       "6   img srchttpsswiftorgassetsimagesswiftsvg altsw...   \n",
       "7   llbuild lowlevel build system llbuild set libr...   \n",
       "8   swiftsyntax swiftsyntax set swift bind libsynt...   \n",
       "9   swift packag manag project swift packag manag ...   \n",
       "10  swift sourc compat suit sourc compat strong go...   \n",
       "11  swift markdown swift markdown swift packag par...   \n",
       "12  symbolkit specif refer model symbol graph file...   \n",
       "13  swiftdoccrenderartifact thi repositori hold pr...   \n",
       "14  clmdb clmdb swiftpm packag wrapper lmdbhttpwww...   \n",
       "15  swifttoolssupportcor contain common infrastruc...   \n",
       "16  swift compil driver swift ' compil driver prog...   \n",
       "17  indexstoredb indexstoredb sourc code index lib...   \n",
       "18  img srchttpsswiftorgassetsimagesswiftsvg altsw...   \n",
       "19  swift xcode playground support welcom swift xc...   \n",
       "\n",
       "                                           lemmatized  \n",
       "0   apple ' fork llvmproject apple ' fork llvmproj...  \n",
       "1   swift argument parser usage begin declaring ty...  \n",
       "2   swiftdocc swiftdocc documentation compiler swi...  \n",
       "3   img srchttpsswiftorgassetsimagesswiftsvg altsw...  \n",
       "4   sourcekitlsp sourcekitlsp implementation langu...  \n",
       "5   img altfoundationdb logo srcdocumentationfdblo...  \n",
       "6   img srchttpsswiftorgassetsimagesswiftsvg altsw...  \n",
       "7   llbuild lowlevel build system llbuild set libr...  \n",
       "8   swiftsyntax swiftsyntax set swift binding libs...  \n",
       "9   swift package manager project swift package ma...  \n",
       "10  swift source compatibility suite source compat...  \n",
       "11  swift markdown swift markdown swift package pa...  \n",
       "12  symbolkit specification reference model symbol...  \n",
       "13  swiftdoccrenderartifact repository hold prebui...  \n",
       "14  clmdb clmdb swiftpm package wrapper lmdbhttpww...  \n",
       "15  swifttoolssupportcore contains common infrastr...  \n",
       "16  swift compiler driver swift ' compiler driver ...  \n",
       "17  indexstoredb indexstoredb source code indexing...  \n",
       "18  img srchttpsswiftorgassetsimagesswiftsvg altsw...  \n",
       "19  swift xcode playground support welcome swift x...  "
      ]
     },
     "execution_count": 36,
     "metadata": {},
     "output_type": "execute_result"
    }
   ],
   "source": [
    "df.head(20)"
   ]
  },
  {
   "cell_type": "markdown",
   "metadata": {},
   "source": [
    "Check to see if the binned totals for  'other' and combining C++ & C add up..."
   ]
  },
  {
   "cell_type": "code",
   "execution_count": 37,
   "metadata": {},
   "outputs": [
    {
     "data": {
      "text/plain": [
       "Swift               69\n",
       "Python              38\n",
       "C++                 15\n",
       "C                   12\n",
       "JavaScript           3\n",
       "LLVM                 2\n",
       "Java                 2\n",
       "Jupyter Notebook     2\n",
       "HTML                 2\n",
       "Dockerfile           1\n",
       "Markdown             1\n",
       "Shell                1\n",
       "R                    1\n",
       "Starlark             1\n",
       "Name: language, dtype: int64"
      ]
     },
     "execution_count": 37,
     "metadata": {},
     "output_type": "execute_result"
    }
   ],
   "source": [
    "df.language.value_counts()"
   ]
  },
  {
   "cell_type": "code",
   "execution_count": 38,
   "metadata": {},
   "outputs": [
    {
     "data": {
      "text/plain": [
       "swift     69\n",
       "python    38\n",
       "c         27\n",
       "other     17\n",
       "Name: target, dtype: int64"
      ]
     },
     "execution_count": 38,
     "metadata": {},
     "output_type": "execute_result"
    }
   ],
   "source": [
    "df.target.value_counts()"
   ]
  },
  {
   "cell_type": "markdown",
   "metadata": {},
   "source": [
    "Things add up... "
   ]
  },
  {
   "cell_type": "code",
   "execution_count": 39,
   "metadata": {},
   "outputs": [],
   "source": [
    "def categorise(row):  \n",
    "    '''\n",
    "    Function to assign a language family target category based on language pulled from query (or manyally added)\n",
    "    '''\n",
    "    if row['language'] == 'Swift':\n",
    "        return 'swift'\n",
    "    elif row['language'] == 'Python':\n",
    "        return 'python'\n",
    "    elif row['language'] == ('C++' or 'C'):\n",
    "        return 'c'\n",
    "    return 'other'"
   ]
  },
  {
   "cell_type": "markdown",
   "metadata": {},
   "source": [
    "Make a new column with language families for target (this was added to the prepare file, so no need to run again)"
   ]
  },
  {
   "cell_type": "code",
   "execution_count": 12,
   "metadata": {},
   "outputs": [],
   "source": [
    "# Commented out because added to prepare file\n",
    "# Apply function above to create new target column\n",
    "#df['target']= df.apply(lambda row: categorise(row), axis=1)"
   ]
  },
  {
   "cell_type": "markdown",
   "metadata": {},
   "source": [
    "Any other nulls?"
   ]
  },
  {
   "cell_type": "code",
   "execution_count": 40,
   "metadata": {},
   "outputs": [
    {
     "data": {
      "text/plain": [
       "repo          0\n",
       "language      1\n",
       "target        0\n",
       "original      0\n",
       "clean         0\n",
       "stemmed       0\n",
       "lemmatized    0\n",
       "dtype: int64"
      ]
     },
     "execution_count": 40,
     "metadata": {},
     "output_type": "execute_result"
    }
   ],
   "source": [
    "df.isna().sum()"
   ]
  },
  {
   "cell_type": "code",
   "execution_count": 14,
   "metadata": {},
   "outputs": [
    {
     "data": {
      "text/plain": [
       "(151, 7)"
      ]
     },
     "execution_count": 14,
     "metadata": {},
     "output_type": "execute_result"
    }
   ],
   "source": [
    "df.shape"
   ]
  },
  {
   "cell_type": "code",
   "execution_count": 15,
   "metadata": {},
   "outputs": [],
   "source": [
    "# df.dropna(inplace = True)\n",
    "# df.shape"
   ]
  },
  {
   "cell_type": "code",
   "execution_count": 41,
   "metadata": {},
   "outputs": [
    {
     "data": {
      "text/html": [
       "<div>\n",
       "<style scoped>\n",
       "    .dataframe tbody tr th:only-of-type {\n",
       "        vertical-align: middle;\n",
       "    }\n",
       "\n",
       "    .dataframe tbody tr th {\n",
       "        vertical-align: top;\n",
       "    }\n",
       "\n",
       "    .dataframe thead th {\n",
       "        text-align: right;\n",
       "    }\n",
       "</style>\n",
       "<table border=\"1\" class=\"dataframe\">\n",
       "  <thead>\n",
       "    <tr style=\"text-align: right;\">\n",
       "      <th></th>\n",
       "      <th>repo</th>\n",
       "      <th>language</th>\n",
       "      <th>target</th>\n",
       "      <th>original</th>\n",
       "      <th>clean</th>\n",
       "      <th>stemmed</th>\n",
       "      <th>lemmatized</th>\n",
       "    </tr>\n",
       "  </thead>\n",
       "  <tbody>\n",
       "  </tbody>\n",
       "</table>\n",
       "</div>"
      ],
      "text/plain": [
       "Empty DataFrame\n",
       "Columns: [repo, language, target, original, clean, stemmed, lemmatized]\n",
       "Index: []"
      ]
     },
     "execution_count": 41,
     "metadata": {},
     "output_type": "execute_result"
    }
   ],
   "source": [
    "df[df.original.isnull()]"
   ]
  },
  {
   "cell_type": "code",
   "execution_count": 42,
   "metadata": {},
   "outputs": [
    {
     "data": {
      "text/html": [
       "<div>\n",
       "<style scoped>\n",
       "    .dataframe tbody tr th:only-of-type {\n",
       "        vertical-align: middle;\n",
       "    }\n",
       "\n",
       "    .dataframe tbody tr th {\n",
       "        vertical-align: top;\n",
       "    }\n",
       "\n",
       "    .dataframe thead th {\n",
       "        text-align: right;\n",
       "    }\n",
       "</style>\n",
       "<table border=\"1\" class=\"dataframe\">\n",
       "  <thead>\n",
       "    <tr style=\"text-align: right;\">\n",
       "      <th></th>\n",
       "      <th>repo</th>\n",
       "      <th>language</th>\n",
       "      <th>target</th>\n",
       "      <th>original</th>\n",
       "      <th>clean</th>\n",
       "      <th>stemmed</th>\n",
       "      <th>lemmatized</th>\n",
       "    </tr>\n",
       "  </thead>\n",
       "  <tbody>\n",
       "    <tr>\n",
       "      <th>123</th>\n",
       "      <td>apple/ml-transcript-translation-consistency-ra...</td>\n",
       "      <td>None</td>\n",
       "      <td>other</td>\n",
       "      <td># Human Ratings of Transcription/Translation C...</td>\n",
       "      <td>human ratings transcriptiontranslation consist...</td>\n",
       "      <td>human rate transcriptiontransl consist thi rep...</td>\n",
       "      <td>human rating transcriptiontranslation consiste...</td>\n",
       "    </tr>\n",
       "  </tbody>\n",
       "</table>\n",
       "</div>"
      ],
      "text/plain": [
       "                                                  repo language target  \\\n",
       "123  apple/ml-transcript-translation-consistency-ra...     None  other   \n",
       "\n",
       "                                              original  \\\n",
       "123  # Human Ratings of Transcription/Translation C...   \n",
       "\n",
       "                                                 clean  \\\n",
       "123  human ratings transcriptiontranslation consist...   \n",
       "\n",
       "                                               stemmed  \\\n",
       "123  human rate transcriptiontransl consist thi rep...   \n",
       "\n",
       "                                            lemmatized  \n",
       "123  human rating transcriptiontranslation consiste...  "
      ]
     },
     "execution_count": 42,
     "metadata": {},
     "output_type": "execute_result"
    }
   ],
   "source": [
    "df[df.language.isnull()]"
   ]
  },
  {
   "cell_type": "markdown",
   "metadata": {},
   "source": [
    "**FIXED IN PREPARE FILE**\n",
    "\n",
    "- Look at these 8 repos and see if there is a language that can be manually added\n",
    "- Otherwise, just classigy them as other\n",
    "\n"
   ]
  },
  {
   "cell_type": "code",
   "execution_count": 43,
   "metadata": {},
   "outputs": [],
   "source": [
    "nan_languages = list(df[df.language.isnull()].index)"
   ]
  },
  {
   "cell_type": "code",
   "execution_count": 44,
   "metadata": {},
   "outputs": [
    {
     "data": {
      "text/html": [
       "<div>\n",
       "<style scoped>\n",
       "    .dataframe tbody tr th:only-of-type {\n",
       "        vertical-align: middle;\n",
       "    }\n",
       "\n",
       "    .dataframe tbody tr th {\n",
       "        vertical-align: top;\n",
       "    }\n",
       "\n",
       "    .dataframe thead th {\n",
       "        text-align: right;\n",
       "    }\n",
       "</style>\n",
       "<table border=\"1\" class=\"dataframe\">\n",
       "  <thead>\n",
       "    <tr style=\"text-align: right;\">\n",
       "      <th></th>\n",
       "      <th>repo</th>\n",
       "      <th>language</th>\n",
       "      <th>target</th>\n",
       "      <th>original</th>\n",
       "      <th>clean</th>\n",
       "      <th>stemmed</th>\n",
       "      <th>lemmatized</th>\n",
       "    </tr>\n",
       "  </thead>\n",
       "  <tbody>\n",
       "    <tr>\n",
       "      <th>123</th>\n",
       "      <td>apple/ml-transcript-translation-consistency-ra...</td>\n",
       "      <td>None</td>\n",
       "      <td>other</td>\n",
       "      <td># Human Ratings of Transcription/Translation C...</td>\n",
       "      <td>human ratings transcriptiontranslation consist...</td>\n",
       "      <td>human rate transcriptiontransl consist thi rep...</td>\n",
       "      <td>human rating transcriptiontranslation consiste...</td>\n",
       "    </tr>\n",
       "  </tbody>\n",
       "</table>\n",
       "</div>"
      ],
      "text/plain": [
       "                                                  repo language target  \\\n",
       "123  apple/ml-transcript-translation-consistency-ra...     None  other   \n",
       "\n",
       "                                              original  \\\n",
       "123  # Human Ratings of Transcription/Translation C...   \n",
       "\n",
       "                                                 clean  \\\n",
       "123  human ratings transcriptiontranslation consist...   \n",
       "\n",
       "                                               stemmed  \\\n",
       "123  human rate transcriptiontransl consist thi rep...   \n",
       "\n",
       "                                            lemmatized  \n",
       "123  human rating transcriptiontranslation consiste...  "
      ]
     },
     "metadata": {},
     "output_type": "display_data"
    }
   ],
   "source": [
    "for i in nan_languages:\n",
    "    display(df[df.index == i])"
   ]
  },
  {
   "cell_type": "markdown",
   "metadata": {},
   "source": [
    "Manually correct some missing values... Added to prepare.py, so commenting out"
   ]
  },
  {
   "cell_type": "code",
   "execution_count": 20,
   "metadata": {},
   "outputs": [],
   "source": [
    "# # let's override the languages with the observations noted\n",
    "# df.language.loc[0] = 'LLVM'\n",
    "# df.language.loc[13] = 'JavaScript'\n",
    "# df.language.loc[14] = 'C'\n",
    "# df.language.loc[83] = 'Swift'\n",
    "# df.language.loc[139] = 'Swift'\n",
    "# df.language.loc[145] = 'Swift'\n",
    "# df.language.loc[149] = 'Swift'"
   ]
  },
  {
   "cell_type": "code",
   "execution_count": 21,
   "metadata": {},
   "outputs": [
    {
     "data": {
      "text/html": [
       "<div>\n",
       "<style scoped>\n",
       "    .dataframe tbody tr th:only-of-type {\n",
       "        vertical-align: middle;\n",
       "    }\n",
       "\n",
       "    .dataframe tbody tr th {\n",
       "        vertical-align: top;\n",
       "    }\n",
       "\n",
       "    .dataframe thead th {\n",
       "        text-align: right;\n",
       "    }\n",
       "</style>\n",
       "<table border=\"1\" class=\"dataframe\">\n",
       "  <thead>\n",
       "    <tr style=\"text-align: right;\">\n",
       "      <th></th>\n",
       "      <th>repo</th>\n",
       "      <th>language</th>\n",
       "      <th>target</th>\n",
       "      <th>original</th>\n",
       "      <th>clean</th>\n",
       "      <th>stemmed</th>\n",
       "      <th>lemmatized</th>\n",
       "    </tr>\n",
       "  </thead>\n",
       "  <tbody>\n",
       "    <tr>\n",
       "      <th>123</th>\n",
       "      <td>apple/ml-transcript-translation-consistency-ra...</td>\n",
       "      <td>None</td>\n",
       "      <td>other</td>\n",
       "      <td># Human Ratings of Transcription/Translation C...</td>\n",
       "      <td>human ratings transcriptiontranslation consist...</td>\n",
       "      <td>human rate transcriptiontransl consist thi rep...</td>\n",
       "      <td>human rating transcriptiontranslation consiste...</td>\n",
       "    </tr>\n",
       "  </tbody>\n",
       "</table>\n",
       "</div>"
      ],
      "text/plain": [
       "                                                  repo language target  \\\n",
       "123  apple/ml-transcript-translation-consistency-ra...     None  other   \n",
       "\n",
       "                                              original  \\\n",
       "123  # Human Ratings of Transcription/Translation C...   \n",
       "\n",
       "                                                 clean  \\\n",
       "123  human ratings transcriptiontranslation consist...   \n",
       "\n",
       "                                               stemmed  \\\n",
       "123  human rate transcriptiontransl consist thi rep...   \n",
       "\n",
       "                                            lemmatized  \n",
       "123  human rating transcriptiontranslation consiste...  "
      ]
     },
     "execution_count": 21,
     "metadata": {},
     "output_type": "execute_result"
    }
   ],
   "source": [
    "df[df.language.isnull()]"
   ]
  },
  {
   "cell_type": "code",
   "execution_count": 23,
   "metadata": {},
   "outputs": [
    {
     "data": {
      "text/html": [
       "<div>\n",
       "<style scoped>\n",
       "    .dataframe tbody tr th:only-of-type {\n",
       "        vertical-align: middle;\n",
       "    }\n",
       "\n",
       "    .dataframe tbody tr th {\n",
       "        vertical-align: top;\n",
       "    }\n",
       "\n",
       "    .dataframe thead th {\n",
       "        text-align: right;\n",
       "    }\n",
       "</style>\n",
       "<table border=\"1\" class=\"dataframe\">\n",
       "  <thead>\n",
       "    <tr style=\"text-align: right;\">\n",
       "      <th></th>\n",
       "      <th>repo</th>\n",
       "      <th>language</th>\n",
       "      <th>target</th>\n",
       "      <th>original</th>\n",
       "      <th>clean</th>\n",
       "      <th>stemmed</th>\n",
       "      <th>lemmatized</th>\n",
       "    </tr>\n",
       "  </thead>\n",
       "  <tbody>\n",
       "  </tbody>\n",
       "</table>\n",
       "</div>"
      ],
      "text/plain": [
       "Empty DataFrame\n",
       "Columns: [repo, language, target, original, clean, stemmed, lemmatized]\n",
       "Index: []"
      ]
     },
     "execution_count": 23,
     "metadata": {},
     "output_type": "execute_result"
    }
   ],
   "source": [
    "df[df.target.isnull()]"
   ]
  },
  {
   "cell_type": "markdown",
   "metadata": {},
   "source": [
    "---"
   ]
  },
  {
   "cell_type": "markdown",
   "metadata": {},
   "source": [
    "## Explore"
   ]
  },
  {
   "cell_type": "markdown",
   "metadata": {},
   "source": [
    "- Make word lists per language family (swift, python, c, other)\n",
    "- Look at word frequency by langage family\n",
    "- Check out bigrams and trigrams\n",
    "- Wordclouds and other visuals"
   ]
  }
 ],
 "metadata": {
  "interpreter": {
   "hash": "38cca0c38332a56087b24af0bc80247f4fced29cb4f7f437d91dc159adec9c4e"
  },
  "kernelspec": {
   "display_name": "Python 3.8.12 ('base')",
   "language": "python",
   "name": "python3"
  },
  "language_info": {
   "codemirror_mode": {
    "name": "ipython",
    "version": 3
   },
   "file_extension": ".py",
   "mimetype": "text/x-python",
   "name": "python",
   "nbconvert_exporter": "python",
   "pygments_lexer": "ipython3",
   "version": "3.8.12"
  },
  "orig_nbformat": 4
 },
 "nbformat": 4,
 "nbformat_minor": 2
}
