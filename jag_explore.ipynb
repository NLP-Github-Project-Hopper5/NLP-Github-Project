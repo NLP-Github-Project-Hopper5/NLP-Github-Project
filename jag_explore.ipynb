{
 "cells": [
  {
   "cell_type": "code",
   "execution_count": 1,
   "metadata": {},
   "outputs": [],
   "source": [
    "import re, os\n",
    "import unicodedata\n",
    "import pandas as pd\n",
    "import seaborn as sns\n",
    "import matplotlib.pyplot as plt\n",
    "import nltk\n",
    "import nltk.sentiment\n",
    "\n",
    "from requests import get\n",
    "from bs4 import BeautifulSoup\n",
    "\n",
    "from wordcloud import WordCloud\n",
    "\n",
    "\n",
    "plt.rc('figure', figsize=(13, 7))\n",
    "plt.style.use('seaborn-darkgrid')"
   ]
  },
  {
   "cell_type": "code",
   "execution_count": 2,
   "metadata": {},
   "outputs": [],
   "source": [
    "import acquire"
   ]
  },
  {
   "cell_type": "markdown",
   "metadata": {},
   "source": [
    "---"
   ]
  },
  {
   "cell_type": "markdown",
   "metadata": {},
   "source": [
    "## Acquire data"
   ]
  },
  {
   "cell_type": "code",
   "execution_count": 3,
   "metadata": {},
   "outputs": [],
   "source": [
    "def get_all_repository_urls(url): # repository url\n",
    "    # Get max page.\n",
    "    response = get(url)\n",
    "    soup = BeautifulSoup(response.text)\n",
    "    print('Finding max page for repositories...')\n",
    "    max_page = int(soup.find('div', role='navigation').text[-6])\n",
    "    print(f'Max page found: {max_page}')\n",
    "    page = 1\n",
    "    repository_links = []\n",
    "    print('Starting loop...')\n",
    "    for n in range(max_page):\n",
    "        print(n+1, 'iteration')\n",
    "        print(f'Pulling data from {url}')\n",
    "        # Reset soup.\n",
    "        response = get(url)\n",
    "        soup = BeautifulSoup(response.text)\n",
    "        # Get all the repositories from the page.\n",
    "        repositories = soup.find_all('a', itemprop='name codeRepository') \n",
    "        print('Fetching links for repositories...')\n",
    "        for repo in repositories:\n",
    "            repository_links.append(repo.get('href'))\n",
    "        git = 'https://github.com/'\n",
    "        next_page = soup.find('a', class_='next_page').get('href')[:-1]\n",
    "        ## Use this line of code to get the url for the next page.\n",
    "        if page <= 4:\n",
    "            url = git + next_page + str(page + 1)\n",
    "            page += 1\n",
    "        else:\n",
    "            return repository_links\n"
   ]
  },
  {
   "cell_type": "code",
   "execution_count": 4,
   "metadata": {},
   "outputs": [
    {
     "name": "stdout",
     "output_type": "stream",
     "text": [
      "Finding max page for repositories...\n",
      "Max page found: 6\n",
      "Starting loop...\n",
      "1 iteration\n",
      "Pulling data from https://github.com/orgs/apple/repositories\n",
      "Fetching links for repositories...\n",
      "2 iteration\n",
      "Pulling data from https://github.com//orgs/apple/repositories?page=2\n",
      "Fetching links for repositories...\n",
      "3 iteration\n",
      "Pulling data from https://github.com//orgs/apple/repositories?page=3\n",
      "Fetching links for repositories...\n",
      "4 iteration\n",
      "Pulling data from https://github.com//orgs/apple/repositories?page=4\n",
      "Fetching links for repositories...\n",
      "5 iteration\n",
      "Pulling data from https://github.com//orgs/apple/repositories?page=5\n",
      "Fetching links for repositories...\n"
     ]
    }
   ],
   "source": [
    "repository_links = get_all_repository_urls('https://github.com/orgs/apple/repositories')"
   ]
  },
  {
   "cell_type": "code",
   "execution_count": 5,
   "metadata": {},
   "outputs": [],
   "source": [
    "import acquire_jg"
   ]
  },
  {
   "cell_type": "code",
   "execution_count": 16,
   "metadata": {},
   "outputs": [],
   "source": [
    "df = pd.read_json('data.json')"
   ]
  },
  {
   "cell_type": "code",
   "execution_count": 17,
   "metadata": {},
   "outputs": [
    {
     "data": {
      "text/html": [
       "<div>\n",
       "<style scoped>\n",
       "    .dataframe tbody tr th:only-of-type {\n",
       "        vertical-align: middle;\n",
       "    }\n",
       "\n",
       "    .dataframe tbody tr th {\n",
       "        vertical-align: top;\n",
       "    }\n",
       "\n",
       "    .dataframe thead th {\n",
       "        text-align: right;\n",
       "    }\n",
       "</style>\n",
       "<table border=\"1\" class=\"dataframe\">\n",
       "  <thead>\n",
       "    <tr style=\"text-align: right;\">\n",
       "      <th></th>\n",
       "      <th>repo</th>\n",
       "      <th>language</th>\n",
       "      <th>readme_contents</th>\n",
       "    </tr>\n",
       "  </thead>\n",
       "  <tbody>\n",
       "    <tr>\n",
       "      <th>0</th>\n",
       "      <td>apple/llvm-project</td>\n",
       "      <td>None</td>\n",
       "      <td># Apple's fork of llvm-project\\n\\nThis is Appl...</td>\n",
       "    </tr>\n",
       "    <tr>\n",
       "      <th>1</th>\n",
       "      <td>apple/swift-argument-parser</td>\n",
       "      <td>Swift</td>\n",
       "      <td># Swift Argument Parser\\n\\n## Usage\\n\\nBegin b...</td>\n",
       "    </tr>\n",
       "    <tr>\n",
       "      <th>2</th>\n",
       "      <td>apple/swift-docc</td>\n",
       "      <td>Swift</td>\n",
       "      <td># Swift-DocC\\n\\nSwift-DocC is a documentation ...</td>\n",
       "    </tr>\n",
       "    <tr>\n",
       "      <th>3</th>\n",
       "      <td>apple/swift</td>\n",
       "      <td>C++</td>\n",
       "      <td>&lt;img src=\"https://swift.org/assets/images/swif...</td>\n",
       "    </tr>\n",
       "    <tr>\n",
       "      <th>4</th>\n",
       "      <td>apple/sourcekit-lsp</td>\n",
       "      <td>Swift</td>\n",
       "      <td># SourceKit-LSP\\n\\nSourceKit-LSP is an impleme...</td>\n",
       "    </tr>\n",
       "    <tr>\n",
       "      <th>...</th>\n",
       "      <td>...</td>\n",
       "      <td>...</td>\n",
       "      <td>...</td>\n",
       "    </tr>\n",
       "    <tr>\n",
       "      <th>146</th>\n",
       "      <td>apple/ccs-caldavclientlibrary</td>\n",
       "      <td>HTML</td>\n",
       "      <td>README for CalDAVClientLibrary\\n\\nINTRODUCTION...</td>\n",
       "    </tr>\n",
       "    <tr>\n",
       "      <th>147</th>\n",
       "      <td>apple/ccs-pyosxframeworks</td>\n",
       "      <td>Python</td>\n",
       "      <td>Getting Started\\n===============\\n\\nThis is a ...</td>\n",
       "    </tr>\n",
       "    <tr>\n",
       "      <th>148</th>\n",
       "      <td>apple/ccs-pysecuretransport</td>\n",
       "      <td>Python</td>\n",
       "      <td>Getting Started\\n===============\\n\\nOS X Secur...</td>\n",
       "    </tr>\n",
       "    <tr>\n",
       "      <th>149</th>\n",
       "      <td>apple/swift-protobuf-test-conformance</td>\n",
       "      <td>None</td>\n",
       "      <td>&lt;img src=\"https://swift.org/assets/images/swif...</td>\n",
       "    </tr>\n",
       "    <tr>\n",
       "      <th>150</th>\n",
       "      <td>apple/darwin-libpthread</td>\n",
       "      <td>C</td>\n",
       "      <td></td>\n",
       "    </tr>\n",
       "  </tbody>\n",
       "</table>\n",
       "<p>151 rows × 3 columns</p>\n",
       "</div>"
      ],
      "text/plain": [
       "                                      repo language  \\\n",
       "0                       apple/llvm-project     None   \n",
       "1              apple/swift-argument-parser    Swift   \n",
       "2                         apple/swift-docc    Swift   \n",
       "3                              apple/swift      C++   \n",
       "4                      apple/sourcekit-lsp    Swift   \n",
       "..                                     ...      ...   \n",
       "146          apple/ccs-caldavclientlibrary     HTML   \n",
       "147              apple/ccs-pyosxframeworks   Python   \n",
       "148            apple/ccs-pysecuretransport   Python   \n",
       "149  apple/swift-protobuf-test-conformance     None   \n",
       "150                apple/darwin-libpthread        C   \n",
       "\n",
       "                                       readme_contents  \n",
       "0    # Apple's fork of llvm-project\\n\\nThis is Appl...  \n",
       "1    # Swift Argument Parser\\n\\n## Usage\\n\\nBegin b...  \n",
       "2    # Swift-DocC\\n\\nSwift-DocC is a documentation ...  \n",
       "3    <img src=\"https://swift.org/assets/images/swif...  \n",
       "4    # SourceKit-LSP\\n\\nSourceKit-LSP is an impleme...  \n",
       "..                                                 ...  \n",
       "146  README for CalDAVClientLibrary\\n\\nINTRODUCTION...  \n",
       "147  Getting Started\\n===============\\n\\nThis is a ...  \n",
       "148  Getting Started\\n===============\\n\\nOS X Secur...  \n",
       "149  <img src=\"https://swift.org/assets/images/swif...  \n",
       "150                                                     \n",
       "\n",
       "[151 rows x 3 columns]"
      ]
     },
     "execution_count": 17,
     "metadata": {},
     "output_type": "execute_result"
    }
   ],
   "source": [
    "df"
   ]
  },
  {
   "cell_type": "code",
   "execution_count": 18,
   "metadata": {},
   "outputs": [
    {
     "data": {
      "text/plain": [
       "Swift               65\n",
       "Python              38\n",
       "C++                 15\n",
       "C                   11\n",
       "JavaScript           2\n",
       "Java                 2\n",
       "Jupyter Notebook     2\n",
       "HTML                 2\n",
       "Dockerfile           1\n",
       "Markdown             1\n",
       "Shell                1\n",
       "R                    1\n",
       "Starlark             1\n",
       "LLVM                 1\n",
       "Name: language, dtype: int64"
      ]
     },
     "execution_count": 18,
     "metadata": {},
     "output_type": "execute_result"
    }
   ],
   "source": [
    "df.language.value_counts()"
   ]
  },
  {
   "cell_type": "markdown",
   "metadata": {},
   "source": [
    "Looks like our categories for classification will be Swift, Python, C (combined C & C++), and other. Can make a new column mapping that target."
   ]
  },
  {
   "cell_type": "markdown",
   "metadata": {},
   "source": [
    "---"
   ]
  },
  {
   "cell_type": "markdown",
   "metadata": {},
   "source": [
    "## Prepare Data\n",
    "\n",
    "- Add column for target language class\n",
    "- Add column for clean, lemmatized, etc.\n",
    "- Split word list by language"
   ]
  },
  {
   "cell_type": "code",
   "execution_count": 19,
   "metadata": {},
   "outputs": [
    {
     "data": {
      "text/plain": [
       "(151, 3)"
      ]
     },
     "execution_count": 19,
     "metadata": {},
     "output_type": "execute_result"
    }
   ],
   "source": [
    "df.shape"
   ]
  },
  {
   "cell_type": "code",
   "execution_count": 20,
   "metadata": {},
   "outputs": [
    {
     "data": {
      "text/html": [
       "<div>\n",
       "<style scoped>\n",
       "    .dataframe tbody tr th:only-of-type {\n",
       "        vertical-align: middle;\n",
       "    }\n",
       "\n",
       "    .dataframe tbody tr th {\n",
       "        vertical-align: top;\n",
       "    }\n",
       "\n",
       "    .dataframe thead th {\n",
       "        text-align: right;\n",
       "    }\n",
       "</style>\n",
       "<table border=\"1\" class=\"dataframe\">\n",
       "  <thead>\n",
       "    <tr style=\"text-align: right;\">\n",
       "      <th></th>\n",
       "      <th>repo</th>\n",
       "      <th>language</th>\n",
       "      <th>readme_contents</th>\n",
       "    </tr>\n",
       "  </thead>\n",
       "  <tbody>\n",
       "    <tr>\n",
       "      <th>0</th>\n",
       "      <td>apple/llvm-project</td>\n",
       "      <td>None</td>\n",
       "      <td># Apple's fork of llvm-project\\n\\nThis is Appl...</td>\n",
       "    </tr>\n",
       "    <tr>\n",
       "      <th>1</th>\n",
       "      <td>apple/swift-argument-parser</td>\n",
       "      <td>Swift</td>\n",
       "      <td># Swift Argument Parser\\n\\n## Usage\\n\\nBegin b...</td>\n",
       "    </tr>\n",
       "    <tr>\n",
       "      <th>2</th>\n",
       "      <td>apple/swift-docc</td>\n",
       "      <td>Swift</td>\n",
       "      <td># Swift-DocC\\n\\nSwift-DocC is a documentation ...</td>\n",
       "    </tr>\n",
       "    <tr>\n",
       "      <th>3</th>\n",
       "      <td>apple/swift</td>\n",
       "      <td>C++</td>\n",
       "      <td>&lt;img src=\"https://swift.org/assets/images/swif...</td>\n",
       "    </tr>\n",
       "    <tr>\n",
       "      <th>4</th>\n",
       "      <td>apple/sourcekit-lsp</td>\n",
       "      <td>Swift</td>\n",
       "      <td># SourceKit-LSP\\n\\nSourceKit-LSP is an impleme...</td>\n",
       "    </tr>\n",
       "    <tr>\n",
       "      <th>5</th>\n",
       "      <td>apple/foundationdb</td>\n",
       "      <td>C++</td>\n",
       "      <td>&lt;img alt=\"FoundationDB logo\" src=\"documentatio...</td>\n",
       "    </tr>\n",
       "    <tr>\n",
       "      <th>6</th>\n",
       "      <td>apple/swift-protobuf</td>\n",
       "      <td>Swift</td>\n",
       "      <td>&lt;img src=\"https://swift.org/assets/images/swif...</td>\n",
       "    </tr>\n",
       "    <tr>\n",
       "      <th>7</th>\n",
       "      <td>apple/swift-llbuild</td>\n",
       "      <td>C++</td>\n",
       "      <td>llbuild\\n=======\\n\\n*A low-level build system....</td>\n",
       "    </tr>\n",
       "    <tr>\n",
       "      <th>8</th>\n",
       "      <td>apple/swift-syntax</td>\n",
       "      <td>Swift</td>\n",
       "      <td># SwiftSyntax\\n\\nSwiftSyntax is a set of Swift...</td>\n",
       "    </tr>\n",
       "    <tr>\n",
       "      <th>9</th>\n",
       "      <td>apple/swift-package-manager</td>\n",
       "      <td>Swift</td>\n",
       "      <td># Swift Package Manager Project\\n\\nThe Swift P...</td>\n",
       "    </tr>\n",
       "    <tr>\n",
       "      <th>10</th>\n",
       "      <td>apple/swift-source-compat-suite</td>\n",
       "      <td>Python</td>\n",
       "      <td># Swift Source Compatibility Suite\\n\\nSource c...</td>\n",
       "    </tr>\n",
       "    <tr>\n",
       "      <th>11</th>\n",
       "      <td>apple/swift-markdown</td>\n",
       "      <td>Swift</td>\n",
       "      <td># Swift Markdown\\n\\nSwift `Markdown` is a Swif...</td>\n",
       "    </tr>\n",
       "    <tr>\n",
       "      <th>12</th>\n",
       "      <td>apple/swift-docc-symbolkit</td>\n",
       "      <td>Swift</td>\n",
       "      <td># SymbolKit \\n\\nThe specification and referenc...</td>\n",
       "    </tr>\n",
       "    <tr>\n",
       "      <th>13</th>\n",
       "      <td>apple/swift-docc-render-artifact</td>\n",
       "      <td>None</td>\n",
       "      <td># Swift-DocC-Render-Artifact\\n\\nThis repositor...</td>\n",
       "    </tr>\n",
       "    <tr>\n",
       "      <th>14</th>\n",
       "      <td>apple/swift-lmdb</td>\n",
       "      <td>None</td>\n",
       "      <td># CLMDB\\n\\nCLMDB is a SwiftPM package wrapper ...</td>\n",
       "    </tr>\n",
       "    <tr>\n",
       "      <th>15</th>\n",
       "      <td>apple/swift-tools-support-core</td>\n",
       "      <td>Swift</td>\n",
       "      <td>swift-tools-support-core\\n====================...</td>\n",
       "    </tr>\n",
       "    <tr>\n",
       "      <th>16</th>\n",
       "      <td>apple/swift-driver</td>\n",
       "      <td>Swift</td>\n",
       "      <td># Swift Compiler Driver\\n\\nSwift's compiler dr...</td>\n",
       "    </tr>\n",
       "    <tr>\n",
       "      <th>17</th>\n",
       "      <td>apple/indexstore-db</td>\n",
       "      <td>C++</td>\n",
       "      <td># IndexStoreDB\\n\\nIndexStoreDB is a source cod...</td>\n",
       "    </tr>\n",
       "    <tr>\n",
       "      <th>18</th>\n",
       "      <td>apple/swift-stress-tester</td>\n",
       "      <td>Swift</td>\n",
       "      <td>&lt;img src=\"https://swift.org/assets/images/swif...</td>\n",
       "    </tr>\n",
       "    <tr>\n",
       "      <th>19</th>\n",
       "      <td>apple/swift-xcode-playground-support</td>\n",
       "      <td>Swift</td>\n",
       "      <td>\\n# Swift Xcode Playground Support\\n\\n**Welcom...</td>\n",
       "    </tr>\n",
       "  </tbody>\n",
       "</table>\n",
       "</div>"
      ],
      "text/plain": [
       "                                    repo language  \\\n",
       "0                     apple/llvm-project     None   \n",
       "1            apple/swift-argument-parser    Swift   \n",
       "2                       apple/swift-docc    Swift   \n",
       "3                            apple/swift      C++   \n",
       "4                    apple/sourcekit-lsp    Swift   \n",
       "5                     apple/foundationdb      C++   \n",
       "6                   apple/swift-protobuf    Swift   \n",
       "7                    apple/swift-llbuild      C++   \n",
       "8                     apple/swift-syntax    Swift   \n",
       "9            apple/swift-package-manager    Swift   \n",
       "10       apple/swift-source-compat-suite   Python   \n",
       "11                  apple/swift-markdown    Swift   \n",
       "12            apple/swift-docc-symbolkit    Swift   \n",
       "13      apple/swift-docc-render-artifact     None   \n",
       "14                      apple/swift-lmdb     None   \n",
       "15        apple/swift-tools-support-core    Swift   \n",
       "16                    apple/swift-driver    Swift   \n",
       "17                   apple/indexstore-db      C++   \n",
       "18             apple/swift-stress-tester    Swift   \n",
       "19  apple/swift-xcode-playground-support    Swift   \n",
       "\n",
       "                                      readme_contents  \n",
       "0   # Apple's fork of llvm-project\\n\\nThis is Appl...  \n",
       "1   # Swift Argument Parser\\n\\n## Usage\\n\\nBegin b...  \n",
       "2   # Swift-DocC\\n\\nSwift-DocC is a documentation ...  \n",
       "3   <img src=\"https://swift.org/assets/images/swif...  \n",
       "4   # SourceKit-LSP\\n\\nSourceKit-LSP is an impleme...  \n",
       "5   <img alt=\"FoundationDB logo\" src=\"documentatio...  \n",
       "6   <img src=\"https://swift.org/assets/images/swif...  \n",
       "7   llbuild\\n=======\\n\\n*A low-level build system....  \n",
       "8   # SwiftSyntax\\n\\nSwiftSyntax is a set of Swift...  \n",
       "9   # Swift Package Manager Project\\n\\nThe Swift P...  \n",
       "10  # Swift Source Compatibility Suite\\n\\nSource c...  \n",
       "11  # Swift Markdown\\n\\nSwift `Markdown` is a Swif...  \n",
       "12  # SymbolKit \\n\\nThe specification and referenc...  \n",
       "13  # Swift-DocC-Render-Artifact\\n\\nThis repositor...  \n",
       "14  # CLMDB\\n\\nCLMDB is a SwiftPM package wrapper ...  \n",
       "15  swift-tools-support-core\\n====================...  \n",
       "16  # Swift Compiler Driver\\n\\nSwift's compiler dr...  \n",
       "17  # IndexStoreDB\\n\\nIndexStoreDB is a source cod...  \n",
       "18  <img src=\"https://swift.org/assets/images/swif...  \n",
       "19  \\n# Swift Xcode Playground Support\\n\\n**Welcom...  "
      ]
     },
     "execution_count": 20,
     "metadata": {},
     "output_type": "execute_result"
    }
   ],
   "source": [
    "df.head(20)"
   ]
  },
  {
   "cell_type": "code",
   "execution_count": 21,
   "metadata": {},
   "outputs": [
    {
     "data": {
      "text/html": [
       "<div>\n",
       "<style scoped>\n",
       "    .dataframe tbody tr th:only-of-type {\n",
       "        vertical-align: middle;\n",
       "    }\n",
       "\n",
       "    .dataframe tbody tr th {\n",
       "        vertical-align: top;\n",
       "    }\n",
       "\n",
       "    .dataframe thead th {\n",
       "        text-align: right;\n",
       "    }\n",
       "</style>\n",
       "<table border=\"1\" class=\"dataframe\">\n",
       "  <thead>\n",
       "    <tr style=\"text-align: right;\">\n",
       "      <th></th>\n",
       "      <th>repo</th>\n",
       "      <th>language</th>\n",
       "      <th>original</th>\n",
       "    </tr>\n",
       "  </thead>\n",
       "  <tbody>\n",
       "    <tr>\n",
       "      <th>0</th>\n",
       "      <td>apple/llvm-project</td>\n",
       "      <td>None</td>\n",
       "      <td># Apple's fork of llvm-project\\n\\nThis is Appl...</td>\n",
       "    </tr>\n",
       "    <tr>\n",
       "      <th>1</th>\n",
       "      <td>apple/swift-argument-parser</td>\n",
       "      <td>Swift</td>\n",
       "      <td># Swift Argument Parser\\n\\n## Usage\\n\\nBegin b...</td>\n",
       "    </tr>\n",
       "    <tr>\n",
       "      <th>2</th>\n",
       "      <td>apple/swift-docc</td>\n",
       "      <td>Swift</td>\n",
       "      <td># Swift-DocC\\n\\nSwift-DocC is a documentation ...</td>\n",
       "    </tr>\n",
       "    <tr>\n",
       "      <th>3</th>\n",
       "      <td>apple/swift</td>\n",
       "      <td>C++</td>\n",
       "      <td>&lt;img src=\"https://swift.org/assets/images/swif...</td>\n",
       "    </tr>\n",
       "    <tr>\n",
       "      <th>4</th>\n",
       "      <td>apple/sourcekit-lsp</td>\n",
       "      <td>Swift</td>\n",
       "      <td># SourceKit-LSP\\n\\nSourceKit-LSP is an impleme...</td>\n",
       "    </tr>\n",
       "  </tbody>\n",
       "</table>\n",
       "</div>"
      ],
      "text/plain": [
       "                          repo language  \\\n",
       "0           apple/llvm-project     None   \n",
       "1  apple/swift-argument-parser    Swift   \n",
       "2             apple/swift-docc    Swift   \n",
       "3                  apple/swift      C++   \n",
       "4          apple/sourcekit-lsp    Swift   \n",
       "\n",
       "                                            original  \n",
       "0  # Apple's fork of llvm-project\\n\\nThis is Appl...  \n",
       "1  # Swift Argument Parser\\n\\n## Usage\\n\\nBegin b...  \n",
       "2  # Swift-DocC\\n\\nSwift-DocC is a documentation ...  \n",
       "3  <img src=\"https://swift.org/assets/images/swif...  \n",
       "4  # SourceKit-LSP\\n\\nSourceKit-LSP is an impleme...  "
      ]
     },
     "execution_count": 21,
     "metadata": {},
     "output_type": "execute_result"
    }
   ],
   "source": [
    "df.rename(columns={'readme_contents': 'original'}, inplace=True)\n",
    "df.head()"
   ]
  },
  {
   "cell_type": "code",
   "execution_count": 22,
   "metadata": {},
   "outputs": [
    {
     "data": {
      "text/plain": [
       "(151, 3)"
      ]
     },
     "execution_count": 22,
     "metadata": {},
     "output_type": "execute_result"
    }
   ],
   "source": [
    "df.shape"
   ]
  },
  {
   "cell_type": "code",
   "execution_count": 13,
   "metadata": {},
   "outputs": [],
   "source": [
    "import prepare_curriculum"
   ]
  },
  {
   "cell_type": "code",
   "execution_count": 14,
   "metadata": {},
   "outputs": [],
   "source": [
    "import prepare_jag"
   ]
  },
  {
   "cell_type": "code",
   "execution_count": 23,
   "metadata": {},
   "outputs": [],
   "source": [
    "df = prepare_jag.prep_article_data(df, 'original')\n"
   ]
  },
  {
   "cell_type": "code",
   "execution_count": 24,
   "metadata": {},
   "outputs": [
    {
     "data": {
      "text/plain": [
       "(151, 6)"
      ]
     },
     "execution_count": 24,
     "metadata": {},
     "output_type": "execute_result"
    }
   ],
   "source": [
    "df.shape"
   ]
  },
  {
   "cell_type": "code",
   "execution_count": 25,
   "metadata": {},
   "outputs": [
    {
     "data": {
      "text/html": [
       "<div>\n",
       "<style scoped>\n",
       "    .dataframe tbody tr th:only-of-type {\n",
       "        vertical-align: middle;\n",
       "    }\n",
       "\n",
       "    .dataframe tbody tr th {\n",
       "        vertical-align: top;\n",
       "    }\n",
       "\n",
       "    .dataframe thead th {\n",
       "        text-align: right;\n",
       "    }\n",
       "</style>\n",
       "<table border=\"1\" class=\"dataframe\">\n",
       "  <thead>\n",
       "    <tr style=\"text-align: right;\">\n",
       "      <th></th>\n",
       "      <th>repo</th>\n",
       "      <th>language</th>\n",
       "      <th>original</th>\n",
       "      <th>clean</th>\n",
       "      <th>stemmed</th>\n",
       "      <th>lemmatized</th>\n",
       "    </tr>\n",
       "  </thead>\n",
       "  <tbody>\n",
       "    <tr>\n",
       "      <th>0</th>\n",
       "      <td>apple/llvm-project</td>\n",
       "      <td>None</td>\n",
       "      <td># Apple's fork of llvm-project\\n\\nThis is Appl...</td>\n",
       "      <td>apple ' fork llvmproject apple ' fork llvmproj...</td>\n",
       "      <td>appl ' fork llvmproject thi appl ' fork llvmpr...</td>\n",
       "      <td>apple ' fork llvmproject apple ' fork llvmproj...</td>\n",
       "    </tr>\n",
       "    <tr>\n",
       "      <th>1</th>\n",
       "      <td>apple/swift-argument-parser</td>\n",
       "      <td>Swift</td>\n",
       "      <td># Swift Argument Parser\\n\\n## Usage\\n\\nBegin b...</td>\n",
       "      <td>swift argument parser usage begin declaring ty...</td>\n",
       "      <td>swift argument parser usag begin declar type d...</td>\n",
       "      <td>swift argument parser usage begin declaring ty...</td>\n",
       "    </tr>\n",
       "    <tr>\n",
       "      <th>2</th>\n",
       "      <td>apple/swift-docc</td>\n",
       "      <td>Swift</td>\n",
       "      <td># Swift-DocC\\n\\nSwift-DocC is a documentation ...</td>\n",
       "      <td>swiftdocc swiftdocc documentation compiler swi...</td>\n",
       "      <td>swiftdocc swiftdocc document compil swift fram...</td>\n",
       "      <td>swiftdocc swiftdocc documentation compiler swi...</td>\n",
       "    </tr>\n",
       "    <tr>\n",
       "      <th>3</th>\n",
       "      <td>apple/swift</td>\n",
       "      <td>C++</td>\n",
       "      <td>&lt;img src=\"https://swift.org/assets/images/swif...</td>\n",
       "      <td>img srchttpsswiftorgassetsimagesswiftsvg altsw...</td>\n",
       "      <td>img srchttpsswiftorgassetsimagesswiftsvg altsw...</td>\n",
       "      <td>img srchttpsswiftorgassetsimagesswiftsvg altsw...</td>\n",
       "    </tr>\n",
       "    <tr>\n",
       "      <th>4</th>\n",
       "      <td>apple/sourcekit-lsp</td>\n",
       "      <td>Swift</td>\n",
       "      <td># SourceKit-LSP\\n\\nSourceKit-LSP is an impleme...</td>\n",
       "      <td>sourcekitlsp sourcekitlsp implementation langu...</td>\n",
       "      <td>sourcekitlsp sourcekitlsp implement languag se...</td>\n",
       "      <td>sourcekitlsp sourcekitlsp implementation langu...</td>\n",
       "    </tr>\n",
       "  </tbody>\n",
       "</table>\n",
       "</div>"
      ],
      "text/plain": [
       "                          repo language  \\\n",
       "0           apple/llvm-project     None   \n",
       "1  apple/swift-argument-parser    Swift   \n",
       "2             apple/swift-docc    Swift   \n",
       "3                  apple/swift      C++   \n",
       "4          apple/sourcekit-lsp    Swift   \n",
       "\n",
       "                                            original  \\\n",
       "0  # Apple's fork of llvm-project\\n\\nThis is Appl...   \n",
       "1  # Swift Argument Parser\\n\\n## Usage\\n\\nBegin b...   \n",
       "2  # Swift-DocC\\n\\nSwift-DocC is a documentation ...   \n",
       "3  <img src=\"https://swift.org/assets/images/swif...   \n",
       "4  # SourceKit-LSP\\n\\nSourceKit-LSP is an impleme...   \n",
       "\n",
       "                                               clean  \\\n",
       "0  apple ' fork llvmproject apple ' fork llvmproj...   \n",
       "1  swift argument parser usage begin declaring ty...   \n",
       "2  swiftdocc swiftdocc documentation compiler swi...   \n",
       "3  img srchttpsswiftorgassetsimagesswiftsvg altsw...   \n",
       "4  sourcekitlsp sourcekitlsp implementation langu...   \n",
       "\n",
       "                                             stemmed  \\\n",
       "0  appl ' fork llvmproject thi appl ' fork llvmpr...   \n",
       "1  swift argument parser usag begin declar type d...   \n",
       "2  swiftdocc swiftdocc document compil swift fram...   \n",
       "3  img srchttpsswiftorgassetsimagesswiftsvg altsw...   \n",
       "4  sourcekitlsp sourcekitlsp implement languag se...   \n",
       "\n",
       "                                          lemmatized  \n",
       "0  apple ' fork llvmproject apple ' fork llvmproj...  \n",
       "1  swift argument parser usage begin declaring ty...  \n",
       "2  swiftdocc swiftdocc documentation compiler swi...  \n",
       "3  img srchttpsswiftorgassetsimagesswiftsvg altsw...  \n",
       "4  sourcekitlsp sourcekitlsp implementation langu...  "
      ]
     },
     "execution_count": 25,
     "metadata": {},
     "output_type": "execute_result"
    }
   ],
   "source": [
    "df.head()"
   ]
  },
  {
   "cell_type": "code",
   "execution_count": null,
   "metadata": {},
   "outputs": [],
   "source": [
    "df.language.value_counts()"
   ]
  },
  {
   "cell_type": "code",
   "execution_count": null,
   "metadata": {},
   "outputs": [],
   "source": [
    "df['target']= "
   ]
  },
  {
   "cell_type": "code",
   "execution_count": null,
   "metadata": {},
   "outputs": [],
   "source": []
  },
  {
   "cell_type": "code",
   "execution_count": null,
   "metadata": {},
   "outputs": [],
   "source": []
  },
  {
   "cell_type": "markdown",
   "metadata": {},
   "source": [
    "---"
   ]
  },
  {
   "cell_type": "markdown",
   "metadata": {},
   "source": [
    "## Explore"
   ]
  },
  {
   "cell_type": "markdown",
   "metadata": {},
   "source": []
  }
 ],
 "metadata": {
  "interpreter": {
   "hash": "38cca0c38332a56087b24af0bc80247f4fced29cb4f7f437d91dc159adec9c4e"
  },
  "kernelspec": {
   "display_name": "Python 3.8.12 ('base')",
   "language": "python",
   "name": "python3"
  },
  "language_info": {
   "codemirror_mode": {
    "name": "ipython",
    "version": 3
   },
   "file_extension": ".py",
   "mimetype": "text/x-python",
   "name": "python",
   "nbconvert_exporter": "python",
   "pygments_lexer": "ipython3",
   "version": "3.8.12"
  },
  "orig_nbformat": 4
 },
 "nbformat": 4,
 "nbformat_minor": 2
}
